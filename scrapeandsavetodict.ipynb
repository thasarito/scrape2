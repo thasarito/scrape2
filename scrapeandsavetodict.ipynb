{
 "cells": [
  {
   "cell_type": "code",
   "execution_count": 1,
   "metadata": {
    "collapsed": true
   },
   "outputs": [],
   "source": [
    "from datetime import datetime\n",
    "import requests\n",
    "import numpy as np\n",
    "import pandas as pd\n",
    "import yaml\n",
    "import re\n",
    "from bs4 import BeautifulSoup\n",
    "import wikitextparser as wtp\n",
    "from ratelimit import rate_limited\n",
    "from operator import *\n",
    "\n",
    "def save_obj(obj, name ):\n",
    "    import pickle\n",
    "    with open('obj/'+ name + '.pkl', 'wb') as f:\n",
    "        pickle.dump(obj, f, pickle.HIGHEST_PROTOCOL)\n",
    "        \n",
    "def load_obj(name ):\n",
    "    import pickle\n",
    "    with open('obj/' + name + '.pkl', 'rb') as f:\n",
    "        return pickle.load(f)"
   ]
  },
  {
   "cell_type": "code",
   "execution_count": 2,
   "metadata": {
    "collapsed": true
   },
   "outputs": [],
   "source": [
    "@rate_limited(1, 30)\n",
    "def parseSquad(title):\n",
    "    '''\n",
    "    input: title of tournament\n",
    "    output: dictionary of participants of that tournament\n",
    "    '''\n",
    "    headers = {\n",
    "    'User-Agent': 'Data for Research',\n",
    "    'From': 'terthasarit@live.com', \n",
    "    'Accept-Encoding': 'gzip'\n",
    "    }\n",
    "    titleurl = re.sub(' ', '%20', title)\n",
    "    r = requests.get(url='http://liquipedia.net/dota2/api.php?action=parse&format=json&page=' + titleurl + '&prop=wikitext%7Ctext', headers=headers)\n",
    "    json = r.json()\n",
    "    wiki = json.get('parse').get('wikitext').get('*')\n",
    "    wiki = re.sub('\\n', '', wiki)\n",
    "    parsed = wtp.parse(wiki)\n",
    "    templates = parsed.templates\n",
    "    squad = {}\n",
    "    for t in templates:\n",
    "        if str(t)[:11] == '{{TeamCard|':\n",
    "            for ar in t.arguments:\n",
    "                if (str(ar)[:5] == '|team'):\n",
    "                    teamname = re.sub(r'\\W+', '', ar.value).lower()\n",
    "                    squad[teamname] = {}\n",
    "                for i in range(1, 6):\n",
    "                    if (str(ar)[:4] == '|p' + str(i) + '='):\n",
    "                        squad[teamname]['pos' + str(i)] = re.sub(r'\\W+', '', ar.value).lower()  \n",
    "    return squad, json"
   ]
  },
  {
   "cell_type": "code",
   "execution_count": 3,
   "metadata": {
    "collapsed": true
   },
   "outputs": [],
   "source": [
    "def getEloDict(ifd):\n",
    "    '''\n",
    "    receive infomation dictionary of tournament and\n",
    "    return elodict\n",
    "    '''\n",
    "    start = re.sub('/', '-', ifd['start'])\n",
    "    end = re.sub('/', '-', ifd['end'])\n",
    "    #rating of startdate from datdota and turn into list of dict\n",
    "    urldat = 'http://www.datdota.com/api/ratings?date=' + start\n",
    "    htmldat = requests.get(urldat)\n",
    "    htmldat.encoding = 'utf-8'\n",
    "    elo = BeautifulSoup(htmldat.text, \"lxml\")\n",
    "    elodict = yaml.load(elo.text)\n",
    "    startelolist = elodict['data']   \n",
    "    #rating of enddate from datdota and turn into list of dict\n",
    "    urldat = 'http://www.datdota.com/api/ratings?date=' + end\n",
    "    htmldat = requests.get(urldat)\n",
    "    htmldat.encoding = 'utf-8'\n",
    "    elo = BeautifulSoup(htmldat.text, \"lxml\")\n",
    "    elodict = yaml.load(elo.text)\n",
    "    endelolist = elodict['data']\n",
    "    return (startelolist, endelolist)"
   ]
  },
  {
   "cell_type": "code",
   "execution_count": 4,
   "metadata": {
    "collapsed": true
   },
   "outputs": [],
   "source": [
    "def compareAndPut(df, squad, ifd, startelodict, endelodict):\n",
    "    for lqn, pdc in squad.items():\n",
    "        try:\n",
    "            teamName = comparedict[lqn]\n",
    "        except KeyError:\n",
    "            teamName = lqn\n",
    "        j = 0\n",
    "        for srt in startelodict:\n",
    "            for ert in endelodict:\n",
    "                if (teamName == re.sub(r'\\W+', '', srt['teamName']).lower()) & (teamName == re.sub(r'\\W+', '', ert['teamName']).lower()):\n",
    "                    j += 1\n",
    "                    for pos, id in pdc.items():\n",
    "                        df = df.append({\n",
    "                            'team': teamName,\n",
    "                            'position': pos,\n",
    "                            'id': id,\n",
    "                            'tour': ifd['title'],\n",
    "                            'prizeusd': ifd['prize'],\n",
    "                            'start': ifd['start'],\n",
    "                            'end': ifd['end'],\n",
    "                            'startelo': srt['elo64']['current'],\n",
    "                            'startglicko2mu': srt['glicko2']['mu'],\n",
    "                            'startglicko2phi': srt['glicko2']['phi'],\n",
    "                            'startglicko2rating': srt['glicko2']['rating'],\n",
    "                            'endelo': ert['elo64']['current'],\n",
    "                            'endglicko2mu': ert['glicko2']['mu'],\n",
    "                            'endglicko2phi': ert['glicko2']['phi'],\n",
    "                            'endglicko2rating': ert['glicko2']['rating']\n",
    "                        }, ignore_index=True)\n",
    "        if j == 0:\n",
    "            for pos, id in pdc.items():\n",
    "                if id == '':\n",
    "                    continue\n",
    "                else:\n",
    "                    df = df.append({\n",
    "                        'team': teamName,\n",
    "                        'position': pos,\n",
    "                        'id': id,\n",
    "                        'tour': ifd['title'],\n",
    "                        'prizeusd': ifd['prize'],\n",
    "                        'start': ifd['start'],\n",
    "                        'end': ifd['end'],\n",
    "                        'startelo': np.nan,\n",
    "                        'startglicko2mu': np.nan,\n",
    "                        'startglicko2phi': np.nan,\n",
    "                        'startglicko2rating': np.nan,\n",
    "                        'endelo': np.nan,\n",
    "                        'endglicko2mu': np.nan,\n",
    "                        'endglicko2phi': np.nan,\n",
    "                        'endglicko2rating': np.nan\n",
    "                    }, ignore_index=True)\n",
    "        \n",
    "    return df"
   ]
  },
  {
   "cell_type": "code",
   "execution_count": 5,
   "metadata": {
    "collapsed": true
   },
   "outputs": [],
   "source": [
    "alltour = load_obj('/dict/touranddate')\n",
    "comparedict = load_obj('/dict/lqtodat')"
   ]
  },
  {
   "cell_type": "code",
   "execution_count": 6,
   "metadata": {
    "collapsed": true
   },
   "outputs": [],
   "source": [
    "endti2 = '2012-09-02'\n",
    "endti7 = '2017-08-12'"
   ]
  },
  {
   "cell_type": "code",
   "execution_count": 11,
   "metadata": {},
   "outputs": [
    {
     "name": "stdout",
     "output_type": "stream",
     "text": [
      "Already Exist: starladderstarseriesseason1\n",
      "Extra Scraping: wcgasianchampionship2012\n",
      "Already Exist: raidcalldota2leagueseason1\n",
      "Already Exist: starladderstarseriesseason3\n",
      "Extra Scraping: gosuleagueseason4\n",
      "Extra Scraping: gosuleagueseason4division1\n",
      "Extra Scraping: thepremierleagueseason3\n",
      "Already Exist: g1championsleagueseason4\n",
      "Extra Scraping: electronicsportsworldcup2012\n",
      "Extra Scraping: gosuleagueseason5\n",
      "Extra Scraping: gosuleagueseason5division1\n",
      "Already Exist: starladderstarseriesseason4\n",
      "Already Exist: dreamhackwinter2012\n",
      "Already Exist: thedefenseseason3\n",
      "Already Exist: worldcybergames2012\n",
      "Extra Scraping: thoropen2012\n",
      "Already Exist: raidcalldota2leagueseason2\n",
      "Already Exist: asusopen2012finals\n",
      "Already Exist: theasia2012\n",
      "Already Exist: gleague2012season2\n",
      "Already Exist: thepremierleagueseason4\n",
      "Already Exist: starladderstarseriesseason5\n",
      "Already Exist: armaggeddondota2grandslamasia2013\n",
      "Already Exist: weplaydota2leagueseason1\n",
      "Already Exist: dreamhackdota2invitational\n",
      "Already Exist: g1championsleagueseason5\n",
      "Already Exist: raidcallemsonespringseason\n",
      "Already Exist: ritmixrussiandota2league\n",
      "Already Exist: techlabscup2013season1\n",
      "Already Exist: cursedota2invitational\n",
      "Already Exist: amdpremierleagueseason1\n",
      "Already Exist: dota2superleague\n",
      "Already Exist: rapturegamingnetworkleague20132014\n",
      "Already Exist: starladderstarseriesseason6\n",
      "Already Exist: thepremierleagueseason5\n",
      "Already Exist: raidcalldota2leagueseason3\n",
      "Already Exist: thedefenseseason4\n",
      "Already Exist: americandotaleagueseason1\n",
      "Already Exist: dreamhacksummer2013\n",
      "Already Exist: alienwarecup\n",
      "Already Exist: raidcallemsonesummerseason\n",
      "Already Exist: corsairgamingsummertournament2013\n",
      "Already Exist: nexonstarterleague\n",
      "Already Exist: e2maxl33tchampionship\n",
      "Already Exist: redbullecl2013dota2season\n",
      "Already Exist: amdpremierleagueseason2\n",
      "Already Exist: theinternational2013\n",
      "Already Exist: theinternational2013solotournament\n",
      "Already Exist: theinternational2013allstarmatch\n",
      "Already Exist: techlabscup2013season2\n",
      "Already Exist: starladderstarseriesseason7\n",
      "Already Exist: raidcallemsonefallseason\n",
      "Already Exist: sinacupsupernovadota2openseason1\n",
      "Already Exist: weplaydota2leagueseason2\n",
      "Already Exist: 2013wpcacedota2league\n",
      "Already Exist: techlabscup2013season3\n",
      "Already Exist: nexonsponsorshipleagueseason1\n",
      "Already Exist: dota2championsleagueseason1\n",
      "Already Exist: mlgfallinvitational\n",
      "Already Exist: fragbitemasters2013\n",
      "Already Exist: electronicsportsworldcup2013\n",
      "Already Exist: asusrogdreamleaguekickoffseason\n",
      "Already Exist: nationalelectronicsportstournament2013\n",
      "Already Exist: techlabscup2013grandfinals\n",
      "Already Exist: mlgchampionshipcolumbus\n",
      "Already Exist: starladderstarseriesseason8\n",
      "Already Exist: sinacupsupernovadota2openseason2\n",
      "Already Exist: nexonsponsorshipleagueseason2\n",
      "Already Exist: netolicproleague4west\n",
      "Already Exist: gleague2013\n",
      "Already Exist: fengyundota2tournament\n",
      "Already Exist: asiancybergames\n",
      "Already Exist: redbullecl2013grandfinals\n",
      "Already Exist: pinnaclesportsproam\n",
      "Already Exist: nexonsponsorshipleagueseason3\n",
      "Already Exist: dota2leagueseason4\n",
      "Already Exist: electronicsportsprimeshocktherapycup\n",
      "Already Exist: mlgtkoeurope\n",
      "Already Exist: mlgtkoamerica\n",
      "Already Exist: dota2championsleagueseason2\n",
      "Already Exist: koreandotaleague\n",
      "Already Exist: koreandotaleaguetier1\n",
      "Already Exist: xmgcaptainsdraftinvitational\n",
      "Already Exist: netolicproleague5east\n",
      "Already Exist: sinacupsupernovadota2openseason3\n",
      "Already Exist: asusrogdreamleagueseason1\n",
      "Already Exist: starladderstarseriesseason9\n",
      "Already Exist: monsterenergyinvitational\n",
      "Already Exist: ecl2014spring\n",
      "Already Exist: excellentmoscowcupseason1\n",
      "Already Exist: wpc2014\n",
      "Already Exist: hyperxd2lwesternchallenge\n",
      "Already Exist: fragbitemasters2014\n",
      "Already Exist: techlabscup2014season1\n",
      "Already Exist: americandotaleagueseason2\n",
      "Already Exist: wvwnationalelectronicsportsclassicapril\n",
      "Already Exist: dota2championsleagueseason3\n",
      "Already Exist: dreamhackbucharestinvitational\n",
      "Already Exist: koreadotaleagueseason2\n",
      "Already Exist: koreadotaleagueseason2tier1\n",
      "Already Exist: marstvdota2league2014\n",
      "Already Exist: techlabscup2014season2\n",
      "Already Exist: vgamestournament\n",
      "Already Exist: cdecnewstarchallenge\n",
      "Already Exist: thesummit1\n",
      "Already Exist: wvwnationalelectronicsportsclassicjune\n",
      "Already Exist: gestthechallengejune\n",
      "Already Exist: eslonefrankfurt2014\n",
      "Already Exist: theinternational2014\n",
      "Already Exist: theinternational2014solotournament\n",
      "Already Exist: koreadotaleagueseason3\n",
      "Already Exist: ileagueseason1\n",
      "Already Exist: starladderstarseriesseason10\n",
      "Already Exist: megafonbattlearena\n",
      "Already Exist: excellentmoscowcupseason2\n",
      "Already Exist: dota2championsleagueseason4\n",
      "Already Exist: worldesportchampionships2014\n",
      "Already Exist: sinacupsupernovadota2openseason5\n",
      "Already Exist: gameshowleagueseason1\n",
      "Already Exist: ecl2014autumn\n",
      "Already Exist: iesfasianchampionships\n",
      "Already Exist: nvidiagame24\n",
      "Already Exist: dotapitleagueseason2\n",
      "Already Exist: synergyleagueseason1\n",
      "Already Exist: worldcyberarena2014\n",
      "Already Exist: asusrogdreamleagueseason2\n",
      "Already Exist: brasilgamecup2014\n",
      "Already Exist: eslonenewyork2014\n",
      "Already Exist: gleague2014\n",
      "Already Exist: koreadotaleagueseason4\n",
      "Already Exist: nationalelectronicsportstournament2014\n",
      "Already Exist: xmgcaptainsdraft20\n",
      "Already Exist: msibeatit2014\n",
      "Already Exist: battleofcentraleuropeseason3\n",
      "Already Exist: iesf2014worldchampionship\n",
      "Already Exist: starladderstarseriesseason11\n",
      "Already Exist: ileagueseason2\n",
      "Already Exist: esportaldota2league\n",
      "Already Exist: thesummit2\n",
      "Already Exist: nationalelectronicsportsopen2014\n",
      "Already Exist: esportaldota2leagueinvitationaltournament1\n",
      "Already Exist: okdota2cup\n",
      "Already Exist: dota2leagueseason5\n",
      "Already Exist: dotapitleagueseason3\n",
      "Already Exist: joindotamlgproleagueseason1\n",
      "Already Exist: dota2asiachampionships2015\n",
      "Already Exist: dota2championsleagueseason5\n",
      "Already Exist: starladderstarseriesseason12\n",
      "Already Exist: majorallstarsdota2tournament\n",
      "Already Exist: asusrogdreamleagueseason3\n",
      "Already Exist: ileagueseason3\n",
      "Already Exist: 2015redbullbattlegroundsdota2\n",
      "Already Exist: vpgameproleagueseason1\n",
      "Already Exist: ecl2015spring\n",
      "Already Exist: worldcyberarena2015chineseproqualifiers\n",
      "Already Exist: joindotamlgproleagueseason2\n",
      "Already Exist: rogplayitcooldota2invitational\n",
      "Already Exist: worldcyberarena2015americanproqualifiers\n",
      "Already Exist: marstvdota2league2015springchineseleague\n",
      "Already Exist: mpglseason7sea\n",
      "Already Exist: gleague2015\n",
      "Already Exist: thesummit3\n",
      "Already Exist: marstvdota2league2015spring\n",
      "Already Exist: eslonefrankfurt2015\n",
      "Already Exist: viplancenter\n",
      "Already Exist: theinternational2015\n",
      "Already Exist: thedefenseseason5\n",
      "Already Exist: gamingparadise2015\n",
      "Already Exist: dota2championsleagueseason6\n",
      "Already Exist: worldcyberarena2015europeanproqualifiers\n",
      "Already Exist: asusrogdreamleagueseason4\n",
      "Already Exist: eslonenewyork2015\n",
      "Already Exist: worldcyberarena2015seaproqualifiers\n",
      "Already Exist: mlgworldfinals2015\n",
      "Already Exist: ecl2015autumn\n",
      "Already Exist: nanyangdota2championshipsseason1\n",
      "Already Exist: pgldota2proam\n",
      "Already Exist: dota2battlearena\n",
      "Already Exist: frankfurtmajor2015\n",
      "Already Exist: dota2canadacupseason6\n",
      "Already Exist: gameshowglobalesportscupseason1\n",
      "Already Exist: dota2championsleaguechristmascharitymagic\n",
      "Already Exist: thesummit4\n",
      "Already Exist: worldcyberarena2015\n",
      "Already Exist: dota2radiantdirecup2015\n",
      "Already Exist: shanghaidota2open1\n",
      "Already Exist: slileaguestarseriesseason1\n",
      "Already Exist: captainsdraft30\n",
      "Already Exist: marstvdota2league2015winter\n",
      "Already Exist: theshanghaimajor2016\n",
      "Already Exist: dotapitleagueseason4\n",
      "Already Exist: worldcyberarena2016chinesequalifierss1\n",
      "Already Exist: russianesportscup2016\n",
      "Already Exist: starladderileagueinvitationalseason1\n",
      "Already Exist: eslonemanila2016\n",
      "Already Exist: weplaydota2leagueseason3\n",
      "Already Exist: worldcyberarena2016seaqualifiers\n",
      "Already Exist: epicenter2016\n",
      "Already Exist: dota2professionalleagueseason1\n",
      "Already Exist: dreamleagueseason5\n",
      "Already Exist: themanilamajor2016\n",
      "Already Exist: worldcyberarena2016chinesequalifierss2\n",
      "Already Exist: eslonefrankfurt2016\n",
      "Already Exist: gleague2016\n",
      "Already Exist: nationalelectronicarena2016\n",
      "Already Exist: globalgrandmasters\n",
      "Already Exist: nanyangdota2championshipsseason2\n",
      "Already Exist: thesummit5\n",
      "Already Exist: vpgameproleagueseason2\n",
      "Already Exist: slileaguestarseriesseason2\n",
      "Already Exist: progamerleague2016pgl2016summer\n",
      "Already Exist: theinternational2016\n",
      "Already Exist: worldcyberarena2016eumainqualifier\n",
      "Already Exist: worldelectronicsportsgames2016middleeastafricafinals\n",
      "Already Exist: mpglsoutheastasianchampionship\n",
      "Already Exist: redbullheroicks\n"
     ]
    },
    {
     "name": "stdout",
     "output_type": "stream",
     "text": [
      "Already Exist: dota2professionalleagueseason2secondary\n",
      "Already Exist: shanghaidota2open2\n",
      "Already Exist: dota2professionalleagueseason2top\n",
      "Already Exist: marsdota2league2016autumn\n",
      "Already Exist: worldcyberarena2016chinesequalifierss3\n",
      "Already Exist: worldelectronicsportsgames2016europecisfinals\n",
      "Already Exist: dreamleagueseason6leagueplay\n",
      "Already Exist: nanyangdota2championshipscruisecup1\n",
      "Already Exist: dota2aceprovisional\n",
      "Already Exist: faceitinvitational\n",
      "Already Exist: worldelectronicsportsgames2016americasfinals\n",
      "Already Exist: rogmasters2016\n",
      "Already Exist: northernarenabeatinvitational\n",
      "Already Exist: worldelectronicsportsgames2016asiapacificfinals\n",
      "Already Exist: worldcyberarena2016amqualifiers\n",
      "Already Exist: thesummit6\n",
      "Already Exist: asusrogdreamleagueseason6\n",
      "Already Exist: thebostonmajor2016\n",
      "Already Exist: worldcyberarena2016\n",
      "Already Exist: chinatop2016\n",
      "Already Exist: eslonegenting2017\n",
      "Already Exist: worldelectronicsportsgames2016\n",
      "Already Exist: dotapitleagueseason5\n",
      "Already Exist: eliminationmode30\n",
      "Already Exist: starladderileaguestarseriesseason3\n",
      "Already Exist: dota2professionalleagueseason32017s1top\n",
      "Already Exist: dota2asiachampionships2017\n",
      "Already Exist: russianesportscup2017\n",
      "Already Exist: thekievmajor2017\n",
      "Already Exist: mrcatinvitationaleurope\n",
      "Already Exist: dreamleagueseason7eudivision\n",
      "Already Exist: starladderileagueinvitationalseason2\n",
      "Already Exist: themanilamasters\n",
      "Already Exist: dreamleagueseason7nadivision\n",
      "Already Exist: zotaccupmasters\n",
      "Extra Scraping: epicenter2017\n",
      "Already Exist: dotasummit7\n",
      "Already Exist: galaxybattles\n",
      "Extra Scraping: marsdota2league2017\n",
      "Extra Scraping: thefinalmatchseason1\n",
      "Already Exist: dreamleagueseason7\n",
      "Extra Scraping: theinternational2017\n",
      "Extra Scraping: theinternational2017specialevents\n",
      "Already Exist: amdsapphiredotapitleague\n",
      "Already Exist: dreamleagueseason8\n",
      "Wall time: 6min 6s\n"
     ]
    }
   ],
   "source": [
    "%%time\n",
    "errortitle = []\n",
    "df = pd.DataFrame(columns=['team', 'position', 'id', 'tour', 'prizeusd', 'start', 'end',\n",
    "                           'startelo', 'startglicko2mu', 'startglicko2phi', 'startglicko2rating', 'endelo', 'endglicko2mu', 'endglicko2phi', 'endglicko2rating'])\n",
    "for turl, ifd in alltour.items():\n",
    "    try:\n",
    "        try:\n",
    "            load_obj(re.sub(r'\\W+', '', ifd['title']).lower())\n",
    "            print('Already Exist: ' + re.sub(r'\\W+', '', ifd['title']).lower())\n",
    "        except FileNotFoundError:\n",
    "            if (pd.to_datetime(ifd['start'], format='%d/%m/%Y') > pd.to_datetime(endti2)) & (pd.to_datetime(ifd['end'], format='%d/%m/%Y') <= pd.to_datetime(endti7)):\n",
    "                print('Extra Scraping: ' + re.sub(r'\\W+', '', ifd['title']).lower())\n",
    "                ptc, lqjson = parseSquad(turl)\n",
    "                startelodict, endelodict = getEloDict(ifd)\n",
    "                save_obj({'wikitext': lqjson, 'startelodict': startelodict, 'endelodict': endelodict}, re.sub(r'\\W+', '', ifd['title']).lower() )\n",
    "                df = compareAndPut(df, ptc, ifd, startelodict, endelodict)\n",
    "    except:\n",
    "        print('Error: ' + turl)\n",
    "        errortitle = errortitle.append(turl)"
   ]
  },
  {
   "cell_type": "code",
   "execution_count": null,
   "metadata": {},
   "outputs": [],
   "source": [
    "turl"
   ]
  },
  {
   "cell_type": "code",
   "execution_count": null,
   "metadata": {
    "collapsed": true
   },
   "outputs": [],
   "source": [
    "tourleft = alltour.copy()\n",
    "for k, v in alltour.items():\n",
    "    del tourleft[k]\n",
    "    if k == 'Shanghai Dota 2 Open/1':\n",
    "        break"
   ]
  },
  {
   "cell_type": "code",
   "execution_count": null,
   "metadata": {},
   "outputs": [],
   "source": [
    "for k, v in alltour.items():\n",
    "    print(k)"
   ]
  },
  {
   "cell_type": "code",
   "execution_count": null,
   "metadata": {},
   "outputs": [],
   "source": [
    "alltour['Shanghai Dota 2 Open/1']"
   ]
  },
  {
   "cell_type": "code",
   "execution_count": null,
   "metadata": {},
   "outputs": [],
   "source": [
    "tourleft"
   ]
  },
  {
   "cell_type": "code",
   "execution_count": null,
   "metadata": {
    "collapsed": true
   },
   "outputs": [],
   "source": [
    "def correction(urllist):\n",
    "    for turl in urllist:\n",
    "        ifd = alltour[turl]\n",
    "        ptc, lqjson = parseSquad(turl)\n",
    "        startelodict, endelodict = getEloDict(ifd)\n",
    "        save_obj({'wikitext': lqjson, 'startelodict': startelodict, 'endelodict': endelodict}, re.sub(r'\\W+', '', ifd['title']).lower() )  "
   ]
  },
  {
   "cell_type": "code",
   "execution_count": null,
   "metadata": {
    "collapsed": true
   },
   "outputs": [],
   "source": [
    "turl = 'Dota 2 Radiant %26 Dire Cup/2015'\n",
    "ifd = alltour['Dota 2 Radiant & Dire Cup/2015']\n",
    "ptc, lqjson = parseSquad(turl)\n",
    "startelodict, endelodict = getEloDict(ifd)\n",
    "save_obj({'wikitext': lqjson, 'startelodict': startelodict, 'endelodict': endelodict}, re.sub(r'\\W+', '', ifd['title']).lower() )  "
   ]
  },
  {
   "cell_type": "code",
   "execution_count": null,
   "metadata": {
    "collapsed": true
   },
   "outputs": [],
   "source": [
    "urllist = ['Dota 2 Radiant %26 Dire Cup/2015']"
   ]
  },
  {
   "cell_type": "code",
   "execution_count": null,
   "metadata": {},
   "outputs": [],
   "source": [
    "correction(urllist)"
   ]
  },
  {
   "cell_type": "code",
   "execution_count": null,
   "metadata": {},
   "outputs": [],
   "source": [
    "len(alltour)"
   ]
  },
  {
   "cell_type": "code",
   "execution_count": null,
   "metadata": {
    "collapsed": true
   },
   "outputs": [],
   "source": [
    "i = 0"
   ]
  },
  {
   "cell_type": "code",
   "execution_count": null,
   "metadata": {},
   "outputs": [],
   "source": [
    "for turl, ifd in alltour.items():\n",
    "    if (pd.to_datetime(ifd['start']) > pd.to_datetime(endti2)) & (pd.to_datetime(ifd['end']) <= pd.to_datetime(endti7)):\n",
    "        print(turl)"
   ]
  },
  {
   "cell_type": "code",
   "execution_count": null,
   "metadata": {},
   "outputs": [],
   "source": [
    "i"
   ]
  },
  {
   "cell_type": "code",
   "execution_count": null,
   "metadata": {
    "collapsed": true
   },
   "outputs": [],
   "source": []
  },
  {
   "cell_type": "code",
   "execution_count": null,
   "metadata": {
    "collapsed": true
   },
   "outputs": [],
   "source": []
  },
  {
   "cell_type": "code",
   "execution_count": null,
   "metadata": {
    "collapsed": true
   },
   "outputs": [],
   "source": []
  },
  {
   "cell_type": "code",
   "execution_count": null,
   "metadata": {
    "collapsed": true
   },
   "outputs": [],
   "source": []
  },
  {
   "cell_type": "code",
   "execution_count": null,
   "metadata": {
    "collapsed": true
   },
   "outputs": [],
   "source": []
  },
  {
   "cell_type": "code",
   "execution_count": null,
   "metadata": {
    "collapsed": true
   },
   "outputs": [],
   "source": []
  },
  {
   "cell_type": "code",
   "execution_count": null,
   "metadata": {
    "collapsed": true
   },
   "outputs": [],
   "source": []
  },
  {
   "cell_type": "code",
   "execution_count": null,
   "metadata": {
    "collapsed": true
   },
   "outputs": [],
   "source": []
  },
  {
   "cell_type": "code",
   "execution_count": null,
   "metadata": {
    "collapsed": true
   },
   "outputs": [],
   "source": []
  },
  {
   "cell_type": "code",
   "execution_count": null,
   "metadata": {
    "collapsed": true
   },
   "outputs": [],
   "source": []
  },
  {
   "cell_type": "code",
   "execution_count": null,
   "metadata": {
    "collapsed": true
   },
   "outputs": [],
   "source": []
  }
 ],
 "metadata": {
  "kernelspec": {
   "display_name": "Python 3",
   "language": "python",
   "name": "python3"
  },
  "language_info": {
   "codemirror_mode": {
    "name": "ipython",
    "version": 3
   },
   "file_extension": ".py",
   "mimetype": "text/x-python",
   "name": "python",
   "nbconvert_exporter": "python",
   "pygments_lexer": "ipython3",
   "version": "3.6.3"
  }
 },
 "nbformat": 4,
 "nbformat_minor": 2
}
