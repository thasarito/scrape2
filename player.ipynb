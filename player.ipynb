{
 "cells": [
  {
   "cell_type": "code",
   "execution_count": 1,
   "metadata": {
    "collapsed": true
   },
   "outputs": [],
   "source": [
    "import requests\n",
    "import datetime\n",
    "import pandas as pd"
   ]
  },
  {
   "cell_type": "code",
   "execution_count": 2,
   "metadata": {
    "collapsed": true
   },
   "outputs": [],
   "source": [
    "r = requests.get(url='http://liquipedia.net/dota2/api.php?action=ask&query=[[%3A%2B]]+[[Has+age%3A%3A>0]]|%3FHas+id|%3FHas+role|%3FHas+birth+day|%3FHas+name|%3FHas+nationality|sort%3DHas+id|limit%3D500&format=json')\n",
    "json = r.json()"
   ]
  },
  {
   "cell_type": "code",
   "execution_count": 3,
   "metadata": {
    "collapsed": true
   },
   "outputs": [],
   "source": [
    "df = pd.DataFrame(columns=['cog', 'name', 'id', 'dob'])"
   ]
  },
  {
   "cell_type": "code",
   "execution_count": 4,
   "metadata": {
    "collapsed": true
   },
   "outputs": [],
   "source": [
    "for lname, ldata in json.get('query').get('results').items():\n",
    "    po = ldata.get('printouts')\n",
    "    pid = ldata.get('fulltext')\n",
    "    try:\n",
    "        cog = po.get('Has nationality')[0]\n",
    "    except IndexError:\n",
    "        cog = 'Nan' \n",
    "    try:\n",
    "        dob = pd.Timestamp.date(pd.to_datetime(po.get('Has birth day')[0]['timestamp'], unit='s'))\n",
    "    except IndexError:\n",
    "        dob = 'Nan'\n",
    "    try:\n",
    "        name = po.get('Has name')[0]\n",
    "    except IndexError:\n",
    "        name = 'Nan'        \n",
    "    df = df.append({'cog': cog, 'name': name, 'id': pid, 'dob': dob}, ignore_index=True)"
   ]
  },
  {
   "cell_type": "code",
   "execution_count": 12,
   "metadata": {},
   "outputs": [],
   "source": [
    "df['idlow'] = df.id"
   ]
  },
  {
   "cell_type": "code",
   "execution_count": 13,
   "metadata": {},
   "outputs": [],
   "source": [
    "df.idlow = df.idlow.str.replace(r'\\W+', '').str.lower()"
   ]
  },
  {
   "cell_type": "code",
   "execution_count": 17,
   "metadata": {},
   "outputs": [
    {
     "data": {
      "text/plain": [
       "array(['ark', '13abyknight', '2gd', '33', '4dr', 'bzzisperfect',\n",
       "       '7ckngmad', '820', '9pasha', 'dogf1ghts', 'alohadance',\n",
       "       'alwayswannafly', 'arsart', 'abed', 'accel', 'ace',\n",
       "       'admiralbulldog', 'afoninje', 'afromoush', 'afterlife', 'agressif',\n",
       "       'akke', 'alex', 'ame', 'anneedroid', 'apemother', 'arise', 'armel',\n",
       "       'arms', 'arteezy', 'artes', 'artstyle', 'attacker', 'aui2000',\n",
       "       'awoke', 'ayesee', 'byb', 'baga', 'balsam', 'bashruk', 'basskip',\n",
       "       'beesa', 'benhur', 'benjaz', 'bimbo', 'black', 'blazemon', 'blitz',\n",
       "       'blizzy', 'bloodynine', 'boboka', 'boombacs', 'bulba', 'burning',\n",
       "       'cartman', 'casperrr', 'cast', 'cematheslayer', 'chalice',\n",
       "       'chaoyue', 'chappie', 'chessie', 'chibix', 'chuan', 'chuvash',\n",
       "       'comewithme', 'cooman', 'cr1t', 'crioj', 'crystallize', 'cty',\n",
       "       'yim', 'cys', 'ddx', 'dj', 'demon', 'dendi', 'dityara', 'dkphobos',\n",
       "       'draskyl', 'drayich', 'dread', 'dreamocel', 'droog', 'dubu',\n",
       "       'duster', 'egm', 'era', 'erineeman', 'eskillz', 'eternalenvy',\n",
       "       'excalibur', 'fluffnstuff', 'faith', 'faithbian', 'fata', 'fear',\n",
       "       'feaver', 'febby', 'fenrir', 'ferrari430', 'fey', 'flens', 'fly',\n",
       "       'flysolo', 'fogged', 'fonte', 'forev', 'funn1k', 'g', 'gabbi',\n",
       "       'garder', 'gareth', 'general', 'ghostik', 'godz', 'goblak', 'godot',\n",
       "       'gorgc', 'gudii', 'hannahmontana', 'handsken', 'hao', 'heen',\n",
       "       'hestejoerotten', 'hookplayer', 'hugo', 'iceberg', 'icy', 'illidan',\n",
       "       'injuly', 'inflame', 'inmate', 'inverno', 'just', 'jabz', 'jenkins',\n",
       "       'jerax', 'jericho', 'jessievash', 'jeyo', 'jixing', 'joraal',\n",
       "       'jotm', 'julz', 'june', 'jyc', 'kabu', 'kai', 'kaka', 'freeze',\n",
       "       'kecikimba', 'keyser', 'khezu', 'kim0', 'kingr', 'kingrd',\n",
       "       'kingteka', 'kipspul', 'klasynky', 'koala', 'korok', 'kotlguy',\n",
       "       'kotarōhayama', 'kpoptosis', 'kuku', 'kuroky', 'kyriedepra',\n",
       "       'l0liko', 'ld', 'lakelz', 'lanm', 'lacoste', 'lebrondota',\n",
       "       'leostyle', 'lergg', 'liekkas', 'lightofheaven', 'lil', 'lilkin6',\n",
       "       'limmp', 'link', 'liposa', 'loda', 'longdd', 'lpc', 'lubby', 'luft',\n",
       "       'luminous', 'lwy', 'matumbaman', 'misery', 'mmy', 'mp', 'mania',\n",
       "       'machine', 'maden', 'maelk', 'mage', 'mag', 'mambos', 'mandy',\n",
       "       'mantis', 'masakary', 'masquerade', 'massacre', 'maut',\n",
       "       'melodylovers', 'meracle', 'merlini', 'milan', 'midone', 'mikasa',\n",
       "       'mindcontrol', 'mini', 'miposhka', 'miracle', 'mirakel', 'misha',\n",
       "       'mitch', 'monet', 'moo', 'moogy', 'moonkamboonseng', 'moonmeander',\n",
       "       'mtrx4u', 'mu', 'mushi', 'mypro', 'n0tail', 'neqroman', 'nochanc3',\n",
       "       'ns', 'nafari', 'nando', 'netplayer', 'nexus', 'nisha', 'nofear',\n",
       "       'noia', 'noone', 'noxville', 'nutz', 'odpixel', 'ohaiyo', 'owa',\n",
       "       'paada', 'paris', 'pgg', 'psm', 'pablo', 'pajkatt', 'palantimos',\n",
       "       'paparazi灬', 'papita', 'piao', 'pikachu', 'poloson', 'prettyhaw',\n",
       "       'puppey', 'purgekevingodec', 'pyrionflax', 'q', 'qo', 'qqq',\n",
       "       'ramzes666', 'rr', 'rampage', 'rapy', 'raven', 'rayuur', 'realaxxx',\n",
       "       'redeye', 'reisen', 'resolut1on', 'retribution', 'roddgeee',\n",
       "       'rodjer', 'runec', 'ryze', 'sanke', 'sunsfan', 'sag', 'luobo',\n",
       "       'fran', 'saksa', 'samh', 'sansheng', 'santa', 'scandal', 'sccc',\n",
       "       'scofield', 'sedoy', 'select', 'sexybamboe', 'sh4dowehhh',\n",
       "       'shachlo', 'sharky', 'sheever', 'shiki', 'silent', 'singsing',\n",
       "       'sneyking', 'sonneiko', 'solen', 'solo', 'maybe', 'stinger',\n",
       "       'sumail', 'sune', 'sunlight', 'super', 'swiftending', 'syeonix',\n",
       "       'sylar', 'tc', 'taiga', 'tavo', 'teehee', 'therence', 'thiolicor',\n",
       "       'tidesoftime', 'timado', 'tims', 'tobiwan', 'trixi', 'tudi',\n",
       "       'universe', 'undershock', 'vanskor', 'velo', 'victoria', 'vigoss',\n",
       "       'waixi', 'waytosexy', 'weppas', 'winter', 'wwd', 'xboct', 'xakoh',\n",
       "       'xepher', 'luo', 'xiao2lei', 'xtinct', 'xxs', 'xz', 'yyf', 'yabyoo',\n",
       "       'yang', 'yao', 'yaphets', 'yapzor', 'zsmj', 'zayac', 'zeroperfect',\n",
       "       'zhou', 'ztok', 'zyori', 'aabbaa', 'ahfu', 'ana', 'blink', 'bone7',\n",
       "       'blowyourbrain', 'boombell', 'bubu', 'c4t', 'cyso', 'cancel',\n",
       "       'chshrct', 'ddc', 'dnz', 'ellisash', 'eleven', 'fng', 'fy', 'g0g1',\n",
       "       'garter', 'goddam', 'hfn', 'hex0r', 'hyhy', 'illusionist', 'iltw',\n",
       "       'insania', 'iceice', 'iceiceice', 'ixmike88', 'j4', 'jigglebilly',\n",
       "       'jonassomfan', 'kyxy', 'le', 'lizzard', 'longb', 'marsu', 'mason',\n",
       "       'mdlalperenarslan', 'micke', 'miggel', 'mool', 'nemphy',\n",
       "       'ninjaboogie', 'oldchicken', 'pas', 'ppd', 'pwn', 'rotk', 'rmn',\n",
       "       'ryoyr', 's4', 'shadowplayer', 'skrff', 'sugarbaby', 'supersupeng',\n",
       "       'synderen', 'v0ja', 'v1lat', 'vann', 'vandersar', 'w33',\n",
       "       'wejustzik', 'wwiewambo', 'xfreedom', 'musica', 'xrag', 'xiao8',\n",
       "       'xy', 'yaj', 'y', 'yoky', 'yol', 'zai', 'женя', '闷油瓶'], dtype=object)"
      ]
     },
     "execution_count": 17,
     "metadata": {},
     "output_type": "execute_result"
    }
   ],
   "source": [
    "df.idlow.unique()"
   ]
  },
  {
   "cell_type": "code",
   "execution_count": null,
   "metadata": {
    "collapsed": true
   },
   "outputs": [],
   "source": []
  }
 ],
 "metadata": {
  "kernelspec": {
   "display_name": "Python 3",
   "language": "python",
   "name": "python3"
  },
  "language_info": {
   "codemirror_mode": {
    "name": "ipython",
    "version": 3
   },
   "file_extension": ".py",
   "mimetype": "text/x-python",
   "name": "python",
   "nbconvert_exporter": "python",
   "pygments_lexer": "ipython3",
   "version": "3.6.3"
  }
 },
 "nbformat": 4,
 "nbformat_minor": 2
}
