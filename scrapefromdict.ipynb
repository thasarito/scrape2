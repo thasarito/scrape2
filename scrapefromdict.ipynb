{
 "cells": [
  {
   "cell_type": "code",
   "execution_count": 1,
   "metadata": {
    "collapsed": true
   },
   "outputs": [],
   "source": [
    "from datetime import datetime\n",
    "import requests\n",
    "import numpy as np\n",
    "import pandas as pd\n",
    "import yaml\n",
    "import re\n",
    "from bs4 import BeautifulSoup\n",
    "import wikitextparser as wtp\n",
    "from ratelimit import rate_limited\n",
    "from operator import *\n",
    "\n",
    "def save_obj(obj, name ):\n",
    "    import pickle\n",
    "    with open('obj/'+ name + '.pkl', 'wb') as f:\n",
    "        pickle.dump(obj, f, pickle.HIGHEST_PROTOCOL)\n",
    "        \n",
    "def load_obj(name ):\n",
    "    import pickle\n",
    "    with open('obj/' + name + '.pkl', 'rb') as f:\n",
    "        return pickle.load(f)"
   ]
  },
  {
   "cell_type": "code",
   "execution_count": 2,
   "metadata": {
    "collapsed": true
   },
   "outputs": [],
   "source": [
    "def parseSquad(tourdict):\n",
    "    '''\n",
    "    input: title of tournament\n",
    "    output: dictionary of participants of that tournament\n",
    "    '''\n",
    "    json = tourdict['wikitext']\n",
    "    wiki = json.get('parse').get('wikitext').get('*')\n",
    "    wiki = re.sub('\\n', '', wiki)\n",
    "    parsed = wtp.parse(wiki)\n",
    "    templates = parsed.templates\n",
    "    squad = {}\n",
    "    for t in templates:\n",
    "        if str(t)[:11] == '{{TeamCard|':\n",
    "            for ar in t.arguments:\n",
    "                if (str(ar)[:5] == '|team'):\n",
    "                    teamname = re.sub(r'\\W+', '', ar.value).lower()\n",
    "                    squad[teamname] = {}\n",
    "                for i in range(1, 6):\n",
    "                    if (str(ar)[:4] == '|p' + str(i) + '='): \n",
    "                        pid = re.sub(r'\\W+', '', ar.value).lower()\n",
    "                        try:\n",
    "                            pid = AlternateIdDict[re.sub(r'\\W+', '', ar.value).lower()]\n",
    "                        except KeyError:\n",
    "                            pid = re.sub(r'\\W+', '', ar.value).lower()\n",
    "                        squad[teamname]['pos' + str(i)] = re.sub(r'\\W+', '', pid).lower()\n",
    "                    if (str(ar)[:7] == '|p' + str(i) + 'link'):\n",
    "                        squad[teamname]['pos' + str(i)] = squad[teamname]['pos' + str(i)] + ' haslink'\n",
    "    return squad"
   ]
  },
  {
   "cell_type": "code",
   "execution_count": 3,
   "metadata": {
    "collapsed": true
   },
   "outputs": [],
   "source": [
    "def getEloDict(tourdict):\n",
    "    return (tourdict['startelodict'], tourdict['endelodict'])"
   ]
  },
  {
   "cell_type": "code",
   "execution_count": 4,
   "metadata": {
    "collapsed": true
   },
   "outputs": [],
   "source": [
    "def compareAndPut(df, squad, ifd, startelodict, endelodict):\n",
    "    for lqn, pdc in squad.items():\n",
    "        try:\n",
    "            teamName = comparedict[lqn]\n",
    "        except KeyError:\n",
    "            teamName = lqn\n",
    "        j = 0\n",
    "        for srt in startelodict:\n",
    "            for ert in endelodict:\n",
    "                if (teamName == re.sub(r'\\W+', '', srt['teamName']).lower()) & (teamName == re.sub(r'\\W+', '', ert['teamName']).lower()):\n",
    "                    j += 1\n",
    "                    for pos, id in pdc.items():\n",
    "                        df = df.append({\n",
    "                            'team': teamName,\n",
    "                            'pos': pos,\n",
    "                            'id': id,\n",
    "                            'tour': ifd['title'],\n",
    "                            'prizeusd': ifd['prize'],\n",
    "                            'start': ifd['start'],\n",
    "                            'end': ifd['end'],\n",
    "                            'startelo': srt['elo64']['current'],\n",
    "                            'startglicko2mu': srt['glicko2']['mu'],\n",
    "                            'startglicko2phi': srt['glicko2']['phi'],\n",
    "                            'startglicko2rating': srt['glicko2']['rating'],\n",
    "                            'endelo': ert['elo64']['current'],\n",
    "                            'endglicko2mu': ert['glicko2']['mu'],\n",
    "                            'endglicko2phi': ert['glicko2']['phi'],\n",
    "                            'endglicko2rating': ert['glicko2']['rating']\n",
    "                        }, ignore_index=True)\n",
    "        if j == 0:\n",
    "            for pos, id in pdc.items():\n",
    "                if id == '':\n",
    "                    continue\n",
    "                else:\n",
    "                    df = df.append({\n",
    "                        'team': teamName,\n",
    "                        'pos': pos,\n",
    "                        'id': id,\n",
    "                        'tour': ifd['title'],\n",
    "                        'prizeusd': ifd['prize'],\n",
    "                        'start': ifd['start'],\n",
    "                        'end': ifd['end'],\n",
    "                        'startelo': np.nan,\n",
    "                        'startglicko2mu': np.nan,\n",
    "                        'startglicko2phi': np.nan,\n",
    "                        'startglicko2rating': np.nan,\n",
    "                        'endelo': np.nan,\n",
    "                        'endglicko2mu': np.nan,\n",
    "                        'endglicko2phi': np.nan,\n",
    "                        'endglicko2rating': np.nan\n",
    "                    }, ignore_index=True)\n",
    "        \n",
    "    return df"
   ]
  },
  {
   "cell_type": "code",
   "execution_count": 5,
   "metadata": {
    "collapsed": true
   },
   "outputs": [],
   "source": [
    "alltour = load_obj('/dict/touranddate')\n",
    "comparedict = load_obj('/dict/lqtodat')\n",
    "AlternateIdDict = load_obj('/dict/AlternateIdDict')"
   ]
  },
  {
   "cell_type": "code",
   "execution_count": 6,
   "metadata": {
    "collapsed": true
   },
   "outputs": [],
   "source": [
    "endti2 = '2012-09-02'\n",
    "endti7 = '2017-08-12'"
   ]
  },
  {
   "cell_type": "code",
   "execution_count": 7,
   "metadata": {},
   "outputs": [
    {
     "name": "stdout",
     "output_type": "stream",
     "text": [
      "Wall time: 1min 38s\n"
     ]
    }
   ],
   "source": [
    "%%time\n",
    "errortitle = []\n",
    "df = pd.DataFrame(columns=['team', 'pos', 'id', 'tour', 'prizeusd', 'start', 'end',\n",
    "                           'startelo', 'startglicko2mu', 'startglicko2phi', 'startglicko2rating', 'endelo', 'endglicko2mu', 'endglicko2phi', 'endglicko2rating'])\n",
    "for turl, ifd in alltour.items():\n",
    "    try:\n",
    "        if (pd.to_datetime(ifd['start'], format='%d/%m/%Y') > pd.to_datetime(endti2)) & (pd.to_datetime(ifd['end'], format='%d/%m/%Y') <= pd.to_datetime(endti7)):\n",
    "            tourdict = load_obj('forelo/' + re.sub(r'\\W+', '', ifd['title']).lower() )\n",
    "            ptc = parseSquad(tourdict)\n",
    "            startelodict, endelodict = getEloDict(tourdict)\n",
    "            df = compareAndPut(df, ptc, ifd, startelodict, endelodict)\n",
    "    except:\n",
    "        print(turl)\n",
    "        errortitle = errortitle.append(turl)"
   ]
  },
  {
   "cell_type": "code",
   "execution_count": 8,
   "metadata": {},
   "outputs": [],
   "source": [
    "#Clean Data\n",
    "df = df[df['id'] != '']\n",
    "df.loc[(df['id'] == 'g haslink'), 'id'] = 'g'\n",
    "df.loc[(df['id'] == 'noone haslink'), 'id'] = 'noone'\n",
    "df.loc[(df['id'].str[:8] == 'paparazi'), 'id'] = 'paparazi'\n",
    "df.pos = pd.to_numeric(df.pos.str[-1])"
   ]
  },
  {
   "cell_type": "code",
   "execution_count": 9,
   "metadata": {
    "collapsed": true
   },
   "outputs": [],
   "source": [
    "df[['team', 'pos', 'id', 'tour', 'prizeusd', 'start', 'startelo', 'end', 'endelo']].to_csv('elo.csv', encoding='utf-8', index=False)\n",
    "#df[['team', 'pos', 'id', 'tour', 'prizeusd', 'start', 'startglicko2mu', 'startglicko2phi', 'startglicko2rating', 'end', 'endglicko2mu', 'endglicko2phi', 'endglicko2rating']].to_csv('glicko.csv', encoding='utf-8', index=False)"
   ]
  }
 ],
 "metadata": {
  "kernelspec": {
   "display_name": "Python 3",
   "language": "python",
   "name": "python3"
  },
  "language_info": {
   "codemirror_mode": {
    "name": "ipython",
    "version": 3
   },
   "file_extension": ".py",
   "mimetype": "text/x-python",
   "name": "python",
   "nbconvert_exporter": "python",
   "pygments_lexer": "ipython3",
   "version": "3.6.3"
  }
 },
 "nbformat": 4,
 "nbformat_minor": 2
}
