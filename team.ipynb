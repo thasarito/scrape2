{
 "cells": [
  {
   "cell_type": "code",
   "execution_count": 28,
   "metadata": {
    "collapsed": true
   },
   "outputs": [],
   "source": [
    "import requests\n",
    "import datetime\n",
    "import pandas as pd\n",
    "import yaml\n",
    "import re\n",
    "from bs4 import BeautifulSoup\n",
    "\n",
    "def load_obj(name ):\n",
    "    with open('obj/' + name + '.pkl', 'rb') as f:\n",
    "        return pickle.load(f)"
   ]
  },
  {
   "cell_type": "code",
   "execution_count": 30,
   "metadata": {},
   "outputs": [],
   "source": [
    "#load dictionary to compare name between liquipedia and datdota\n",
    "cmp = load_obj('lqtodat')"
   ]
  },
  {
   "cell_type": "code",
   "execution_count": 2,
   "metadata": {
    "collapsed": true
   },
   "outputs": [],
   "source": [
    "r = requests.get(url='http://liquipedia.net/dota2/api.php?action=ask&query=[[%3A%2B]][[Has+teamid%3A%3A>0]]|%3FHas+location|%3FHas+region|%3FHas+id|%3FHas+name|sort%3Dhas+id|limit%3D500&format=json')\n",
    "json = r.json()"
   ]
  },
  {
   "cell_type": "code",
   "execution_count": 3,
   "metadata": {
    "collapsed": true
   },
   "outputs": [],
   "source": [
    "df = pd.DataFrame(columns=['link', 'region', 'location', 'teamlow', 'team'])\n",
    "lq = []"
   ]
  },
  {
   "cell_type": "code",
   "execution_count": 4,
   "metadata": {},
   "outputs": [],
   "source": [
    "for lname, ldata in json.get('query').get('results').items():\n",
    "    po = ldata.get('printouts')\n",
    "    tnlow = re.sub(r'\\W+', '', ldata.get('fulltext')).lower()\n",
    "    tn = ldata.get('fulltext')\n",
    "    tl = ldata.get('fullurl')\n",
    "    try:\n",
    "        rg = po.get('Has region')[0]\n",
    "    except IndexError:\n",
    "        rg = 'Nan' \n",
    "    try:\n",
    "        loc = po.get('Has location')[0]\n",
    "    except IndexError:\n",
    "        loc = 'Nan'        \n",
    "    df = df.append({'link': tl, 'region': rg, 'location': loc, 'teamlow': tnlow, 'team': tn}, ignore_index=True)\n",
    "    lq.append(tnlow)"
   ]
  },
  {
   "cell_type": "code",
   "execution_count": 5,
   "metadata": {
    "collapsed": true
   },
   "outputs": [],
   "source": [
    "urldat = 'http://datdota.com/api/teams/performances?tier=1&tier=2&valve-event=does-not-matter&threshold=5&patch=7.09&patch=7.08&patch=7.07&patch=7.06&patch=7.05&patch=7.04&patch=7.03&patch=7.02&patch=7.01&patch=7.00&patch=6.88&patch=6.87&patch=6.86&patch=6.85&patch=6.84&patch=6.83&patch=6.82&patch=6.81&patch=6.80&patch=6.79&patch=6.78&patch=6.77&patch=6.76&patch=6.75&patch=6.74&winner=either&after=01%2F01%2F2011&before=20%2F02%2F2018&duration=0%3B200&duration-value-from=0&duration-value-to=200'\n",
    "htmldat = requests.get(urldat)\n",
    "htmldat.encoding = 'utf-8'\n",
    "il = yaml.load(htmldat.text)\n",
    "il = il['data']"
   ]
  }
 ],
 "metadata": {
  "kernelspec": {
   "display_name": "Python 3",
   "language": "python",
   "name": "python3"
  },
  "language_info": {
   "codemirror_mode": {
    "name": "ipython",
    "version": 3
   },
   "file_extension": ".py",
   "mimetype": "text/x-python",
   "name": "python",
   "nbconvert_exporter": "python",
   "pygments_lexer": "ipython3",
   "version": "3.6.3"
  }
 },
 "nbformat": 4,
 "nbformat_minor": 2
}
