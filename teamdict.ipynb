{
 "cells": [
  {
   "cell_type": "code",
   "execution_count": 2,
   "metadata": {
    "collapsed": true
   },
   "outputs": [],
   "source": [
    "import requests\n",
    "import datetime\n",
    "import pandas as pd\n",
    "import yaml\n",
    "import re\n",
    "from bs4 import BeautifulSoup"
   ]
  },
  {
   "cell_type": "code",
   "execution_count": 3,
   "metadata": {},
   "outputs": [],
   "source": [
    "r = requests.get(url='http://liquipedia.net/dota2/api.php?action=ask&query=[[%3A%2B]][[Has+teamid%3A%3A>0]]|%3FHas+location|%3FHas+region|%3FHas+id|%3FHas+name|sort%3Dhas+id|limit%3D500&format=json')\n",
    "json = r.json()"
   ]
  },
  {
   "cell_type": "code",
   "execution_count": 4,
   "metadata": {
    "collapsed": true
   },
   "outputs": [],
   "source": [
    "lq = []\n",
    "for lname, ldata in json.get('query').get('results').items():\n",
    "    po = ldata.get('printouts')\n",
    "    tnlow = re.sub(r'\\W+', '', ldata.get('fulltext')).lower()\n",
    "    tn = ldata.get('fulltext')\n",
    "    tl = ldata.get('fullurl')\n",
    "    try:\n",
    "        rg = po.get('Has region')[0]\n",
    "    except IndexError:\n",
    "        rg = 'Nan' \n",
    "    try:\n",
    "        loc = po.get('Has location')[0]\n",
    "    except IndexError:\n",
    "        loc = 'Nan'        \n",
    "    lq.append(tnlow)"
   ]
  },
  {
   "cell_type": "code",
   "execution_count": 5,
   "metadata": {
    "collapsed": true
   },
   "outputs": [],
   "source": [
    "urldat = 'http://datdota.com/api/teams/performances?tier=1&tier=2&valve-event=does-not-matter&threshold=5&patch=7.09&patch=7.08&patch=7.07&patch=7.06&patch=7.05&patch=7.04&patch=7.03&patch=7.02&patch=7.01&patch=7.00&patch=6.88&patch=6.87&patch=6.86&patch=6.85&patch=6.84&patch=6.83&patch=6.82&patch=6.81&patch=6.80&patch=6.79&patch=6.78&patch=6.77&patch=6.76&patch=6.75&patch=6.74&winner=either&after=01%2F01%2F2011&before=20%2F02%2F2018&duration=0%3B200&duration-value-from=0&duration-value-to=200'\n",
    "htmldat = requests.get(urldat)\n",
    "htmldat.encoding = 'utf-8'\n",
    "il = yaml.load(htmldat.text)\n",
    "il = il['data']"
   ]
  },
  {
   "cell_type": "code",
   "execution_count": 6,
   "metadata": {
    "collapsed": true
   },
   "outputs": [],
   "source": [
    "da = pd.DataFrame(columns=['name'])\n",
    "dat = []"
   ]
  },
  {
   "cell_type": "code",
   "execution_count": 7,
   "metadata": {
    "collapsed": true
   },
   "outputs": [],
   "source": [
    "for l in il:\n",
    "    name = re.sub(r'\\W+', '', l['team']['name']).lower()\n",
    "    da = da.append({'name': name}, ignore_index=True)\n",
    "    dat.append(name)"
   ]
  },
  {
   "cell_type": "code",
   "execution_count": 8,
   "metadata": {
    "collapsed": true
   },
   "outputs": [],
   "source": [
    "eql = {}\n",
    "eqd = {}\n",
    "for l in lq:\n",
    "    for d in dat:\n",
    "        if d == l:\n",
    "            eql[l] = d\n",
    "            eqd[d] = l\n",
    "            l = ''\n",
    "            d = ''\n",
    "        if ((d in l) or (l in d)) and (abs(len(l) - len(d)) < 5) and ((d != '') and (l != '')):\n",
    "            eql[l] = d\n",
    "            eqd[d] = l"
   ]
  },
  {
   "cell_type": "code",
   "execution_count": 9,
   "metadata": {
    "collapsed": true
   },
   "outputs": [],
   "source": [
    "#load to check which team missing in compare dictionary\n",
    "df = pd.read_csv('data.csv', encoding = \"ISO-8859-1\")\n",
    "df = df.dropna()"
   ]
  },
  {
   "cell_type": "code",
   "execution_count": 10,
   "metadata": {
    "collapsed": true
   },
   "outputs": [],
   "source": [
    "df.team = df.team.str.replace(r'\\W+', '').str.lower()\n",
    "tdf = df.team.unique().tolist()\n",
    "tdf = sorted([re.sub(r'\\W+', '', x).lower() for x in tdf])"
   ]
  },
  {
   "cell_type": "code",
   "execution_count": 11,
   "metadata": {
    "collapsed": true
   },
   "outputs": [],
   "source": [
    "for il in set(tdf).intersection(lq):\n",
    "    tdf.remove(il)"
   ]
  },
  {
   "cell_type": "code",
   "execution_count": 12,
   "metadata": {},
   "outputs": [
    {
     "data": {
      "text/plain": [
       "['3dmax',\n",
       " 'cisgame',\n",
       " 'counterlogicgaming',\n",
       " 'denialesports',\n",
       " 'fnaticeu',\n",
       " 'forlove',\n",
       " 'ftdcluba',\n",
       " 'lvgaming',\n",
       " 'midasclubelite',\n",
       " 'moscowfive',\n",
       " 'quanticgaming',\n",
       " 'sigmaint',\n",
       " 'sneakynyxassassins',\n",
       " 'teamdk',\n",
       " 'teamunknown',\n",
       " 'teamvgj',\n",
       " 'teamzenith']"
      ]
     },
     "execution_count": 12,
     "metadata": {},
     "output_type": "execute_result"
    }
   ],
   "source": [
    "tdf"
   ]
  },
  {
   "cell_type": "code",
   "execution_count": 13,
   "metadata": {
    "collapsed": true
   },
   "outputs": [],
   "source": [
    "eql['3dmax'] = '3dmax'\n",
    "eql['cisgame'] = 'cisgame'\n",
    "eql['counterlogicgaming'] = 'counterlogicgaming'\n",
    "eql['denialesports'] = 'denialesports'\n",
    "eql['fnaticeu'] = 'fnatic'\n",
    "eql['forlove'] = 'forlove'\n",
    "eql['ftdcluba'] = 'ftdcluba'\n",
    "eql['lvgaming'] = 'lvgaming'\n",
    "eql['midasclubelite'] = 'midasclub'\n",
    "eql['moscowfive'] = 'moscowfive'\n",
    "eql['quanticgaming'] = 'quanticgaming'\n",
    "eql['sigmaint'] = 'sigmaint'\n",
    "eql['sneakynyxassassins'] = 'sneakynyxassassins'\n",
    "eql['teamdk'] = 'teamdk'\n",
    "eql['teamvgj'] = 'teamvgj'\n",
    "eql['teamzenith'] = 'zenith'\n",
    "del eql['fnaticeu']"
   ]
  },
  {
   "cell_type": "code",
   "execution_count": 23,
   "metadata": {
    "collapsed": true
   },
   "outputs": [],
   "source": [
    "def save_obj(obj, name ):\n",
    "    import pickle\n",
    "    with open('obj/'+ name + '.pkl', 'wb') as f:\n",
    "        pickle.dump(obj, f, pickle.HIGHEST_PROTOCOL)"
   ]
  },
  {
   "cell_type": "code",
   "execution_count": 26,
   "metadata": {
    "collapsed": true
   },
   "outputs": [],
   "source": [
    "save_obj(eql, 'lqtodat')"
   ]
  },
  {
   "cell_type": "code",
   "execution_count": 14,
   "metadata": {
    "collapsed": true,
    "scrolled": false
   },
   "outputs": [],
   "source": [
    "cp = pd.DataFrame.from_dict(list(eql.items()))"
   ]
  },
  {
   "cell_type": "code",
   "execution_count": 16,
   "metadata": {
    "scrolled": true
   },
   "outputs": [
    {
     "data": {
      "text/html": [
       "<div>\n",
       "<style>\n",
       "    .dataframe thead tr:only-child th {\n",
       "        text-align: right;\n",
       "    }\n",
       "\n",
       "    .dataframe thead th {\n",
       "        text-align: left;\n",
       "    }\n",
       "\n",
       "    .dataframe tbody tr th {\n",
       "        vertical-align: top;\n",
       "    }\n",
       "</style>\n",
       "<table border=\"1\" class=\"dataframe\">\n",
       "  <thead>\n",
       "    <tr style=\"text-align: right;\">\n",
       "      <th></th>\n",
       "      <th>lq</th>\n",
       "      <th>dat</th>\n",
       "    </tr>\n",
       "  </thead>\n",
       "  <tbody>\n",
       "    <tr>\n",
       "      <th>0</th>\n",
       "      <td>monkeybusiness</td>\n",
       "      <td>monkeybusiness</td>\n",
       "    </tr>\n",
       "    <tr>\n",
       "      <th>1</th>\n",
       "      <td></td>\n",
       "      <td></td>\n",
       "    </tr>\n",
       "    <tr>\n",
       "      <th>2</th>\n",
       "      <td>4friendschrillee</td>\n",
       "      <td>4friendschrillee</td>\n",
       "    </tr>\n",
       "    <tr>\n",
       "      <th>3</th>\n",
       "      <td>4protectfive</td>\n",
       "      <td>4protectfive</td>\n",
       "    </tr>\n",
       "    <tr>\n",
       "      <th>4</th>\n",
       "      <td>5jungz</td>\n",
       "      <td>5jungz</td>\n",
       "    </tr>\n",
       "  </tbody>\n",
       "</table>\n",
       "</div>"
      ],
      "text/plain": [
       "                 lq               dat\n",
       "0    monkeybusiness    monkeybusiness\n",
       "1                                    \n",
       "2  4friendschrillee  4friendschrillee\n",
       "3      4protectfive      4protectfive\n",
       "4            5jungz            5jungz"
      ]
     },
     "execution_count": 16,
     "metadata": {},
     "output_type": "execute_result"
    }
   ],
   "source": [
    "cp = cp.rename(columns={0:'lq', 1:'dat'})\n",
    "cp.head()"
   ]
  },
  {
   "cell_type": "code",
   "execution_count": 17,
   "metadata": {
    "collapsed": true
   },
   "outputs": [],
   "source": [
    "cp.to_csv('lqtodat.csv')"
   ]
  }
 ],
 "metadata": {
  "kernelspec": {
   "display_name": "Python 3",
   "language": "python",
   "name": "python3"
  },
  "language_info": {
   "codemirror_mode": {
    "name": "ipython",
    "version": 3
   },
   "file_extension": ".py",
   "mimetype": "text/x-python",
   "name": "python",
   "nbconvert_exporter": "python",
   "pygments_lexer": "ipython3",
   "version": "3.6.3"
  }
 },
 "nbformat": 4,
 "nbformat_minor": 2
}
