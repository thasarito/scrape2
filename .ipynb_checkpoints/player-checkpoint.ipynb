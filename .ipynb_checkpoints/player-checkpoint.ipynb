{
 "cells": [
  {
   "cell_type": "code",
   "execution_count": 95,
   "metadata": {
    "collapsed": true
   },
   "outputs": [],
   "source": [
    "from datetime import datetime\n",
    "import requests\n",
    "import numpy as np\n",
    "import pandas as pd\n",
    "import yaml\n",
    "import re\n",
    "from bs4 import BeautifulSoup\n",
    "import wikitextparser as wtp\n",
    "from ratelimit import rate_limited\n",
    "from operator import *\n",
    "\n",
    "def save_obj(obj, name ):\n",
    "    import pickle\n",
    "    with open('obj/'+ name + '.pkl', 'wb') as f:\n",
    "        pickle.dump(obj, f, pickle.HIGHEST_PROTOCOL)\n",
    "        \n",
    "def load_obj(name ):\n",
    "    import pickle\n",
    "    with open('obj/' + name + '.pkl', 'rb') as f:\n",
    "        return pickle.load(f)\n",
    "\n",
    "def easyText(t):\n",
    "    return re.sub(r'\\W+', '', str(t)).lower()"
   ]
  },
  {
   "cell_type": "code",
   "execution_count": 67,
   "metadata": {
    "collapsed": true
   },
   "outputs": [],
   "source": [
    "r = requests.get(url='http://liquipedia.net/dota2/api.php?action=ask&query=[[%3A%2B]]+[[Has+age%3A%3A>0]]|%3FHas+id|%3FHas+role|%3FHas+birth+day|%3FHas+name|%3FHas+nationality|sort%3DHas+id|limit%3D500&format=json')\n",
    "json2 = r.json()"
   ]
  },
  {
   "cell_type": "code",
   "execution_count": 18,
   "metadata": {
    "collapsed": true
   },
   "outputs": [],
   "source": [
    "title = ''"
   ]
  },
  {
   "cell_type": "code",
   "execution_count": 3,
   "metadata": {
    "collapsed": true
   },
   "outputs": [],
   "source": [
    "df = pd.DataFrame(columns=['cog', 'name', 'id', 'dob'])"
   ]
  },
  {
   "cell_type": "code",
   "execution_count": 21,
   "metadata": {},
   "outputs": [],
   "source": [
    "for lname, ldata in json.get('query').get('results').items():\n",
    "    po = ldata.get('printouts')\n",
    "    pid = ldata.get('fulltext')\n",
    "    try:\n",
    "        cog = po.get('Has nationality')[0]\n",
    "    except IndexError:\n",
    "        cog = 'Nan' \n",
    "    try:\n",
    "        dob = pd.Timestamp.date(pd.to_datetime(po.get('Has birth day')[0]['timestamp'], unit='s'))\n",
    "    except IndexError:\n",
    "        dob = 'Nan'\n",
    "    try:\n",
    "        name = po.get('Has name')[0]\n",
    "    except IndexError:\n",
    "        name = 'Nan'        \n",
    "    df = df.append({'cog': cog, 'name': name, 'id': pid, 'dob': dob}, ignore_index=True)\n",
    "    title = title + '|' + pid"
   ]
  },
  {
   "cell_type": "code",
   "execution_count": 86,
   "metadata": {},
   "outputs": [
    {
     "data": {
      "text/plain": [
       "['Mool|Nemphy|Ninjaboogie|Old chicken|PaS|Ppd|PwN|ROtK|RmN-|RyOyr|S4|Shadow (player)|Skrff|Sugar baby|Super (Su Peng)|SyndereN|V0ja|V1lat|VanN|Vandersar|W33|Wejustzik|WwieWambo|XFreedom|MusiCa|XRag|Xiao8|Xy-|Yaj|Y`|Yoky-|Yol|Zai|Женя|闷油瓶|.Ark|13abyKnight|2GD|33|4DR|BzzIsPerfect|7ckngMad|820|9pasha|Dogf1ghts|ALOHADANCE|ALWAYSWANNAFLY|ARS-ART|Abed|Accel|Ace|AdmiralBulldog|Afoninje|AfrOmoush|AfterLife|Agressif|Akke|Alex|Ame|AnneeDroid|Apemother|Arise|Armel|Arms|Arteezy|Artes|Artstyle|Attacker|Aui 2000|Awoke|Ayesee|BYB|Baga|Balsam|Bashruk',\n",
       " 'Basskip|Beesa|Benhur|Benjaz|Bimbo|Black^|Blazemon|Blitz|Blizzy|Bloody Nine|BoBoKa|Boombacs|BuLba|BurNIng|CartMaN|CaspeRRR|Cast|CemaTheSlayeR|Chalice|ChaoYue|Chappie|Chessie|Chibix|ChuaN|Chuvash|ComeWithMe|Cooman|Cr1t-|Crio J|Crystallize|Cty|Yim|Cys|DDX-|DJ|DeMoN|Dendi|Ditya Ra|DkPhobos|Draskyl',\n",
       " 'Drayich|Dread|Dreamocel|Droog|DuBu|Duster|EGM|Era|Eri Neeman|Eskillz|EternaLEnVy|Excalibur|FLUFFNSTUFF|Faith|Faith bian|Fata|Fear|Feaver|Febby|Fenrir|Ferrari 430|Fey|Flens|Fly|Flysolo|Fogged|Fonte|Forev|Funn1k|G|Gabbi|Garder|Gareth|GeneRaL|Ghostik|GoDz|Goblak|Godot|Gorgc|Gudii',\n",
       " 'HANNAH MONTANA|Handsken|Hao|Heen|HesteJoe-Rotten|Hook (player)|Hugo|Iceberg|Icy|Illidan|InJuly|Inflame|Inmate|Inverno|JUST|Jabz|Jenkins|JerAx|Jericho|JessieVash|Jeyo|Jixing|Joraal|JotM|Julz|June|JyC|Kabu|Kai|Kaka|Freeze|Kecik Imba|Keyser|KheZu|Kim0|KingR|Kingrd|Kingteka|Kipspul|Klasynky',\n",
       " 'KoaLa|Korok|KotLGuy|Kotarō Hayama|Kpoptosis|Kuku|KuroKy|KyrieDepra|L0lik O|LD|LaKelz|LaNm|Lacoste|LeBronDota|LeoStyle-|Ler GG|Liekkas|LighTofHeaveN|Lil|Lil kin6|Limmp|Link|Liposa|Loda|LongDD|Lpc|Lubby|Luft|Luminous|Lwy|MATUMBAMAN|MiSeRy|MMY|MP|MaNia|Machine|Maden|Maelk|MagE-|Mag~',\n",
       " 'Mambos|Mandy|Mantis|Masakary|Masquerade|Massacre|Maut|MelodyLovers|Meracle|Merlini|MiLAN|MidOne|Mikasa|MinD ContRoL|Mini|Miposhka|Miracle-|Mirakel|Misha|Mitch|Monet|Moo|Moogy|Moon (Kam Boon Seng)|MoonMeander|Mtrx4u|Mu|Mushi|MyPro|N0tail|Neqroman|NO Chanc3|NS|Nafari|Nando|Net (player)|Nexus|Nisha|NoFear|Noia',\n",
       " 'Noone|Noxville|NutZ|ODPixel|Ohaiyo|Owa|PAADA|PARIS|PGG|PSM|Pablo|Pajkatt|Palantimos|Paparazi灬|Papita|Piao|Pikachu|Poloson|PrettyHaw|Puppey|Purge (Kevin Godec)|PyrionFlax|Q|QO|QQQ|RAMZES666|RR|RampaGe|Rapy|Raven|Rayuur|ReaLaxXx|Redeye|Reisen|Resolut1on|Retribution|Roddgeee|RodjER|Runec|Ryze',\n",
       " 'SANKE|SUNSfan|Sag|Luobo|Fran|Saksa|Sam H|SanSheng|Santa|Scandal|Sccc|Scofield|Sedoy|SeleCT|SexyBamboe|Sh4dowehhh|Shachlo|Sharky|Sheever|Shiki|Silent|SingSing|Sneyking|SoNNeikO|Solen|Solo|Maybe|StingeR|SumaiL|Sune|Sunlight|Super|Swiftending|Syeonix|Sylar|TC|Taiga|Tavo|Teehee|Therence',\n",
       " 'Thiolicor|TidesofTime|Timado|Tims|TobiWan|Trixi|Tudi|UNiVeRsE|UnderShock|VANSKOR|Velo|Victoria|Vigoss|Waixi|Waytosexy|Weppas|WinteR|WwD|XBOCT|XaKoH|Xepher|Luo|Xiao2lei|XtiNcT|Xxs|Xz|YYF|Yabyoo|Yang|Yao|YaphetS|YapzOr|ZSMJ|Zayac|ZeroPerfect|Zhou|Ztok|Zyori|AabBAA|Ahfu',\n",
       " 'Ana|BLink|BOne7|Blowyourbrain|Boombell|Bubu|C4t|CYso|CanceL^^|Chshrct|Ddc|Dnz|EL lisasH|ELeVeN|Fng|Fy|G0g1|Garter|Goddam|HFn|Hex0r|Hyhy|ILLusionisT|ILTW|INsania|Iceice|Iceiceice|Ixmike88|J4|Jigglebilly|Jonassomfan|KYxY|Le|LizZard|Longb|MarSu|Mason|MdL (Alperen Arslan)|MiCKe|MiGGel']"
      ]
     },
     "execution_count": 86,
     "metadata": {},
     "output_type": "execute_result"
    }
   ],
   "source": [
    "titlelist"
   ]
  },
  {
   "cell_type": "code",
   "execution_count": 85,
   "metadata": {},
   "outputs": [],
   "source": [
    "titlelist = []\n",
    "j = 0\n",
    "for lname, ldata in json2.get('query').get('results').items():\n",
    "    j += 1\n",
    "    pid = ldata.get('fulltext')\n",
    "    title = title = title + '|' + pid\n",
    "    if j == 40:\n",
    "        titlelist.append(title[1:])\n",
    "        title = ''\n",
    "        j = 0"
   ]
  },
  {
   "cell_type": "code",
   "execution_count": 99,
   "metadata": {
    "collapsed": true
   },
   "outputs": [],
   "source": [
    "titlelist = []\n",
    "for lname, ldata in json2.get('query').get('results').items():\n",
    "    pid = ldata.get('fulltext')\n",
    "    titlelist.append(pid)\n"
   ]
  },
  {
   "cell_type": "code",
   "execution_count": 104,
   "metadata": {},
   "outputs": [
    {
     "data": {
      "text/plain": [
       "['Monet',\n",
       " 'Moo',\n",
       " 'Moogy',\n",
       " 'Moon (Kam Boon Seng)',\n",
       " 'MoonMeander',\n",
       " 'Mtrx4u',\n",
       " 'Mu',\n",
       " 'Mushi',\n",
       " 'MyPro',\n",
       " 'N0tail',\n",
       " 'Neqroman',\n",
       " 'NO Chanc3',\n",
       " 'NS',\n",
       " 'Nafari',\n",
       " 'Nando',\n",
       " 'Net (player)',\n",
       " 'Nexus',\n",
       " 'Nisha',\n",
       " 'NoFear',\n",
       " 'Noia']"
      ]
     },
     "execution_count": 104,
     "metadata": {},
     "output_type": "execute_result"
    }
   ],
   "source": [
    "titlelist[220:240]"
   ]
  },
  {
   "cell_type": "code",
   "execution_count": null,
   "metadata": {
    "collapsed": true
   },
   "outputs": [],
   "source": [
    "@rate_limited(1, 2)\n",
    "def requestQuery(title):\n",
    "    headers = {\n",
    "    'User-Agent': 'Data for Research',\n",
    "    'From': 'terthasarit@live.com', \n",
    "    'Accept-Encoding': 'gzip'\n",
    "    }\n",
    "    r = requests.get(url='http://liquipedia.net/dota2/api.php?action=query&format=json&prop=redirects&titles=' + title, headers=headers)\n",
    "    json = r.json()\n",
    "    return json"
   ]
  },
  {
   "cell_type": "code",
   "execution_count": 34,
   "metadata": {
    "scrolled": true
   },
   "outputs": [
    {
     "data": {
      "text/plain": [
       "{'batchcomplete': '',\n",
       " 'query': {'pages': {'2789': {'ns': 0, 'pageid': 2789, 'title': 'Puppey'},\n",
       "   '2980': {'ns': 0,\n",
       "    'pageid': 2980,\n",
       "    'redirects': [{'ns': 0, 'pageid': 3015, 'title': 'Notail'},\n",
       "     {'ns': 0, 'pageid': 25744, 'title': 'Bigdaddy'},\n",
       "     {'ns': 0, 'pageid': 44401, 'title': 'BigDaddy'}],\n",
       "    'title': 'N0tail'},\n",
       "   '7775': {'ns': 0,\n",
       "    'pageid': 7775,\n",
       "    'redirects': [{'ns': 0, 'pageid': 16447, 'title': 'Xiaotuji'}],\n",
       "    'title': 'Rabbit'}}}}"
      ]
     },
     "execution_count": 34,
     "metadata": {},
     "output_type": "execute_result"
    }
   ],
   "source": [
    "json"
   ]
  },
  {
   "cell_type": "code",
   "execution_count": 41,
   "metadata": {},
   "outputs": [],
   "source": [
    "json.get('query').get('pages').get('2789').get('redirects')"
   ]
  },
  {
   "cell_type": "code",
   "execution_count": 42,
   "metadata": {},
   "outputs": [
    {
     "data": {
      "text/plain": [
       "[{'ns': 0, 'pageid': 3015, 'title': 'Notail'},\n",
       " {'ns': 0, 'pageid': 25744, 'title': 'Bigdaddy'},\n",
       " {'ns': 0, 'pageid': 44401, 'title': 'BigDaddy'}]"
      ]
     },
     "execution_count": 42,
     "metadata": {},
     "output_type": "execute_result"
    }
   ],
   "source": [
    "json.get('query').get('pages').get('2980').get('redirects')"
   ]
  },
  {
   "cell_type": "code",
   "execution_count": 96,
   "metadata": {
    "collapsed": true
   },
   "outputs": [],
   "source": [
    "save_obj(AlternateIdDict, '/dict/AlternateIdDict')"
   ]
  },
  {
   "cell_type": "code",
   "execution_count": 91,
   "metadata": {},
   "outputs": [],
   "source": [
    "AlternateIdDict = {}"
   ]
  },
  {
   "cell_type": "code",
   "execution_count": 98,
   "metadata": {},
   "outputs": [
    {
     "data": {
      "text/plain": [
       "['Mool|Nemphy|Ninjaboogie|Old chicken|PaS|Ppd|PwN|ROtK|RmN-|RyOyr|S4|Shadow (player)|Skrff|Sugar baby|Super (Su Peng)|SyndereN|V0ja|V1lat|VanN|Vandersar|W33|Wejustzik|WwieWambo|XFreedom|MusiCa|XRag|Xiao8|Xy-|Yaj|Y`|Yoky-|Yol|Zai|Женя|闷油瓶|.Ark|13abyKnight|2GD|33|4DR|BzzIsPerfect|7ckngMad|820|9pasha|Dogf1ghts|ALOHADANCE|ALWAYSWANNAFLY|ARS-ART|Abed|Accel|Ace|AdmiralBulldog|Afoninje|AfrOmoush|AfterLife|Agressif|Akke|Alex|Ame|AnneeDroid|Apemother|Arise|Armel|Arms|Arteezy|Artes|Artstyle|Attacker|Aui 2000|Awoke|Ayesee|BYB|Baga|Balsam|Bashruk',\n",
       " 'Basskip|Beesa|Benhur|Benjaz|Bimbo|Black^|Blazemon|Blitz|Blizzy|Bloody Nine|BoBoKa|Boombacs|BuLba|BurNIng|CartMaN|CaspeRRR|Cast|CemaTheSlayeR|Chalice|ChaoYue|Chappie|Chessie|Chibix|ChuaN|Chuvash|ComeWithMe|Cooman|Cr1t-|Crio J|Crystallize|Cty|Yim|Cys|DDX-|DJ|DeMoN|Dendi|Ditya Ra|DkPhobos|Draskyl',\n",
       " 'Drayich|Dread|Dreamocel|Droog|DuBu|Duster|EGM|Era|Eri Neeman|Eskillz|EternaLEnVy|Excalibur|FLUFFNSTUFF|Faith|Faith bian|Fata|Fear|Feaver|Febby|Fenrir|Ferrari 430|Fey|Flens|Fly|Flysolo|Fogged|Fonte|Forev|Funn1k|G|Gabbi|Garder|Gareth|GeneRaL|Ghostik|GoDz|Goblak|Godot|Gorgc|Gudii',\n",
       " 'HANNAH MONTANA|Handsken|Hao|Heen|HesteJoe-Rotten|Hook (player)|Hugo|Iceberg|Icy|Illidan|InJuly|Inflame|Inmate|Inverno|JUST|Jabz|Jenkins|JerAx|Jericho|JessieVash|Jeyo|Jixing|Joraal|JotM|Julz|June|JyC|Kabu|Kai|Kaka|Freeze|Kecik Imba|Keyser|KheZu|Kim0|KingR|Kingrd|Kingteka|Kipspul|Klasynky',\n",
       " 'KoaLa|Korok|KotLGuy|Kotarō Hayama|Kpoptosis|Kuku|KuroKy|KyrieDepra|L0lik O|LD|LaKelz|LaNm|Lacoste|LeBronDota|LeoStyle-|Ler GG|Liekkas|LighTofHeaveN|Lil|Lil kin6|Limmp|Link|Liposa|Loda|LongDD|Lpc|Lubby|Luft|Luminous|Lwy|MATUMBAMAN|MiSeRy|MMY|MP|MaNia|Machine|Maden|Maelk|MagE-|Mag~',\n",
       " 'Mambos|Mandy|Mantis|Masakary|Masquerade|Massacre|Maut|MelodyLovers|Meracle|Merlini|MiLAN|MidOne|Mikasa|MinD ContRoL|Mini|Miposhka|Miracle-|Mirakel|Misha|Mitch|Monet|Moo|Moogy|Moon (Kam Boon Seng)|MoonMeander|Mtrx4u|Mu|Mushi|MyPro|N0tail|Neqroman|NO Chanc3|NS|Nafari|Nando|Net (player)|Nexus|Nisha|NoFear|Noia',\n",
       " 'Noone|Noxville|NutZ|ODPixel|Ohaiyo|Owa|PAADA|PARIS|PGG|PSM|Pablo|Pajkatt|Palantimos|Paparazi灬|Papita|Piao|Pikachu|Poloson|PrettyHaw|Puppey|Purge (Kevin Godec)|PyrionFlax|Q|QO|QQQ|RAMZES666|RR|RampaGe|Rapy|Raven|Rayuur|ReaLaxXx|Redeye|Reisen|Resolut1on|Retribution|Roddgeee|RodjER|Runec|Ryze',\n",
       " 'SANKE|SUNSfan|Sag|Luobo|Fran|Saksa|Sam H|SanSheng|Santa|Scandal|Sccc|Scofield|Sedoy|SeleCT|SexyBamboe|Sh4dowehhh|Shachlo|Sharky|Sheever|Shiki|Silent|SingSing|Sneyking|SoNNeikO|Solen|Solo|Maybe|StingeR|SumaiL|Sune|Sunlight|Super|Swiftending|Syeonix|Sylar|TC|Taiga|Tavo|Teehee|Therence',\n",
       " 'Thiolicor|TidesofTime|Timado|Tims|TobiWan|Trixi|Tudi|UNiVeRsE|UnderShock|VANSKOR|Velo|Victoria|Vigoss|Waixi|Waytosexy|Weppas|WinteR|WwD|XBOCT|XaKoH|Xepher|Luo|Xiao2lei|XtiNcT|Xxs|Xz|YYF|Yabyoo|Yang|Yao|YaphetS|YapzOr|ZSMJ|Zayac|ZeroPerfect|Zhou|Ztok|Zyori|AabBAA|Ahfu',\n",
       " 'Ana|BLink|BOne7|Blowyourbrain|Boombell|Bubu|C4t|CYso|CanceL^^|Chshrct|Ddc|Dnz|EL lisasH|ELeVeN|Fng|Fy|G0g1|Garter|Goddam|HFn|Hex0r|Hyhy|ILLusionisT|ILTW|INsania|Iceice|Iceiceice|Ixmike88|J4|Jigglebilly|Jonassomfan|KYxY|Le|LizZard|Longb|MarSu|Mason|MdL (Alperen Arslan)|MiCKe|MiGGel']"
      ]
     },
     "execution_count": 98,
     "metadata": {},
     "output_type": "execute_result"
    }
   ],
   "source": [
    "titlelist"
   ]
  },
  {
   "cell_type": "code",
   "execution_count": null,
   "metadata": {},
   "outputs": [],
   "source": [
    "%%time\n",
    "for title in titlelist[220:240]:\n",
    "    json = requestQuery(title)\n",
    "    for pageid, ldata in json.get('query').get('pages').items():\n",
    "        mainid = easyText(ldata['title'])\n",
    "        try:\n",
    "            AlternateIdDict[mainid] = mainid\n",
    "            for altid in ldata['redirects']:\n",
    "                AlternateIdDict[easyText(altid['title'])] = mainid\n",
    "        except KeyError:\n",
    "            AlternateIdDict[mainid] = mainid"
   ]
  },
  {
   "cell_type": "code",
   "execution_count": 94,
   "metadata": {},
   "outputs": [
    {
     "data": {
      "text/plain": [
       "{'13abyknight': '13abyknight',\n",
       " '2gd': '2gd',\n",
       " '33': '33',\n",
       " '4dr': '4dr',\n",
       " '716': 'owa',\n",
       " '7ckngmad': '7ckngmad',\n",
       " '820': '820',\n",
       " '9pasha': '9pasha',\n",
       " '9pashaebashu': '9pasha',\n",
       " 'aaabbbaaa': 'aabbaa',\n",
       " 'aabbaa': 'aabbaa',\n",
       " 'abed': 'abed',\n",
       " 'accel': 'accel',\n",
       " 'ahfu': 'ahfu',\n",
       " 'airmangataosenai': 'illidan',\n",
       " 'alohadance': 'alohadance',\n",
       " 'alwayswannafly': 'alwayswannafly',\n",
       " 'ambos': 'ambos',\n",
       " 'anke': 'anke',\n",
       " 'annahmontana': 'annahmontana',\n",
       " 'ark': 'ark',\n",
       " 'arsart': 'arsart',\n",
       " 'asskip': 'asskip',\n",
       " 'babyknight': '13abyknight',\n",
       " 'beesa': 'beesa',\n",
       " 'benhur': 'benhur',\n",
       " 'benjaz': 'benjaz',\n",
       " 'bennoxvillesteenhuisen': 'noxville',\n",
       " 'bimbo': 'bimbo',\n",
       " 'black': 'black',\n",
       " 'blazemon': 'blazemon',\n",
       " 'blink': 'blink',\n",
       " 'blitz': 'blitz',\n",
       " 'blizzy': 'blizzy',\n",
       " 'bloodynine': 'bloodynine',\n",
       " 'blowyourbrain': 'blowyourbrain',\n",
       " 'boboka': 'boboka',\n",
       " 'bone7': 'bone7',\n",
       " 'boombacs': 'boombacs',\n",
       " 'boombell': 'boombell',\n",
       " 'bubu': 'bubu',\n",
       " 'bubu3': 'bubu',\n",
       " 'bulba': 'bulba',\n",
       " 'burning': 'burning',\n",
       " 'bzzisperfect': 'bzzisperfect',\n",
       " 'c4t': 'c4t',\n",
       " 'cancel': 'cancel',\n",
       " 'cartman': 'cartman',\n",
       " 'casperrr': 'casperrr',\n",
       " 'cast': 'cast',\n",
       " 'cema': 'cematheslayer',\n",
       " 'cematheslayer': 'cematheslayer',\n",
       " 'chalice': 'chalice',\n",
       " 'chaoyue': 'chaoyue',\n",
       " 'chappie': 'chappie',\n",
       " 'chessie': 'chessie',\n",
       " 'chibix': 'chibix',\n",
       " 'chshrct': 'chshrct',\n",
       " 'chuan': 'chuan',\n",
       " 'chuvash': 'chuvash',\n",
       " 'comewithme': 'comewithme',\n",
       " 'cooman': 'cooman',\n",
       " 'cr1t': 'cr1t',\n",
       " 'crioj': 'crioj',\n",
       " 'crystallize': 'crystallize',\n",
       " 'cty': 'cty',\n",
       " 'cys': 'cys',\n",
       " 'cyso': 'cyso',\n",
       " 'dakota': 'kotlguy',\n",
       " 'ddc': 'ddc',\n",
       " 'ddx': 'ddx',\n",
       " 'demon': 'demon',\n",
       " 'dendi': 'dendi',\n",
       " 'dityara': 'dityara',\n",
       " 'dj': 'dj',\n",
       " 'dkphobos': 'dkphobos',\n",
       " 'dnz': 'dnz',\n",
       " 'dogf1ghts': 'dogf1ghts',\n",
       " 'doney': 'egm',\n",
       " 'doni': 'egm',\n",
       " 'draskyl': 'draskyl',\n",
       " 'dread': 'dread',\n",
       " 'dreamocel': 'dreamocel',\n",
       " 'droog': 'droog',\n",
       " 'dubu': 'dubu',\n",
       " 'duster': 'duster',\n",
       " 'ee': 'eternalenvy',\n",
       " 'eesama': 'eternalenvy',\n",
       " 'egm': 'egm',\n",
       " 'eleven': 'eleven',\n",
       " 'ellisash': 'ellisash',\n",
       " 'era': 'era',\n",
       " 'erineeman': 'erineeman',\n",
       " 'eskillz': 'eskillz',\n",
       " 'eterna7': 'mikasa',\n",
       " 'eternalenvy': 'eternalenvy',\n",
       " 'excalibur': 'excalibur',\n",
       " 'faith': 'faith',\n",
       " 'faithbian': 'faithbian',\n",
       " 'fata': 'fata',\n",
       " 'fear': 'fear',\n",
       " 'feaver': 'feaver',\n",
       " 'febby': 'febby',\n",
       " 'fenrir': 'fenrir',\n",
       " 'ferrari430': 'ferrari430',\n",
       " 'fey': 'fey',\n",
       " 'flens': 'flens',\n",
       " 'fluffnstuff': 'fluffnstuff',\n",
       " 'fly': 'fly',\n",
       " 'flysolo': 'flysolo',\n",
       " 'fng': 'fng',\n",
       " 'fogged': 'fogged',\n",
       " 'fonte': 'fonte',\n",
       " 'forev': 'forev',\n",
       " 'fran': 'fran',\n",
       " 'freeze': 'freeze',\n",
       " 'fuckingmad': '7ckngmad',\n",
       " 'funn1k': 'funn1k',\n",
       " 'fy': 'fy',\n",
       " 'g': 'g',\n",
       " 'g0g1': 'g0g1',\n",
       " 'gabbi': 'gabbi',\n",
       " 'garder': 'garder',\n",
       " 'gareth': 'gareth',\n",
       " 'garter': 'garter',\n",
       " 'general': 'general',\n",
       " 'ghostik': 'ghostik',\n",
       " 'goblak': 'goblak',\n",
       " 'goddam': 'goddam',\n",
       " 'godot': 'godot',\n",
       " 'godz': 'godz',\n",
       " 'gorgc': 'gorgc',\n",
       " 'grimocel': 'dreamocel',\n",
       " 'gudii': 'gudii',\n",
       " 'handsken': 'handsken',\n",
       " 'hao': 'hao',\n",
       " 'heen': 'heen',\n",
       " 'hestejoerotten': 'hestejoerotten',\n",
       " 'hex0r': 'hex0r',\n",
       " 'hfn': 'hfn',\n",
       " 'hiolicor': 'hiolicor',\n",
       " 'hook': 'hookplayer',\n",
       " 'hookplayer': 'hookplayer',\n",
       " 'hugo': 'hugo',\n",
       " 'hyhy': 'hyhy',\n",
       " 'iceberg': 'iceberg',\n",
       " 'iceice': 'iceice',\n",
       " 'iceiceice': 'iceiceice',\n",
       " 'icy': 'icy',\n",
       " 'illidan': 'illidan',\n",
       " 'illusionist': 'illusionist',\n",
       " 'iltw': 'iltw',\n",
       " 'inflame': 'inflame',\n",
       " 'injuly': 'injuly',\n",
       " 'inmate': 'inmate',\n",
       " 'insania': 'insania',\n",
       " 'inverno': 'inverno',\n",
       " 'ixmike88': 'ixmike88',\n",
       " 'j3r1ch0': 'jericho',\n",
       " 'j4': 'j4',\n",
       " 'jab': 'jabz',\n",
       " 'jabz': 'jabz',\n",
       " 'jay': 'bimbo',\n",
       " 'jenkins': 'jenkins',\n",
       " 'jerax': 'jerax',\n",
       " 'jericho': 'jericho',\n",
       " 'jessievash': 'jessievash',\n",
       " 'jeyo': 'jeyo',\n",
       " 'jigglebilly': 'jigglebilly',\n",
       " 'jixing': 'jixing',\n",
       " 'jonassomfan': 'jonassomfan',\n",
       " 'joraal': 'joraal',\n",
       " 'jotm': 'jotm',\n",
       " 'julz': 'julz',\n",
       " 'june': 'june',\n",
       " 'just': 'just',\n",
       " 'jyc': 'jyc',\n",
       " 'kabu': 'kabu',\n",
       " 'kai': 'kai',\n",
       " 'kaka': 'kaka',\n",
       " 'kamma': 'freeze',\n",
       " 'kaneki': 'jabz',\n",
       " 'kecikimba': 'kecikimba',\n",
       " 'key': 'sag',\n",
       " 'keyser': 'keyser',\n",
       " 'khezu': 'khezu',\n",
       " 'kim0': 'kim0',\n",
       " 'kingr': 'kingr',\n",
       " 'kingrd': 'kingrd',\n",
       " 'kingteka': 'kingteka',\n",
       " 'kipspul': 'kipspul',\n",
       " 'kky': 'kuroky',\n",
       " 'klasynky': 'klasynky',\n",
       " 'korok': 'korok',\n",
       " 'kotaro': 'kotarōhayama',\n",
       " 'kotarohayama': 'kotarōhayama',\n",
       " 'kotarōhayama': 'kotarōhayama',\n",
       " 'kotlguy': 'kotlguy',\n",
       " 'kpoptosis': 'kpoptosis',\n",
       " 'kuku': 'kuku',\n",
       " 'kuro': 'kuroky',\n",
       " 'kuroky': 'kuroky',\n",
       " 'kyriedepra': 'kyriedepra',\n",
       " 'kyxy': 'kyxy',\n",
       " 'l0liko': 'l0liko',\n",
       " 'lacoste': 'lacoste',\n",
       " 'lakalz': 'lakelz',\n",
       " 'lakelz': 'lakelz',\n",
       " 'lanm': 'lanm',\n",
       " 'ld': 'ld',\n",
       " 'le': 'le',\n",
       " 'lebrondota': 'lebrondota',\n",
       " 'leostyle': 'leostyle',\n",
       " 'lergg': 'lergg',\n",
       " 'liekkas': 'liekkas',\n",
       " 'lightofheaven': 'lightofheaven',\n",
       " 'lil': 'lil',\n",
       " 'lilkin6': 'lilkin6',\n",
       " 'limmp': 'limmp',\n",
       " 'link': 'link',\n",
       " 'liposa': 'liposa',\n",
       " 'lizzard': 'lizzard',\n",
       " 'loda': 'loda',\n",
       " 'lolik': 'l0liko',\n",
       " 'longb': 'longb',\n",
       " 'longdd': 'longdd',\n",
       " 'lpc': 'lpc',\n",
       " 'lubby': 'lubby',\n",
       " 'luft': 'luft',\n",
       " 'luminous': 'luminous',\n",
       " 'luo': 'luo',\n",
       " 'luobo': 'luobo',\n",
       " 'lwy': 'lwy',\n",
       " 'machine': 'machine',\n",
       " 'maden': 'maden',\n",
       " 'madshka': '7ckngmad',\n",
       " 'maelk': 'maelk',\n",
       " 'mag': 'mag',\n",
       " 'mage': 'mage',\n",
       " 'mandy': 'mandy',\n",
       " 'mania': 'mania',\n",
       " 'mantis': 'mantis',\n",
       " 'marsc': 'fran',\n",
       " 'marsu': 'marsu',\n",
       " 'masakary': 'masakary',\n",
       " 'mason': 'mason',\n",
       " 'masquerade': 'masquerade',\n",
       " 'massacre': 'massacre',\n",
       " 'matumbaman': 'matumbaman',\n",
       " 'maut': 'maut',\n",
       " 'maybe': 'maybe',\n",
       " 'mdlalperenarslan': 'mdlalperenarslan',\n",
       " 'melodylovers': 'melodylovers',\n",
       " 'meracle': 'meracle',\n",
       " 'merlini': 'merlini',\n",
       " 'micke': 'micke',\n",
       " 'midone': 'midone',\n",
       " 'miduan': 'midone',\n",
       " 'miggel': 'miggel',\n",
       " 'mikasa': 'mikasa',\n",
       " 'milan': 'milan',\n",
       " 'mindcontrol': 'mindcontrol',\n",
       " 'mini': 'mini',\n",
       " 'minoz': 'kotarōhayama',\n",
       " 'miposhka': 'miposhka',\n",
       " 'miracle': 'miracle',\n",
       " 'mirakel': 'mirakel',\n",
       " 'misery': 'misery',\n",
       " 'misha': 'misha',\n",
       " 'mitch': 'mitch',\n",
       " 'mmy': 'mmy',\n",
       " 'monet': 'monet',\n",
       " 'moo': 'moo',\n",
       " 'moogy': 'moogy',\n",
       " 'moonkamboonseng': 'moonkamboonseng',\n",
       " 'moonmeander': 'moonmeander',\n",
       " 'mp': 'mp',\n",
       " 'mtrx4u': 'mtrx4u',\n",
       " 'mu': 'mu',\n",
       " 'mushi': 'mushi',\n",
       " 'musica': 'musica',\n",
       " 'mypro': 'mypro',\n",
       " 'n0tail': 'n0tail',\n",
       " 'na': 'na',\n",
       " 'nafari': 'nafari',\n",
       " 'nana': 'moonkamboonseng',\n",
       " 'nando': 'nando',\n",
       " 'nemphy': 'nemphy',\n",
       " 'neo': 'sag',\n",
       " 'neqroman': 'neqroman',\n",
       " 'netplayer': 'netplayer',\n",
       " 'nexus': 'nexus',\n",
       " 'ninjaboogie': 'ninjaboogie',\n",
       " 'nisha': 'nisha',\n",
       " 'nochanc3': 'nochanc3',\n",
       " 'nofear': 'nofear',\n",
       " 'noia': 'noia',\n",
       " 'noxville': 'noxville',\n",
       " 'noxvilleza': 'noxville',\n",
       " 'ns': 'ns',\n",
       " 'nutz': 'nutz',\n",
       " 'oala': 'oala',\n",
       " 'odpixel': 'odpixel',\n",
       " 'ohaiyo': 'ohaiyo',\n",
       " 'ohy': 'ohaiyo',\n",
       " 'oldchicken': 'oldchicken',\n",
       " 'ool': 'ool',\n",
       " 'oone': 'oone',\n",
       " 'owa': 'owa',\n",
       " 'oy': 'boombell',\n",
       " 'paada': 'paada',\n",
       " 'pablo': 'pablo',\n",
       " 'pajkatt': 'pajkatt',\n",
       " 'palantimos': 'palantimos',\n",
       " 'paparazi灬': 'paparazi灬',\n",
       " 'papita': 'papita',\n",
       " 'paris': 'paris',\n",
       " 'pas': 'pas',\n",
       " 'pgg': 'pgg',\n",
       " 'piao': 'piao',\n",
       " 'pikachu': 'pikachu',\n",
       " 'poloson': 'poloson',\n",
       " 'ppd': 'ppd',\n",
       " 'prettyhaw': 'prettyhaw',\n",
       " 'psm': 'psm',\n",
       " 'puppey': 'puppey',\n",
       " 'purgekevingodec': 'purgekevingodec',\n",
       " 'pwn': 'pwn',\n",
       " 'pyrionflax': 'pyrionflax',\n",
       " 'q': 'q',\n",
       " 'qo': 'qo',\n",
       " 'qqq': 'qqq',\n",
       " 'ragingpotato': 'bimbo',\n",
       " 'rampage': 'rampage',\n",
       " 'ramzes666': 'ramzes666',\n",
       " 'rapy': 'rapy',\n",
       " 'raven': 'raven',\n",
       " 'rayich': 'rayich',\n",
       " 'rayuur': 'rayuur',\n",
       " 'realaxxx': 'realaxxx',\n",
       " 'redeye': 'redeye',\n",
       " 'reisen': 'reisen',\n",
       " 'resolut1on': 'resolut1on',\n",
       " 'retribution': 'retribution',\n",
       " 'rmn': 'rmn',\n",
       " 'roddgeee': 'roddgeee',\n",
       " 'rodjer': 'rodjer',\n",
       " 'rotk': 'rotk',\n",
       " 'rr': 'rr',\n",
       " 'runec': 'runec',\n",
       " 'ryoyr': 'ryoyr',\n",
       " 'ryze': 'ryze',\n",
       " 's4': 's4',\n",
       " 'sag': 'sag',\n",
       " 'sakata': 'fran',\n",
       " 'saksa': 'saksa',\n",
       " 'samh': 'samh',\n",
       " 'sansheng': 'sansheng',\n",
       " 'santa': 'santa',\n",
       " 'scandal': 'scandal',\n",
       " 'sccc': 'sccc',\n",
       " 'scofield': 'scofield',\n",
       " 'sedoy': 'sedoy',\n",
       " 'select': 'select',\n",
       " 'sexybamboe': 'sexybamboe',\n",
       " 'sh4dowehhh': 'sh4dowehhh',\n",
       " 'shachlo': 'shachlo',\n",
       " 'shadowplayer': 'shadowplayer',\n",
       " 'sharky': 'sharky',\n",
       " 'sheever': 'sheever',\n",
       " 'shiki': 'shiki',\n",
       " 'silent': 'silent',\n",
       " 'singsing': 'singsing',\n",
       " 'skrff': 'skrff',\n",
       " 'sneyking': 'sneyking',\n",
       " 'sockshka': 'paris',\n",
       " 'solen': 'solen',\n",
       " 'solo': 'solo',\n",
       " 'somnus': 'maybe',\n",
       " 'somnus丶m': 'maybe',\n",
       " 'sonneiko': 'sonneiko',\n",
       " 'stinger': 'stinger',\n",
       " 'sugarbaby': 'sugarbaby',\n",
       " 'sumail': 'sumail',\n",
       " 'sune': 'sune',\n",
       " 'sunlight': 'sunlight',\n",
       " 'sunsfan': 'sunsfan',\n",
       " 'super': 'super',\n",
       " 'supersupeng': 'supersupeng',\n",
       " 'swiftending': 'swiftending',\n",
       " 'sydm': 'mikasa',\n",
       " 'syeonix': 'syeonix',\n",
       " 'sylar': 'sylar',\n",
       " 'synderen': 'synderen',\n",
       " 'taiga': 'taiga',\n",
       " 'tavo': 'tavo',\n",
       " 'tc': 'tc',\n",
       " 'teehee': 'teehee',\n",
       " 'thecoon': '33',\n",
       " 'therence': 'therence',\n",
       " 'tidesoftime': 'tidesoftime',\n",
       " 'timado': 'timado',\n",
       " 'tims': 'tims',\n",
       " 'tobi': 'tobiwan',\n",
       " 'tobiwan': 'tobiwan',\n",
       " 'trixi': 'trixi',\n",
       " 'tudi': 'tudi',\n",
       " 'undershock': 'undershock',\n",
       " 'universe': 'universe',\n",
       " 'uuu9': 'moogy',\n",
       " 'v0ja': 'v0ja',\n",
       " 'v1lat': 'v1lat',\n",
       " 'vandersar': 'vandersar',\n",
       " 'vann': 'vann',\n",
       " 'vanskor': 'vanskor',\n",
       " 'vash': 'jessievash',\n",
       " 'velo': 'velo',\n",
       " 'victoria': 'victoria',\n",
       " 'vigoss': 'vigoss',\n",
       " 'w33': 'w33',\n",
       " 'waixi': 'waixi',\n",
       " 'warnut': 'nutz',\n",
       " 'warnutz': 'nutz',\n",
       " 'waytosexy': 'waytosexy',\n",
       " 'wejustzik': 'wejustzik',\n",
       " 'weppas': 'weppas',\n",
       " 'winter': 'winter',\n",
       " 'wwd': 'wwd',\n",
       " 'wwiewambo': 'wwiewambo',\n",
       " 'xakoh': 'xakoh',\n",
       " 'xboct': 'xboct',\n",
       " 'xepher': 'xepher',\n",
       " 'xfreedom': 'xfreedom',\n",
       " 'xi': 'luo',\n",
       " 'xiao2lei': 'xiao2lei',\n",
       " 'xiao8': 'xiao8',\n",
       " 'xrag': 'xrag',\n",
       " 'xtinct': 'xtinct',\n",
       " 'xxs': 'xxs',\n",
       " 'xy': 'xy',\n",
       " 'xz': 'xz',\n",
       " 'y': 'y',\n",
       " 'yabyoo': 'yabyoo',\n",
       " 'yaj': 'yaj',\n",
       " 'yang': 'yang',\n",
       " 'yao': 'yao',\n",
       " 'yaphets': 'yaphets',\n",
       " 'yapzor': 'yapzor',\n",
       " 'yim': 'yim',\n",
       " 'yoky': 'yoky',\n",
       " 'yol': 'yol',\n",
       " 'yyf': 'yyf',\n",
       " 'zai': 'zai',\n",
       " 'zayac': 'zayac',\n",
       " 'zeroperfect': 'zeroperfect',\n",
       " 'zhou': 'zhou',\n",
       " 'zsmj': 'zsmj',\n",
       " 'ztok': 'ztok',\n",
       " 'zy': 'blink',\n",
       " 'zyori': 'zyori',\n",
       " 'женя': 'женя',\n",
       " '跳刀跳刀': 'blink',\n",
       " '跳刀跳刀丶': 'blink',\n",
       " '闷油瓶': '闷油瓶'}"
      ]
     },
     "execution_count": 94,
     "metadata": {},
     "output_type": "execute_result"
    }
   ],
   "source": [
    "AlternateIdDict"
   ]
  },
  {
   "cell_type": "code",
   "execution_count": 10,
   "metadata": {},
   "outputs": [
    {
     "data": {
      "text/plain": [
       "{'displaytitle': 'N0tail',\n",
       " 'exists': '1',\n",
       " 'fulltext': 'N0tail',\n",
       " 'fullurl': 'http://liquipedia.net/dota2/N0tail',\n",
       " 'namespace': 0,\n",
       " 'printouts': {'Has birth day': [{'raw': '1/1993/10/8',\n",
       "    'timestamp': '750038400'}],\n",
       "  'Has id': ['N0tail'],\n",
       "  'Has name': ['Johan Sundstein'],\n",
       "  'Has nationality': ['Denmark'],\n",
       "  'Has role': ['Carry']}}"
      ]
     },
     "execution_count": 10,
     "metadata": {},
     "output_type": "execute_result"
    }
   ],
   "source": [
    " json.get('query').get('results')['N0tail']"
   ]
  },
  {
   "cell_type": "code",
   "execution_count": 11,
   "metadata": {},
   "outputs": [
    {
     "data": {
      "text/plain": [
       "435"
      ]
     },
     "execution_count": 11,
     "metadata": {},
     "output_type": "execute_result"
    }
   ],
   "source": [
    "len(df)"
   ]
  },
  {
   "cell_type": "code",
   "execution_count": 53,
   "metadata": {},
   "outputs": [],
   "source": [
    "def AlternateIdDict(AlternateIdDict, json):\n",
    "    for pageid, ldata in json.get('query').get('pages').items():\n",
    "        mainid = easyText(ldata['title'])\n",
    "        try:\n",
    "            AlternateIdDict[mainid] = mainid\n",
    "            for altid in ldata['redirects']:\n",
    "                AlternateIdDict[easyText(altid['title'])] = mainid\n",
    "        except KeyError:\n",
    "            AlternateIdDict[mainid] = mainid\n",
    "    return AlternateIdDict"
   ]
  },
  {
   "cell_type": "code",
   "execution_count": 55,
   "metadata": {},
   "outputs": [
    {
     "ename": "TypeError",
     "evalue": "'function' object does not support item assignment",
     "output_type": "error",
     "traceback": [
      "\u001b[1;31m---------------------------------------------------------------------------\u001b[0m",
      "\u001b[1;31mTypeError\u001b[0m                                 Traceback (most recent call last)",
      "\u001b[1;32m<ipython-input-55-66534119038c>\u001b[0m in \u001b[0;36m<module>\u001b[1;34m()\u001b[0m\n\u001b[1;32m----> 1\u001b[1;33m \u001b[0mAlternateIdDict\u001b[0m \u001b[1;33m=\u001b[0m \u001b[0mAlternateIdDict\u001b[0m\u001b[1;33m(\u001b[0m\u001b[0mAlternateIdDict\u001b[0m\u001b[1;33m,\u001b[0m \u001b[0mjson\u001b[0m\u001b[1;33m)\u001b[0m\u001b[1;33m\u001b[0m\u001b[0m\n\u001b[0m",
      "\u001b[1;32m<ipython-input-53-40402a6c32fd>\u001b[0m in \u001b[0;36mAlternateIdDict\u001b[1;34m(AlternateIdDict, json)\u001b[0m\n\u001b[0;32m      3\u001b[0m         \u001b[0mmainid\u001b[0m \u001b[1;33m=\u001b[0m \u001b[0measyText\u001b[0m\u001b[1;33m(\u001b[0m\u001b[0mldata\u001b[0m\u001b[1;33m[\u001b[0m\u001b[1;34m'title'\u001b[0m\u001b[1;33m]\u001b[0m\u001b[1;33m)\u001b[0m\u001b[1;33m\u001b[0m\u001b[0m\n\u001b[0;32m      4\u001b[0m         \u001b[1;32mtry\u001b[0m\u001b[1;33m:\u001b[0m\u001b[1;33m\u001b[0m\u001b[0m\n\u001b[1;32m----> 5\u001b[1;33m             \u001b[0mAlternateIdDict\u001b[0m\u001b[1;33m[\u001b[0m\u001b[0mmainid\u001b[0m\u001b[1;33m]\u001b[0m \u001b[1;33m=\u001b[0m \u001b[0mmainid\u001b[0m\u001b[1;33m\u001b[0m\u001b[0m\n\u001b[0m\u001b[0;32m      6\u001b[0m             \u001b[1;32mfor\u001b[0m \u001b[0maltid\u001b[0m \u001b[1;32min\u001b[0m \u001b[0mldata\u001b[0m\u001b[1;33m[\u001b[0m\u001b[1;34m'redirects'\u001b[0m\u001b[1;33m]\u001b[0m\u001b[1;33m:\u001b[0m\u001b[1;33m\u001b[0m\u001b[0m\n\u001b[0;32m      7\u001b[0m                 \u001b[0mAlternateIdDict\u001b[0m\u001b[1;33m[\u001b[0m\u001b[0measyText\u001b[0m\u001b[1;33m(\u001b[0m\u001b[0maltid\u001b[0m\u001b[1;33m[\u001b[0m\u001b[1;34m'title'\u001b[0m\u001b[1;33m]\u001b[0m\u001b[1;33m)\u001b[0m\u001b[1;33m]\u001b[0m \u001b[1;33m=\u001b[0m \u001b[0mmainid\u001b[0m\u001b[1;33m\u001b[0m\u001b[0m\n",
      "\u001b[1;31mTypeError\u001b[0m: 'function' object does not support item assignment"
     ]
    }
   ],
   "source": [
    "AlternateIdDict = AlternateIdDict(AlternateIdDict, json)"
   ]
  },
  {
   "cell_type": "code",
   "execution_count": 5,
   "metadata": {
    "collapsed": true
   },
   "outputs": [],
   "source": [
    "df['idlow'] = df.id"
   ]
  },
  {
   "cell_type": "code",
   "execution_count": 6,
   "metadata": {
    "collapsed": true
   },
   "outputs": [],
   "source": [
    "df.idlow = df.idlow.str.replace(r'\\W+', '').str.lower()"
   ]
  },
  {
   "cell_type": "code",
   "execution_count": 97,
   "metadata": {},
   "outputs": [
    {
     "ename": "KeyError",
     "evalue": "'player'",
     "output_type": "error",
     "traceback": [
      "\u001b[1;31m---------------------------------------------------------------------------\u001b[0m",
      "\u001b[1;31mKeyError\u001b[0m                                  Traceback (most recent call last)",
      "\u001b[1;32m~\\AppData\\Local\\Continuum\\anaconda3\\lib\\site-packages\\pandas\\core\\indexes\\base.py\u001b[0m in \u001b[0;36mget_loc\u001b[1;34m(self, key, method, tolerance)\u001b[0m\n\u001b[0;32m   2441\u001b[0m             \u001b[1;32mtry\u001b[0m\u001b[1;33m:\u001b[0m\u001b[1;33m\u001b[0m\u001b[0m\n\u001b[1;32m-> 2442\u001b[1;33m                 \u001b[1;32mreturn\u001b[0m \u001b[0mself\u001b[0m\u001b[1;33m.\u001b[0m\u001b[0m_engine\u001b[0m\u001b[1;33m.\u001b[0m\u001b[0mget_loc\u001b[0m\u001b[1;33m(\u001b[0m\u001b[0mkey\u001b[0m\u001b[1;33m)\u001b[0m\u001b[1;33m\u001b[0m\u001b[0m\n\u001b[0m\u001b[0;32m   2443\u001b[0m             \u001b[1;32mexcept\u001b[0m \u001b[0mKeyError\u001b[0m\u001b[1;33m:\u001b[0m\u001b[1;33m\u001b[0m\u001b[0m\n",
      "\u001b[1;32mpandas\\_libs\\index.pyx\u001b[0m in \u001b[0;36mpandas._libs.index.IndexEngine.get_loc\u001b[1;34m()\u001b[0m\n",
      "\u001b[1;32mpandas\\_libs\\index.pyx\u001b[0m in \u001b[0;36mpandas._libs.index.IndexEngine.get_loc\u001b[1;34m()\u001b[0m\n",
      "\u001b[1;32mpandas\\_libs\\hashtable_class_helper.pxi\u001b[0m in \u001b[0;36mpandas._libs.hashtable.PyObjectHashTable.get_item\u001b[1;34m()\u001b[0m\n",
      "\u001b[1;32mpandas\\_libs\\hashtable_class_helper.pxi\u001b[0m in \u001b[0;36mpandas._libs.hashtable.PyObjectHashTable.get_item\u001b[1;34m()\u001b[0m\n",
      "\u001b[1;31mKeyError\u001b[0m: 'player'",
      "\nDuring handling of the above exception, another exception occurred:\n",
      "\u001b[1;31mKeyError\u001b[0m                                  Traceback (most recent call last)",
      "\u001b[1;32m<ipython-input-97-71cdefc288fa>\u001b[0m in \u001b[0;36m<module>\u001b[1;34m()\u001b[0m\n\u001b[1;32m----> 1\u001b[1;33m \u001b[0mdf\u001b[0m\u001b[1;33m[\u001b[0m\u001b[0mdf\u001b[0m\u001b[1;33m[\u001b[0m\u001b[1;34m'player'\u001b[0m\u001b[1;33m]\u001b[0m \u001b[1;33m==\u001b[0m \u001b[1;34m'kpii'\u001b[0m\u001b[1;33m]\u001b[0m\u001b[1;33m\u001b[0m\u001b[0m\n\u001b[0m",
      "\u001b[1;32m~\\AppData\\Local\\Continuum\\anaconda3\\lib\\site-packages\\pandas\\core\\frame.py\u001b[0m in \u001b[0;36m__getitem__\u001b[1;34m(self, key)\u001b[0m\n\u001b[0;32m   1962\u001b[0m             \u001b[1;32mreturn\u001b[0m \u001b[0mself\u001b[0m\u001b[1;33m.\u001b[0m\u001b[0m_getitem_multilevel\u001b[0m\u001b[1;33m(\u001b[0m\u001b[0mkey\u001b[0m\u001b[1;33m)\u001b[0m\u001b[1;33m\u001b[0m\u001b[0m\n\u001b[0;32m   1963\u001b[0m         \u001b[1;32melse\u001b[0m\u001b[1;33m:\u001b[0m\u001b[1;33m\u001b[0m\u001b[0m\n\u001b[1;32m-> 1964\u001b[1;33m             \u001b[1;32mreturn\u001b[0m \u001b[0mself\u001b[0m\u001b[1;33m.\u001b[0m\u001b[0m_getitem_column\u001b[0m\u001b[1;33m(\u001b[0m\u001b[0mkey\u001b[0m\u001b[1;33m)\u001b[0m\u001b[1;33m\u001b[0m\u001b[0m\n\u001b[0m\u001b[0;32m   1965\u001b[0m \u001b[1;33m\u001b[0m\u001b[0m\n\u001b[0;32m   1966\u001b[0m     \u001b[1;32mdef\u001b[0m \u001b[0m_getitem_column\u001b[0m\u001b[1;33m(\u001b[0m\u001b[0mself\u001b[0m\u001b[1;33m,\u001b[0m \u001b[0mkey\u001b[0m\u001b[1;33m)\u001b[0m\u001b[1;33m:\u001b[0m\u001b[1;33m\u001b[0m\u001b[0m\n",
      "\u001b[1;32m~\\AppData\\Local\\Continuum\\anaconda3\\lib\\site-packages\\pandas\\core\\frame.py\u001b[0m in \u001b[0;36m_getitem_column\u001b[1;34m(self, key)\u001b[0m\n\u001b[0;32m   1969\u001b[0m         \u001b[1;31m# get column\u001b[0m\u001b[1;33m\u001b[0m\u001b[1;33m\u001b[0m\u001b[0m\n\u001b[0;32m   1970\u001b[0m         \u001b[1;32mif\u001b[0m \u001b[0mself\u001b[0m\u001b[1;33m.\u001b[0m\u001b[0mcolumns\u001b[0m\u001b[1;33m.\u001b[0m\u001b[0mis_unique\u001b[0m\u001b[1;33m:\u001b[0m\u001b[1;33m\u001b[0m\u001b[0m\n\u001b[1;32m-> 1971\u001b[1;33m             \u001b[1;32mreturn\u001b[0m \u001b[0mself\u001b[0m\u001b[1;33m.\u001b[0m\u001b[0m_get_item_cache\u001b[0m\u001b[1;33m(\u001b[0m\u001b[0mkey\u001b[0m\u001b[1;33m)\u001b[0m\u001b[1;33m\u001b[0m\u001b[0m\n\u001b[0m\u001b[0;32m   1972\u001b[0m \u001b[1;33m\u001b[0m\u001b[0m\n\u001b[0;32m   1973\u001b[0m         \u001b[1;31m# duplicate columns & possible reduce dimensionality\u001b[0m\u001b[1;33m\u001b[0m\u001b[1;33m\u001b[0m\u001b[0m\n",
      "\u001b[1;32m~\\AppData\\Local\\Continuum\\anaconda3\\lib\\site-packages\\pandas\\core\\generic.py\u001b[0m in \u001b[0;36m_get_item_cache\u001b[1;34m(self, item)\u001b[0m\n\u001b[0;32m   1643\u001b[0m         \u001b[0mres\u001b[0m \u001b[1;33m=\u001b[0m \u001b[0mcache\u001b[0m\u001b[1;33m.\u001b[0m\u001b[0mget\u001b[0m\u001b[1;33m(\u001b[0m\u001b[0mitem\u001b[0m\u001b[1;33m)\u001b[0m\u001b[1;33m\u001b[0m\u001b[0m\n\u001b[0;32m   1644\u001b[0m         \u001b[1;32mif\u001b[0m \u001b[0mres\u001b[0m \u001b[1;32mis\u001b[0m \u001b[1;32mNone\u001b[0m\u001b[1;33m:\u001b[0m\u001b[1;33m\u001b[0m\u001b[0m\n\u001b[1;32m-> 1645\u001b[1;33m             \u001b[0mvalues\u001b[0m \u001b[1;33m=\u001b[0m \u001b[0mself\u001b[0m\u001b[1;33m.\u001b[0m\u001b[0m_data\u001b[0m\u001b[1;33m.\u001b[0m\u001b[0mget\u001b[0m\u001b[1;33m(\u001b[0m\u001b[0mitem\u001b[0m\u001b[1;33m)\u001b[0m\u001b[1;33m\u001b[0m\u001b[0m\n\u001b[0m\u001b[0;32m   1646\u001b[0m             \u001b[0mres\u001b[0m \u001b[1;33m=\u001b[0m \u001b[0mself\u001b[0m\u001b[1;33m.\u001b[0m\u001b[0m_box_item_values\u001b[0m\u001b[1;33m(\u001b[0m\u001b[0mitem\u001b[0m\u001b[1;33m,\u001b[0m \u001b[0mvalues\u001b[0m\u001b[1;33m)\u001b[0m\u001b[1;33m\u001b[0m\u001b[0m\n\u001b[0;32m   1647\u001b[0m             \u001b[0mcache\u001b[0m\u001b[1;33m[\u001b[0m\u001b[0mitem\u001b[0m\u001b[1;33m]\u001b[0m \u001b[1;33m=\u001b[0m \u001b[0mres\u001b[0m\u001b[1;33m\u001b[0m\u001b[0m\n",
      "\u001b[1;32m~\\AppData\\Local\\Continuum\\anaconda3\\lib\\site-packages\\pandas\\core\\internals.py\u001b[0m in \u001b[0;36mget\u001b[1;34m(self, item, fastpath)\u001b[0m\n\u001b[0;32m   3588\u001b[0m \u001b[1;33m\u001b[0m\u001b[0m\n\u001b[0;32m   3589\u001b[0m             \u001b[1;32mif\u001b[0m \u001b[1;32mnot\u001b[0m \u001b[0misnull\u001b[0m\u001b[1;33m(\u001b[0m\u001b[0mitem\u001b[0m\u001b[1;33m)\u001b[0m\u001b[1;33m:\u001b[0m\u001b[1;33m\u001b[0m\u001b[0m\n\u001b[1;32m-> 3590\u001b[1;33m                 \u001b[0mloc\u001b[0m \u001b[1;33m=\u001b[0m \u001b[0mself\u001b[0m\u001b[1;33m.\u001b[0m\u001b[0mitems\u001b[0m\u001b[1;33m.\u001b[0m\u001b[0mget_loc\u001b[0m\u001b[1;33m(\u001b[0m\u001b[0mitem\u001b[0m\u001b[1;33m)\u001b[0m\u001b[1;33m\u001b[0m\u001b[0m\n\u001b[0m\u001b[0;32m   3591\u001b[0m             \u001b[1;32melse\u001b[0m\u001b[1;33m:\u001b[0m\u001b[1;33m\u001b[0m\u001b[0m\n\u001b[0;32m   3592\u001b[0m                 \u001b[0mindexer\u001b[0m \u001b[1;33m=\u001b[0m \u001b[0mnp\u001b[0m\u001b[1;33m.\u001b[0m\u001b[0marange\u001b[0m\u001b[1;33m(\u001b[0m\u001b[0mlen\u001b[0m\u001b[1;33m(\u001b[0m\u001b[0mself\u001b[0m\u001b[1;33m.\u001b[0m\u001b[0mitems\u001b[0m\u001b[1;33m)\u001b[0m\u001b[1;33m)\u001b[0m\u001b[1;33m[\u001b[0m\u001b[0misnull\u001b[0m\u001b[1;33m(\u001b[0m\u001b[0mself\u001b[0m\u001b[1;33m.\u001b[0m\u001b[0mitems\u001b[0m\u001b[1;33m)\u001b[0m\u001b[1;33m]\u001b[0m\u001b[1;33m\u001b[0m\u001b[0m\n",
      "\u001b[1;32m~\\AppData\\Local\\Continuum\\anaconda3\\lib\\site-packages\\pandas\\core\\indexes\\base.py\u001b[0m in \u001b[0;36mget_loc\u001b[1;34m(self, key, method, tolerance)\u001b[0m\n\u001b[0;32m   2442\u001b[0m                 \u001b[1;32mreturn\u001b[0m \u001b[0mself\u001b[0m\u001b[1;33m.\u001b[0m\u001b[0m_engine\u001b[0m\u001b[1;33m.\u001b[0m\u001b[0mget_loc\u001b[0m\u001b[1;33m(\u001b[0m\u001b[0mkey\u001b[0m\u001b[1;33m)\u001b[0m\u001b[1;33m\u001b[0m\u001b[0m\n\u001b[0;32m   2443\u001b[0m             \u001b[1;32mexcept\u001b[0m \u001b[0mKeyError\u001b[0m\u001b[1;33m:\u001b[0m\u001b[1;33m\u001b[0m\u001b[0m\n\u001b[1;32m-> 2444\u001b[1;33m                 \u001b[1;32mreturn\u001b[0m \u001b[0mself\u001b[0m\u001b[1;33m.\u001b[0m\u001b[0m_engine\u001b[0m\u001b[1;33m.\u001b[0m\u001b[0mget_loc\u001b[0m\u001b[1;33m(\u001b[0m\u001b[0mself\u001b[0m\u001b[1;33m.\u001b[0m\u001b[0m_maybe_cast_indexer\u001b[0m\u001b[1;33m(\u001b[0m\u001b[0mkey\u001b[0m\u001b[1;33m)\u001b[0m\u001b[1;33m)\u001b[0m\u001b[1;33m\u001b[0m\u001b[0m\n\u001b[0m\u001b[0;32m   2445\u001b[0m \u001b[1;33m\u001b[0m\u001b[0m\n\u001b[0;32m   2446\u001b[0m         \u001b[0mindexer\u001b[0m \u001b[1;33m=\u001b[0m \u001b[0mself\u001b[0m\u001b[1;33m.\u001b[0m\u001b[0mget_indexer\u001b[0m\u001b[1;33m(\u001b[0m\u001b[1;33m[\u001b[0m\u001b[0mkey\u001b[0m\u001b[1;33m]\u001b[0m\u001b[1;33m,\u001b[0m \u001b[0mmethod\u001b[0m\u001b[1;33m=\u001b[0m\u001b[0mmethod\u001b[0m\u001b[1;33m,\u001b[0m \u001b[0mtolerance\u001b[0m\u001b[1;33m=\u001b[0m\u001b[0mtolerance\u001b[0m\u001b[1;33m)\u001b[0m\u001b[1;33m\u001b[0m\u001b[0m\n",
      "\u001b[1;32mpandas\\_libs\\index.pyx\u001b[0m in \u001b[0;36mpandas._libs.index.IndexEngine.get_loc\u001b[1;34m()\u001b[0m\n",
      "\u001b[1;32mpandas\\_libs\\index.pyx\u001b[0m in \u001b[0;36mpandas._libs.index.IndexEngine.get_loc\u001b[1;34m()\u001b[0m\n",
      "\u001b[1;32mpandas\\_libs\\hashtable_class_helper.pxi\u001b[0m in \u001b[0;36mpandas._libs.hashtable.PyObjectHashTable.get_item\u001b[1;34m()\u001b[0m\n",
      "\u001b[1;32mpandas\\_libs\\hashtable_class_helper.pxi\u001b[0m in \u001b[0;36mpandas._libs.hashtable.PyObjectHashTable.get_item\u001b[1;34m()\u001b[0m\n",
      "\u001b[1;31mKeyError\u001b[0m: 'player'"
     ]
    }
   ],
   "source": [
    "df[df['player'] == 'kpii']"
   ]
  },
  {
   "cell_type": "code",
   "execution_count": 9,
   "metadata": {
    "collapsed": true
   },
   "outputs": [],
   "source": [
    "df.to_csv('idanddob.csv', index=False)"
   ]
  },
  {
   "cell_type": "code",
   "execution_count": null,
   "metadata": {
    "collapsed": true
   },
   "outputs": [],
   "source": []
  }
 ],
 "metadata": {
  "kernelspec": {
   "display_name": "Python 3",
   "language": "python",
   "name": "python3"
  },
  "language_info": {
   "codemirror_mode": {
    "name": "ipython",
    "version": 3
   },
   "file_extension": ".py",
   "mimetype": "text/x-python",
   "name": "python",
   "nbconvert_exporter": "python",
   "pygments_lexer": "ipython3",
   "version": "3.6.3"
  }
 },
 "nbformat": 4,
 "nbformat_minor": 2
}
