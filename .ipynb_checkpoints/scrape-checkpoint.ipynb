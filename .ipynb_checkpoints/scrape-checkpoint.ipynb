{
 "cells": [
  {
   "cell_type": "code",
   "execution_count": 2,
   "metadata": {
    "collapsed": true
   },
   "outputs": [],
   "source": [
    "import requests\n",
    "import datetime\n",
    "import pandas as pd\n",
    "import yaml\n",
    "import re\n",
    "from bs4 import BeautifulSoup"
   ]
  },
  {
   "cell_type": "code",
   "execution_count": 3,
   "metadata": {},
   "outputs": [],
   "source": [
    "r = requests.get(url='http://liquipedia.net/dota2/api.php?action=parse&format=json&page=The_International%2F2017&prop=wikitext&sectiontitle=Participants')\n",
    "json = r.json()"
   ]
  },
  {
   "cell_type": "code",
   "execution_count": 29,
   "metadata": {},
   "outputs": [
    {
     "data": {
      "text/plain": [
       "'{{DISPLAYTITLE:The International 2017}}\\n{{TI2017Tabs|This=1}}<br/>\\n{{Infobox league\\n|name=The International 2017\\n|image=Ti7_aegis_banner.jpg\\n|organizer=Valve\\n|valvepremier=true\\n|liquipediatier=Premier\\n|sponsor=[http://www.valvesoftware.com/ Valve]\\n|country=United States\\n|city=Seattle\\n|venue=KeyArena\\n|team_number=18\\n|type=Offline\\n|series=The International\\n|series2=Dota Major Championships\\n|patch=7.06e\\n|format=\\n|sdate=2017-08-02\\n|edate=2017-08-12\\n|website=http://www.dota2.com/international\\n|leagueid=5401\\n|twitter=dota2\\n|instagram=dota2ti\\n|youtube=dota2\\n|prizepoolusd=24,787,916\\n|dotatv=Free in Dota 2 Client\\n|icon=TheInternationalSmall.png\\n|previous=The International/2016{{!}}The International 2016\\n|next=The International/2018{{!}}The International 2018\\n}}\\n\\n\\'\\'\\'The International 2017\\'\\'\\' is the third [[Dota_Major_Championships|Major]] of the 2017 season and the seventh annual edition of [[The International]]. The tournament was hosted in Seattle for the sixth consecutive year. The Main Event took place for the fourth consecutive time at KeyArena, a multi-purpose arena in Seattle Center with a total seating capacity of over 17,000.\\n\\n==Format==\\n*\\'\\'\\'Champions Qualifiers\\'\\'\\' - \\'\\'June 20th - June 22nd, 2017\\'\\'\\n**Four Regional Champions Qualifiers.\\n***The winners of each Champions Qualifier will advance to the respective Main Qualifier.\\n*\\'\\'\\'Open Qualifiers\\'\\'\\' - \\'\\'June 22nd - June 26th, 2017\\'\\'<ref name=\"Tickets for The International 2017\">{{cite web |url=http://blog.dota2.com/2017/03/tickets-for-the-international-2017 |title=Tickets for The International 2017 |date=28 March 2017 |author=Dota Team |publisher=Valve Corporation}}</ref>\\n**Twelve Regional Single-elimination Open Qualifiers, two brackets for each region.\\n***The winners of each Open Qualifier will advance to the respective Main Qualifier.\\n*\\'\\'\\'Main Qualifiers\\'\\'\\' - \\'\\'June 26th - June 30th, 2017\\'\\'<ref name=\"Tickets for The International 2017\" />\\n**Six Regional Qualifiers.\\n***The winners of each Main Qualifier will advance directly to The International.\\n***The runners-up of the Europe, China, Southeast Asia, and North America Main Qualifiers will advance directly to The International.\\n***The third place team of the China and Southeast Asia Main Qualifiers will advance directly to The International.\\n*\\'\\'\\'Group Stage\\'\\'\\' - \\'\\'August 2nd - August 5th, 2017\\'\\' \\n**All eighteen teams are divided into two groups where they play in a Round Robin format.\\n***All matches are played in a {{abbr/Bo2}}.\\n***The top four teams in each group advance to the Upper Bracket of the Main Event.\\n***The bottom team in each group is eliminated.\\n***The remaining teams advance to the Lower Bracket of the Main Event.\\n*\\'\\'\\'Main Event\\'\\'\\' - \\'\\'August 7th - August 12th, 2017\\'\\'\\n**Sixteen teams play in a double-elimination format over six days.\\n***Eight teams begin in the Upper Bracket, eight in the Lower Bracket.\\n***First Lower Bracket round is {{abbr/Bo1}}, Grand Finals are {{abbr/Bo5}}, all others rounds are {{abbr/Bo3}}.\\n\\n==Broadcast Talent==\\n{{box|start|padding=2em}}\\n{{BroadcasterCard\\n|position=Host|lang=en\\n|b1=Day[9] |b1name=Sean Plott |b1flag=us |b1link=Day(9)\\n|b2=Machine\\n}}\\n{{BroadcasterCard\\n|position=Observer\\n|b1=skrff\\n|b2=Weppas\\n}}\\n{{BroadcasterCard\\n|position=Interviewer\\n|b1=Kaci\\n|b2=SirActionSlacks\\n}}\\n{{BroadcasterCard\\n|position=Commentator\\n|b1=Capitalist\\n|b2=Draskyl\\n|b3=Fogged\\n|b4=GoDz\\n|b5=LD\\n|b6=Lyrical\\n|b7=Luminous\\n|b8=Merlini\\n|b9=ODPixel\\n|b10=Purge |b10link=Purge (Kevin Godec)\\n|b11=Sheever\\n|b12=syndereN\\n|b13=TobiWan\\n|b14=WinteR\\n}}\\n{{BroadcasterCard\\n|position=Analyst\\n|b1=Akke\\n|b2=Blitz\\n|b3=CC&C\\n|b4=Pajkatt\\n|b5=ppd\\n}}\\n{{BroadcasterCard\\n|position=All-Star Match Commentator\\n|b1=Ayesee\\n|b2=Draskyl\\n}}\\n{{BroadcasterCard\\n|position=Content Creator\\n|b1=Hot_Bid\\n|b2=PyrionFlax\\n}}\\n{{BroadcasterCard\\n|position=Newbie Stream\\n|b1=Torte De Lini |b1flag=us |b1name=Michael Cohen\\n}}\\n{{BroadcasterCard\\n|position=EN/CN Interpreter\\n|b1=AutumnWindz\\n|b2=KBBQ\\n}}\\n{{box|break|padding=2em}}\\n{{BroadcasterCard|lang=ru\\n|position=Host\\n|b1=Faker |b1flag=ru |b1name=Ivan Demkin\\n}}\\n{{BroadcasterCard\\n|position=Observer\\n|b1=CaptainSashko|b1flag=ua |b1name=Aleksandr Halushchenko\\n|b2=4ce|b2flag=ru |b2name=Nikita Kotkov\\n|b3=Adekvat|b3flag=ru |b3name=Rustam Mavliutov\\n}}\\n{{BroadcasterCard\\n|position=Interviewer\\n|b1=AbsoKulikov |b1flag=ua |b1name=Oleg  Kulikov\\n}}\\n{{BroadcasterCard\\n|position=Analyst\\n|b1=ALWAYSWANNAFLY\\n|b2=Dread\\n|b3=fng\\n|b4=Goblak\\n|b5=Inmate\\n|b7=Smile\\n|b8=XBOCT\\n}}\\n{{BroadcasterCard\\n|position=Commentator\\n|b1=BafiK\\n|b2=CaspeRRR\\n|b3=Droog\\n|b4=GodHunt |b4flag=ru |b4name=Viktor Volkov\\n|b5=Lex |b5flag=by |b5name=Alexey Filippov\\n|b6=LighTofHeaveN\\n|b7=NS\\n|b8=v1lat\\n}}\\n{{BroadcasterCard\\n|position=EN/RU Interpreter\\n|b1=Tonya |b1flag=ua |b1name=Tonya Predko \\n}}\\n{{box|break|padding=2em}}\\n{{BroadcasterCard|lang=cn\\n|position=Host\\n|b1=78 |b1name=Du Junnan |b1flag=cn\\n|b2=BBC\\n}}\\n{{BroadcasterCard\\n|position=Commentator\\n|b1=CD |b1name=Tao Wei |b1flag=cn |b1link=CD (Tao Wei)\\n|b2=FreeAgain |b2name=Hao Peng |b2flag=cn\\n|b3=Mrrr\\n|b4=MS |b4name=Xiang Yu|b4flag=cn |b4link=MS (Xiang Yu)\\n|b5=SDN |b5name=Shi Danni |b5flag=cn\\n|b6=Wind |b6name=Wang Zhibo |b6flag=cn\\n}}\\n{{BroadcasterCard\\n|position=Analyst\\n|b1=5400\\n|b2=AA |b2name=Li Qiming |b2flag=cn |b2link=AA (Li Qiming)\\n|b3=AMS |b3name=Chen Juan |b3flag=cn\\n|b4=LaNm\\n|b5=Mikasa\\n|b6=SanSheng\\n|b7=Yaya |b7name=Chen Ya |b7flag=cn\\n|b8=Yuno |b8name=Wang Jing |b8flag=cn |b8link=Yuno (Wang Jing)\\n}}\\n{{box|end}}<br />\\n{{note|*|[[AdmiralBulldog]] was invited to be part of the English talent, but could not attend the event due to visa issues.}}<ref name=\"AdmiralBulldog denied entrance to the US\">{{cite web|url=https://justpaste.it/19l57|title=Hello so you probably know by now I got denied entrance to the US, so let\\'s just start at the beginning.|date=1 August 2017|accessdate=4 August 2017|author=[[AdmiralBulldog]]|publisher=JustPaste.it}}</ref>\\n{{note|*|[[Resolut1on]] was originally invited as a Russian analyst, but chose to compete with [[Team Empire]] after [[Chappie]] was unable to secure a visa in time.}}<ref name=\"Chappie gg\">{{cite web|url=https://vk.com/wall-48126202_660045|title=Добрый вечер, уважаемые болельщики|publisher=vk.com|date=2 August 2017}}</ref>\\n\\n==Prize Pool==\\nThe initial prize pool of the tournament was $1,600,000 {{abbr/USD}}.<br />\\nAn additional 25% of all TI 7 Battle Pass sales are added to the total prize pool.<ref name=\"TI7 Compendium\">{{cite web |url=http://www.dota2.com/international2017/battlepass/ |title=The International Battle Pass |publisher=Valve Corporation |date=5 May 2017}}</ref> These sales include compendium purchases at multiple levels and points available to level up the compendium in game.<br/>\\nThe current total prize pool is $24,787,916  ($23,187,916 added).<ref name=\"TI7 Compendium\"/> $100,000 of the prize pool is awarded to the winner of the [[The_International/2017/Special_Events|All-Star Match]].\\n{{Prize pool start |localcurrency=pcnt}}\\n{{Prize pool slot|place=1 |usdprize=10,862,683 |localprize=44% |tl |lastvs1=newbee |lastscore1=3 |lastvsscore1=0}}\\n{{Prize pool slot|place=2 |usdprize=3,950,067 |localprize=16% |newbee |lastvs1=tl |lastscore1=0 |lastvsscore1=3}}\\n{{Prize pool slot|place=3 |usdprize=2,592,231 |localprize=10.5% |lfy |lastvs1=tl |lastscore1=1 |lastvsscore1=2}}\\n{{Prize pool slot|place=4 |usdprize=1,728,154 |localprize=7% |lgd |lastvs1=tl |lastscore1=0 |lastvsscore1=2 |date1=2017-08-11}}\\n{{Prize pool slot|place=5-6 |usdprize=1,110,956 |localprize=4.5%\\n|vp |lastvs1=tl |lastscore1=1 |lastvsscore1=2 |date1=2017-08-10\\n|ig |lastvs2=lgd |lastscore2=0 |lastvsscore2=2 |date2=2017-08-11\\n}}\\n{{Prize pool slot|place=7-8 |usdprize=617,198 |localprize=2.5% |date=2017-08-10\\n|empire |lastvs1=tl |lastscore1=0 |lastvsscore1=2\\n|og |lastvs2=lgd |lastscore2=0 |lastvsscore2=2\\n}}\\n{{Prize pool slot|place=9-12 |usdprize=370,319 |localprize=1.5%\\n|secret |lastvs1=tl |lastscore1=1 |lastvsscore1=2 |date1=2017-08-08\\n|eg |lastvs2=empire |lastscore2=0 |lastvsscore2=2 |date2=2017-08-08\\n|tnc |lastvs3=og |lastscore3=0 |lastvsscore3=2 |date3=2017-08-09\\n|dc |lastvs4=lgd |lastscore4=0 |lastvsscore4=2 |date4=2017-08-09\\n}}\\n{{Prize pool slot|place=13-16 |usdprize=123,440 |localprize=0.5% |date=2017-08-07\\n|xctn |lastvs1=secret |lastscore1=0 |lastvsscore1=1\\n|c9 |lastvs2=empire |lastscore2=0 |lastvsscore2=1\\n|infamous |lastvs3=og |lastscore3=0 |lastvsscore3=1\\n|igv |lastvs4=dc|lastscore4=0 |lastvsscore4=1\\n}}\\n{{Prize pool slot|place=17-18 |usdprize=61,720  |localprize=0.25% |date=2017-08-05\\n|fnatic |wdl1=0/2/6\\n|hr |wdl2=0/1/7\\n}}\\n{{Prize pool end}}\\n\\n==Participants==\\n{{TeamCardToggleButton}}\\n===Invited Teams===\\n<div style=\"display:table; width:100%; max-width:1600px;\"><div class=\"row\">\\n<div class=\"col-sm-4 col-md-3 col-lg-2\">\\n{{TeamCard\\n|team=OG\\n|p1=n0tail\\n|p2=ana\\n|p3=s4\\n|p4=JerAx\\n|p5=Fly\\n|c=7ckngMad\\n|qualifier=Invited\\n|preview=http://www.liquiddota.com/forum/ti7/525070-the-international-2017-og\\n|placement=9-12\\n|placementicon={{LeagueIconSmall/ti|The International 2016}}\\n}}\\n</div><!-- col-sm-4 col-md-3 col-lg-2 -->\\n<div class=\"col-sm-4 col-md-3 col-lg-2\">\\n{{TeamCard\\n|team=Virtus.pro\\n|p1=RAMZES666\\n|p2=No[o]ne |p2link=Noone\\n|p3=9pasha\\n|p4=Lil\\n|p5=Solo\\n|c=Artstyle\\n|qualifier=Invited\\n|preview=http://www.liquiddota.com/forum/ti7/525046-the-international-2017-vp\\n|placement=5-6\\n|placementicon={{LeagueIconSmall/ti|The International 2015}}\\n}}\\n</div><!-- col-sm-4 col-md-3 col-lg-2 -->\\n<div class=\"col-sm-4 col-md-3 col-lg-2\">\\n{{TeamCard\\n|team=Evil Geniuses\\n|p1=Arteezy\\n|p2=SumaiL\\n|p3=UNiVeRsE\\n|p4=zai\\n|p5=Cr1t-\\n|c=Fear\\n|c2=SVG\\n|qualifier=Invited\\n|preview=http://www.liquiddota.com/forum/ti7/524860-the-international-2017-evil-geniuses\\n|placement=1\\n|placementicon={{LeagueIconSmall/ti|The International 2015}}\\n}}\\n</div><!-- col-sm-4 col-md-3 col-lg-2 -->\\n<div class=\"col-sm-4 col-md-3 col-lg-2\">\\n{{TeamCard\\n|team=Team Liquid\\n|p1=MATUMBAMAN\\n|p2=Miracle-\\n|p3=MinD_ContRoL\\n|p4=GH\\n|p5=KuroKy\\n|c=Heen\\n|qualifier=Invited\\n|preview=http://www.liquiddota.com/forum/ti7/525174-the-international-2017-team-liquid\\n|placement=7-8\\n|placementicon={{LeagueIconSmall/ti|The International 2016}}\\n}}\\n</div><!-- col-sm-4 col-md-3 col-lg-2 -->\\n<div class=\"clearfix visible-md-block\"></div>\\n<div class=\"col-sm-4 col-md-3 col-lg-2\">\\n{{TeamCard\\n|team=Invictus Gaming\\n|p1=BurNIng\\n|p2=Op\\n|p3=Xxs\\n|p4=BoBoKa\\n|p5=Q\\n|c=rOtK\\n|qualifier=Invited\\n|preview=http://www.liquiddota.com/forum/ti7/524935-the-international-2017-ig\\n|placement=1\\n|placementicon={{LeagueIconSmall/ti|The International 2012}}\\n}}\\n</div><!-- col-sm-4 col-md-3 col-lg-2 -->\\n<div class=\"col-sm-4 col-md-3 col-lg-2\">\\n{{TeamCard\\n|team=Newbee\\n|p1=Moogy\\n|p2=Sccc\\n|p3=kpii\\n|p4=Kaka\\n|p5=Faith\\n|qualifier=Invited\\n|preview=http://www.liquiddota.com/forum/ti7/524830-the-international-2017-newbee\\n|placement=1\\n|placementicon={{LeagueIconSmall/ti|The International 2014}}\\n}}\\n</div><!-- col-sm-4 col-md-3 col-lg-2 -->\\n</div><!-- row --> \\n</div>\\n\\n===Qualified Teams===\\n<div style=\"display:table; width:100%; max-width:1600px;\"><div class=\"row\">\\n<div class=\"col-sm-4 col-md-3 col-lg-2\">\\n{{TeamCard\\n|team=Team Secret\\n|p1=MP\\n|p2=MidOne\\n|p3=KheZu\\n|p4=YapzOr\\n|p5=Puppey\\n|c=SunBhie\\n|qualifier=[[The International/2017/Main Qualifiers/Europe|Europe Qualifier]]\\n|preview=http://www.liquiddota.com/forum/ti7/525115-the-international-2017-team-secret\\n|placement=7-8\\n|placementicon={{LeagueIconSmall/ti|The International 2015}}\\n}}\\n</div><!-- col-sm-4 col-md-3 col-lg-2 -->\\n<div class=\"col-sm-4 col-md-3 col-lg-2\">\\n{{TeamCard\\n|team=HellRaisers|notes=1\\n|p1=Swiftending\\n|p2=Keyser\\n|p3=33\\n|p4=MiLAN\\n|p5=j4\\n|c=Saksa\\n|qualifier=[[The International/2017/Main Qualifiers/Europe|Europe Qualifier]]\\n|preview=http://www.liquiddota.com/forum/ti7/525220-the-international-2017-hellraisers\\n|placement=-\\n|placementicon=\\n}}\\n</div><!-- col-sm-4 col-md-3 col-lg-2 -->\\n<div class=\"col-sm-4 col-md-3 col-lg-2\">\\n{{TeamCard\\n|team=Team Empire |notes=3\\n|p1=Resolut1on\\n|p2=fn\\n|p3=Ghostik\\n|p4=RodjER\\n|p5=Miposhka\\n|c=JotM\\n|qualifier=[[The International/2017/Main Qualifiers/CIS|CIS Qualifier]]\\n|preview=http://www.liquiddota.com/forum/ti7/525278-the-international-2017-team-empire\\n|placement=9-12\\n|placementicon={{LeagueIconSmall/ti|The International 2015}}\\n}}\\n</div><!-- col-sm-4 col-md-3 col-lg-2 -->\\n<div class=\"col-sm-4 col-md-3 col-lg-2\">\\n{{TeamCard\\n|team=iG Vitality\\n|p1=Paparazi灬\\n|p2=Sakata\\n|p3=InJuly\\n|p4=super |p4link=super (Su Peng)\\n|p5=dogf1ghts\\n|qualifier=[[The International/2017/Main Qualifiers/China|China Qualifier]]\\n|preview=http://www.liquiddota.com/forum/ti7/525011-the-international-2017-igv\\n|placement=-\\n|placementicon=\\n}}\\n</div><!-- col-sm-4 col-md-3 col-lg-2 -->\\n<div class=\"col-sm-4 col-md-3 col-lg-2\">\\n{{TeamCard\\n|team=LGD.Forever Young\\n|p1=Monet\\n|p2=Super\\n|p3=Inflame\\n|p4=Ahfu\\n|p5=ddc\\n|c=Banana\\n|qualifier=[[The International/2017/Main Qualifiers/China|China Qualifier]]\\n|preview=http://www.liquiddota.com/forum/ti7/524907-the-international-2017-lfy\\n|placement=-\\n|placementicon=\\n}}\\n</div><!-- col-sm-4 col-md-3 col-lg-2 -->\\n<div class=\"col-sm-4 col-md-3 col-lg-2\">\\n{{TeamCard\\n|team=LGD Gaming\\n|p1=Ame\\n|p2=Somnus丶M\\n|p3=eLeVeN\\n|p4=Yao\\n|p5=Victoria\\n|c=QQQ\\n|qualifier=[[The International/2017/Main Qualifiers/China|China Qualifier]]\\n|preview=http://www.liquiddota.com/forum/ti7/525199-the-international-2017-lgd\\n|placement=3\\n|placementicon={{LeagueIconSmall/ti|The International 2015}}\\n}}\\n</div><!-- col-sm-4 col-md-3 col-lg-2 -->\\n<div class=\"col-sm-4 col-md-3 col-lg-2\">\\n{{TeamCard\\n|team=TNC Pro Team\\n|p1=Raven\\n|p2=Kuku\\n|p3=Sam_H\\n|p4=Tims\\n|p5=1437\\n|c=Kipspul\\n|qualifier=[[The International/2017/Main Qualifiers/Southeast Asia|Southeast Asia Qualifier]]\\n|preview=http://www.liquiddota.com/forum/ti7/525030-the-international-2017-tnc\\n|placement=7-8\\n|placementicon={{LeagueIconSmall/ti|The International 2016}}\\n}}\\n</div><!-- col-sm-4 col-md-3 col-lg-2 -->\\n<div class=\"col-sm-4 col-md-3 col-lg-2\">\\n{{TeamCard\\n|team=Fnatic\\n|p1=Ahjit\\n|p2=QO\\n|p3=Ohaiyo\\n|p4=Febby\\n|p5=DJ\\n|c=ADTR\\n|qualifier=[[The International/2017/Main Qualifiers/Southeast Asia|Southeast Asia Qualifier]]\\n|preview=http://www.liquiddota.com/forum/ti7/525139-the-international-2017-fnatic\\n|placement=4\\n|placementicon={{LeagueIconSmall/ti|The International 2016}}\\n}}\\n</div><!-- col-sm-4 col-md-3 col-lg-2 -->\\n<div class=\"col-sm-4 col-md-3 col-lg-2\">\\n{{TeamCard\\n|team=Execration\\n|p1=Nando\\n|p2=CartMaN\\n|p3=Bimbo\\n|p4=RR\\n|p5=Kim0\\n|qualifier=[[The International/2017/Main Qualifiers/Southeast Asia|Southeast Asia Qualifier]]\\n|preview=http://www.liquiddota.com/forum/ti7/525247-the-international-2017-execration\\n|placement=-\\n}}\\n</div><!-- col-sm-4 col-md-3 col-lg-2 -->\\n<div class=\"col-sm-4 col-md-3 col-lg-2\">\\n{{TeamCard\\n|team=Cloud9 |notes=2\\n|p1=EternaLEnVy\\n|p2=FATA-\\n|p3=MSS\\n|p4=Aui_2000\\n|p5=pieliedie\\n|c=Stan King\\n|qualifier=[[The International/2017/Main Qualifiers/North America|North America Qualifier]]\\n|preview=http://www.liquiddota.com/forum/ti7/524880-the-international-2017-np\\n|placement=5-6\\n|placementicon={{LeagueIconSmall/ti|The International 2014}}\\n}}\\n</div><!-- col-sm-4 col-md-3 col-lg-2 -->\\n<div class=\"col-sm-4 col-md-3 col-lg-2\">\\n{{TeamCard\\n|team=Digital Chaos\\n|p1=mason\\n|p2=Abed\\n|p3=Forev\\n|p4=BuLba\\n|p5=DuBu\\n|c=Brax\\n|qualifier=[[The International/2017/Main Qualifiers/North America|North America Qualifier]]\\n|preview=http://www.liquiddota.com/forum/ti7/524975-the-international-2017-dc\\n|placement=2\\n|placementicon={{LeagueIconSmall/ti|The International 2016}}\\n}}\\n</div><!-- col-sm-4 col-md-3 col-lg-2 -->\\n<div class=\"col-sm-4 col-md-3 col-lg-2\">\\n{{TeamCard\\n|team=Infamous\\n|p1=Benjaz\\n|p2=Timado\\n|p3=Kingteka\\n|p4=Matthew\\n|p5=Accel\\n|qualifier=[[The International/2017/Main Qualifiers/South America|South America Qualifier]]\\n|preview=http://www.liquiddota.com/forum/ti7/524955-the-international-2017-infamous\\n|placement=-\\n|placementicon=\\n}}\\n</div><!-- col-sm-4 col-md-3 col-lg-2 -->\\n</div><!-- row -->\\n</div>\\n{{noteBig\\n|n1=\\'\\'\\'[[Hellraisers]]\\'\\'\\' signed \\'\\'\\'[[Planet Dog]]\\'\\'\\' on July 20th.<ref name=\"HellRaisers 2017 roster\">{{cite web|url=http://hellraisers.pro/en/news/4789-hellraisers-sign-dota-2-roster |title=HellRaisers sign Dota 2 roster! |publisher=hellraisers.pro |date=20 July 2017 |accessdate=20 July 2017}}</ref>\\n|n2=\\'\\'\\'[[Cloud9]]\\'\\'\\' signed \\'\\'\\'[[Team NP]]\\'\\'\\' on July 20th.<ref name=\"NP new C9\">{{cite web|url=https://twitter.com/Cloud9/status/888200521579757568 |title=Welcome @EternaLEnVy1991, @MSSDota, @PieLieDieDota, @Aui_2000, and @LiquidFATA back to the #C9DOTA2 roster! |publisher=@Cloud9 |date=20 July 2017 |accessdate=20 July 2017}}</ref>\\n|n3={{player|Chappie|flag=ru}} was unable to secure a visa. He was replaced by {{player|Resolut1on|flag=ua}}.<ref name=\"Chappie gg\" />\\n}}\\n\\n==Results==\\n===Group Stage===\\n{{box|start|padding=4em}}\\n====Group A====\\n{{#section:The_International/2017/Group_Stage|GroupA}}\\n{{box|break|padding=4em}}\\n====Group B====\\n{{#section:The_International/2017/Group_Stage|GroupB}}\\n{{box|break|padding=4em}}\\n<table class=\"table table-bordered\" style=\"margin-top:49px;\"><tr><th>Color key</th></tr>\\n<tr style=\"background-color:{{Color|up}};\"><td>Upper Bracket Seed</td></tr>\\n<tr style=\"background-color:{{Color|staydown}};\"><td>Lower Bracket Seed</td></tr>\\n<tr style=\"background-color:{{Color|down}};\"><td>Eliminated</td></tr></table>\\n{{box|end}}\\n<br/>\\n<span style=\"line-height:24px\">&nbsp;\\'\\'[[The_International/2017/Group_Stage|Click here for more information about the Group Stage matches.]]\\'\\'</span>\\n\\n===Main Event===\\n{{:The_International/2017/Main Event}}\\n\\n==Additional Data==\\n===Country Representation===\\n{| class=\"sortable wikitable\" style=\"text-align:right;\"\\n!class=\"unsortable\"| #\\n! Country / Region\\n! #P\\n! ΔTI6\\n!class=\"unsortable\"| Players\\n|-\\n| 1\\n|align=left| {{flag/cn}} China\\n| 22\\n| +1\\n|align=left| [[Ame]], [[BoBoKa]], [[BurNIng]], [[dogf1ghts]], [[eLeVeN]], [[Faith]], [[Inflame]], [[InJuly]], [[Kaka]], [[Maybe]], [[Monet]], [[Moogy]], [[Op]], [[Paparazi灬]], [[Q]], [[Sakata]], [[Sccc]], [[Super_(Su_Peng)|super]], [[Super]], [[Victoria]], [[Xxs]], [[Yao]] \\n|-\\n| 2\\n|align=left| {{flag/ph}} Philippines\\n| 11\\n| +1\\n|align=left| [[Abed]], [[Bimbo]], [[CartMaN]], [[DJ]], [[Kim0]], [[Kuku]], [[Nando]], [[Raven]], [[RR]], [[Sam_H]], [[Tims]]\\n|-\\n| 3\\n|align=left| {{flag/ru}} Russia\\n| 5\\n| +3\\n|align=left| [[9pasha]], [[Miposhka]], [[RAMZES666]], [[RodjER]], [[Solo]]\\n|-\\n| 3\\n|align=left| {{flag/pe}} Peru\\n| 5\\n| +5\\n|align=left| [[Accel]], [[Benjaz]], [[Kingteka]], [[Matthew]], [[Timado]]\\n|-\\n| 3\\n|align=left| {{flag/kr}} South Korea\\n| 5\\n| 0\\n|align=left| [[DuBu]], [[Febby]], [[Forev]], [[MP]], [[QO]]\\n|-\\n| 3\\n|align=left| {{flag/ua}} Ukraine\\n| 5\\n| +1\\n|align=left| [[fn]], [[Ghostik]], [[Lil]], [[Noone|No[o]ne]], [[Resolut1on]]\\n|-\\n| 7\\n|align=left| {{flag/ca}} Canada\\n| 4\\n| +1\\n|align=left| [[1437]], [[Arteezy]], [[Aui_2000]], [[EternaLEnVy]]\\n|-\\n| 7\\n|align=left| {{flag/my}} Malaysia\\n| 4\\n| -1\\n|align=left| [[Ahfu]], [[Ahjit]], [[MidOne]], [[Ohaiyo]] \\n|-\\n| 7\\n|align=left| {{flag/us}} United States of America\\n| 4\\n| -4\\n|align=left| [[BuLba]], [[mason]], [[MSS]],  [[UNiVeRsE]]\\n|-\\n| 10\\n|align=left| {{flag/se}} Sweden\\n| 3\\n| -8\\n|align=left| [[pieliedie]], [[s4]], [[zai]] \\n|-\\n| 10\\n|align=left| {{flag/de}} Germany\\n| 3\\n| -1\\n|align=left| [[FATA-]], [[KheZu]], [[KuroKy]]\\n|-\\n| 12\\n|align=left| {{flag/au}} Australia\\n| 2\\n| +1\\n|align=left| [[ana]], [[kpii]]\\n|-\\n| 12\\n|align=left| {{flag/dk}} Denmark\\n| 2\\n| -2\\n|align=left| [[Cr1t-]], [[N0tail]]\\n|-\\n| 12\\n|align=left| {{flag/fi}} Finland\\n| 2\\n| 0\\n|align=left| [[JerAx]], [[MATUMBAMAN]]\\n|-\\n| 12\\n|align=left| {{flag/il}} Israel\\n| 2\\n| +1\\n|align=left| [[Fly]], [[33]]\\n|-\\n| 12\\n|align=left| {{flag/jo}} Jordan\\n| 2\\n| 0\\n|align=left| [[Miracle-]], [[YapzOr]]\\n|-\\n| 17\\n|align=left| {{flag/by}} Belarus\\n| 1\\n| +1\\n|align=left| [[j4]]\\n|-\\n| 17\\n|align=left| {{flag/ba}} Bosnia & Herzegovina\\n| 1\\n| +1\\n|align=left| [[MiLAN]]\\n|-\\n| 17\\n|align=left| {{flag/bg}} Bulgaria\\n| 1\\n| 0\\n|align=left| [[MinD_ContRoL]]\\n|-\\n| 17\\n|align=left| {{flag/estonia}} Estonia\\n| 1\\n| 0\\n|align=left| [[Puppey]]\\n|-\\n| 17\\n|align=left| {{flag/gr}} Greece\\n| 1\\n| +1\\n|align=left| [[Keyser]]\\n|-\\n| 17\\n|align=left| {{flag/lb}} Lebanon\\n| 1\\n| +1\\n|align=left| [[GH]]\\n|-\\n| 17\\n|align=left| {{flag/mo}} Macau\\n| 1\\n| 0\\n|align=left| [[DDC]]\\n|-\\n| 17\\n|align=left| {{flag/pk}} Pakistan\\n| 1\\n| 0\\n|align=left| [[SumaiL]]\\n|-\\n| 17\\n|align=left| {{flag/rs}} Serbia\\n| 1\\n| +1\\n|align=left| [[Swiftending]]\\n|-\\n|}\\n\\n==Additional Content==\\n===Streams===\\n*{{flag/usuk}} {{flag/ru}} {{flag/cn}} [http://www.dota2.com/international/live/ The International live menu on Dota2.com]\\n*{{flag/br}} [https://www.twitch.tv/dota2ti_pt Dota 2 TI portuguese]\\n*{{flag/es}} [https://www.twitch.tv/dota2ti_es Dota 2 TI spanish]\\n*{{flag/fr}} [https://www.twitch.tv/froggedtv FroggedTV (Dire Stream - Experts)]\\n*{{flag/fr}} [http://www.ogaming.tv/stream/multigaming O\\'Gaming (Radiant Stream - Beginners)]\\n*{{flag/pl}} [https://www.twitch.tv/esportnow ESPORT NOW]\\n*{{flag/ph}} [https://www.twitch.tv/mineskitv MineskiTV]\\t\\n*{{flag/th}} [https://www.twitch.tv/mineskitv_th MineskiTV_TH]\\n*{{flag/vn}} [https://www.twitch.tv/23creativevn 23Creative VN]\\n*{{flag/tr}} [https://www.twitch.tv/canko Pretty High TR]\\n*{{flag/de}} [https://www.twitch.tv/saphiratv SaphiraTV]\\n\\n===VODs===\\n*{{flag/usuk}} [http://www.dota2.com/international/replays/ Official Replays]\\n*{{flag/usuk}} [https://www.youtube.com/user/dota2/videos dota2] on Youtube.com\\n\\n===Previews===\\n{{ColumnStart|width=38em|padding=2em}}\\n\\'\\'\\'LiquidDota.com\\'\\'\\'\\n*{{ExternalMediaLink|date=2017-07-15|link=http://www.liquiddota.com/forum/ti7/524830-the-international-2017-newbee |title=The International 2017 - Newbee |by=OmniEulogy}}\\n*{{ExternalMediaLink|date=2017-07-16|link=http://www.liquiddota.com/forum/ti7/524860-the-international-2017-evil-geniuses |title=The International 2017 - Evil Geniuses |by=Yamato}}\\n*{{ExternalMediaLink|date=2017-07-17|link=http://www.liquiddota.com/forum/ti7/524880-the-international-2017-np |title=The International 2017 - NP |by=2009}}\\n*{{ExternalMediaLink|date=2017-07-18|link=http://www.liquiddota.com/forum/ti7/524907-the-international-2017-lfy |title=The International 2017 - LFY |by=kollin}}\\n*{{ExternalMediaLink|date=2017-07-19|link=http://www.liquiddota.com/forum/ti7/524935-the-international-2017-ig |title=The International 2017 - IG |by=Shrinkzxo}}\\n*{{ExternalMediaLink|date=2017-07-20|link=http://www.liquiddota.com/forum/ti7/524955-the-international-2017-infamous |title=The International 2017 - Infamous |by=uberxD}}\\n*{{ExternalMediaLink|date=2017-07-21|link=http://www.liquiddota.com/forum/ti7/524975-the-international-2017-dc |title=The International 2017 - DC |by=DoctorHeckle}}\\n*{{ExternalMediaLink|date=2017-07-22|link=http://www.liquiddota.com/forum/ti7/525011-the-international-2017-igv |title=The International 2017 - IG.V |by=OmniEulogy}}\\n*{{ExternalMediaLink|date=2017-07-23|link=http://www.liquiddota.com/forum/ti7/525030-the-international-2017-tnc |title=The International 2017 - TNC |by=nighimare}}\\n*{{ExternalMediaLink|date=2017-07-24|link=http://www.liquiddota.com/forum/ti7/525046-the-international-2017-vp |title=The International 2017 - VP |by=ShiaoPi}}\\n*{{ExternalMediaLink|date=2017-07-25|link=http://www.liquiddota.com/forum/ti7/525070-the-international-2017-og |title=The International 2017 - OG |by=jdc214}}\\n*{{ExternalMediaLink|date=2017-07-26|link=http://www.liquiddota.com/forum/ti7/525115-the-international-2017-team-secret |title=The International 2017 - Team Secret |by=ChilloManiac}}\\n*{{ExternalMediaLink|date=2017-07-27|link=http://www.liquiddota.com/forum/ti7/525139-the-international-2017-fnatic |title=The International 2017 - Fnatic |by=Laplaces_imp}}\\n*{{ExternalMediaLink|date=2017-07-28|link=http://www.liquiddota.com/forum/ti7/525174-the-international-2017-team-liquid |title=The International 2017 - Team Liquid |by=uberxD}}\\n*{{ExternalMediaLink|date=2017-07-29|link=http://www.liquiddota.com/forum/ti7/525199-the-international-2017-lgd |title=The International 2017 - LGD |by=Shrinkzxo}}\\n*{{ExternalMediaLink|date=2017-07-30|link=http://www.liquiddota.com/forum/ti7/525220-the-international-2017-hellraisers |title=The International 2017 - HellRaisers |by=2009}}\\n*{{ExternalMediaLink|date=2017-07-31|link=http://www.liquiddota.com/forum/ti7/525247-the-international-2017-execration |title=The International 2017 - Execration |by=ShiaoPi}}\\n*{{ExternalMediaLink|date=2017-08-01|link=http://www.liquiddota.com/forum/ti7/525278-the-international-2017-team-empire |title=The International 2017 - Team Empire |by=DoctorHeckle}}\\n*{{ExternalMediaLink|date=2017-08-01|link=http://www.liquiddota.com/forum/ti7/525287-power-rank-the-international-2017 |title=Power Rank - The International 2017 |by=ShiaoPi, OmniEulogy, Yamato, ChilloManiac, nighimare}}\\n\\n\\'\\'\\'DOTABUFF.com\\'\\'\\'\\n*{{ExternalMediaLink|date=2017-07-26|link=https://www.dotabuff.com/blog/2017-07-26-ti-preview-na-sa-and-sea |title=TI Preview: NA, SA and SEA |by=KawaiiSocks}}\\n*{{ExternalMediaLink|date=2017-07-29|link=https://www.dotabuff.com/blog/2017-07-28-ti-preview-eu-cis--china |title=TI Preview: EU, CIS & China |by=Skim}}\\n\\n\\'\\'\\'GosuGamers.net\\'\\'\\'\\n*{{ExternalMediaLink|date=2017-07-15|link=http://www.gosugamers.net/dota2/features/44961-ti-7-profile-team-np-a-blast-from-the-past |title=TI 7 profile: Team NP a blast from the past |by=Andreea \"\\'\\'divushka\\'\\'\" Esanu}}\\n*{{ExternalMediaLink|date=2017-07-17|link=http://www.gosugamers.net/dota2/features/44976-ti-7-profile-newbee-a-team-that-can-write-history |title=TI 7 profile: Newbee a team that can write history |by=Andreea \"\\'\\'divushka\\'\\'\" Esanu}}\\n*{{ExternalMediaLink|date=2017-07-20|link=http://www.gosugamers.net/dota2/features/44991-ti-7-profile-tnc-the-sea-dream-infused-with-na-dota-magic |title=TI 7 profile: TNC, the SEA dream infused with NA Dota magic |by=Andreea \"\\'\\'divushka\\'\\'\" Esanu}}\\n*{{ExternalMediaLink|date=2017-07-24|link=http://www.gosugamers.net/dota2/features/45012-ti-7-profile-lgd-the-two-headed-dragon |title=TI 7 profile: LGD the two-headed dragon |by=Andreea \"\\'\\'divushka\\'\\'\" Esanu}}\\n*{{ExternalMediaLink|date=2017-07-26|link=http://www.gosugamers.net/dota2/features/45026-ti-7-profile-execration-the-reshuffle-kings |title=TI 7 profile: Execration, the reshuffle kings |by=Andreea \"\\'\\'divushka\\'\\'\" Esanu}}\\n*{{ExternalMediaLink|date=2017-07-27|link=http://www.gosugamers.net/dota2/features/45033-ti-7-profile-firecrackers-and-fireworks-virtus-pro-s-dazzling-display |title=TI 7 profile: Firecrackers and Fireworks - Virtus.Pro\\'s dazzling display |by=Cristy \"\\'\\'Pandoradota2\\'\\'\" Ramadani}}\\n*{{ExternalMediaLink|date=2017-07-27|link=http://www.gosugamers.net/dota2/features/45037-ti-7-profile-digital-chaos-indeed|title=TI 7 profile: Digital Chaos indeed  |by=Andreea \"\\'\\'divushka\\'\\'\" Esanu}}\\n*{{ExternalMediaLink|date=2017-07-27|link=http://www.gosugamers.net/dota2/features/45041-ti-7-profile-og-and-their-tryst-with-the-aegis|title=TI 7 Profile: OG and their tryst with the Aegis  |by=Siddharth \"\\'\\'Gopya\\'\\'\" Gopujkar}}\\n*{{ExternalMediaLink|date=2017-07-28|link=http://www.gosugamers.net/dota2/features/45044-ti7-profile-rebuilding-an-empire |title=TI7 profile: Rebuilding an Empire |by=Cristy \"\\'\\'Pandoradota2\\'\\'\" Ramadani}}\\n*{{ExternalMediaLink|date=2017-07-29|link=http://www.gosugamers.net/dota2/features/45058-ti-7-profile-fnatic-the-unstable-concoction |title=TI 7 profile: Fnatic - The unstable concoction |by=Andreea \"\\'\\'divushka\\'\\'\" Esanu}}\\n*{{ExternalMediaLink|date=2017-07-30|link=http://www.gosugamers.net/dota2/features/45059-ti-7-profile-team-liquid-a-display-of-solidarity |title=TI 7 Profile: Team Liquid, a display of solidarity  |by=Siddharth \"\\'\\'Gopya\\'\\'\" Gopujkar}}\\n*{{ExternalMediaLink|date=2017-07-31|link=http://www.gosugamers.net/dota2/features/45065-ti-7-profile-infamous-the-trailblazers |title=TI 7 profile: Infamous, the trailblazers  |by=Andreea \"\\'\\'divushka\\'\\'\" Esanu}}\\n*{{ExternalMediaLink|date=2017-08-01|link=http://www.gosugamers.net/dota2/features/45075-ti-7-profile-hellraisers-the-clue-is-in-the-name |title=TI 7 profile: HellRaisers, the clue is in the name  |by=Andreea \"\\'\\'divushka\\'\\'\" Esanu}}\\n\\n\\'\\'\\'SirActionSlacks\\'\\'\\'\\n*{{ExternalMediaLink|date=2017-07-02|link=https://www.youtube.com/watch?v=nU-wOrljZYo |title=The International Down-Low: Team OG |by=[[SirActionSlacks]]}}\\n*{{ExternalMediaLink|date=2017-07-14|link=https://www.youtube.com/watch?v=55Uzj6nsX9s |title=The International Down-Low: Team VP |by=[[SirActionSlacks]]}}\\n*{{ExternalMediaLink|date=2017-07-20|link=https://www.youtube.com/watch?v=jA1dJ_5Pmuw |title=The International Down-Low: Team Liquid |by=[[SirActionSlacks]]}}\\n*{{ExternalMediaLink|date=2017-07-31|link=https://www.youtube.com/watch?v=tsN2qGmO0YU |title=The International Down-Low: Evil Geniuses |by=[[SirActionSlacks]]}}\\n*{{ExternalMediaLink|date=2017-08-07|link=https://www.youtube.com/watch?v=lHzFPTdCe2M |title=The International Down-Low: TNC EDITED BY REFLEKSY |by=[[SirActionSlacks]]}}\\n<br><br> <!-- To stop the list from jumping, potentially --> \\n{{ColumnEnd}}\\n\\n===Interviews===\\n{{ColumnStart|width=38em|padding=2em}}\\n====Cybersport.com====\\n*{{ExternalMediaLink|date=2017-08-06|link=https://cybersport.com/post/this-game-changed-everyone-s-life-bulba-interviewed-at-ti7|title=\"This game changed everyone\\'s life\": Bulba interviewed at TI7 |by=Artyom \"\\'\\'dfs\\'\\'\" Kutateladze}}\\n*{{ExternalMediaLink|date=2017-08-07|link=https://cybersport.com/post/mason-ti7-interview|title=Mason at TI7: \"I didn\\'t know if I wanted to <nowiki>[</nowiki>play Dota<nowiki>]</nowiki> for a living\" |by=Corey \"\\'\\'Cart\\'\\'\" Hospes}}\\n*{{ExternalMediaLink|date=2017-08-07|link=https://cybersport.com/post/7ckngmad-ti7-interview|title=7ckngMad at TI7: \"I’ve never believed in the metagame, the word to me is bullshit\" |by=Corey \"\\'\\'Cart\\'\\'\" Hospes}}\\n*{{ExternalMediaLink|date=2017-08-07|link=https://cybersport.com/post/i-might-stay-with-misery-resolut1on-interviewed-at-ti7|title=\"I might stay with MiSeRy\": Resolut1on interviewed at TI7 |by=Artyom \"\\'\\'dfs\\'\\'\" Kutateladze}}\\n*{{ExternalMediaLink|date=2017-08-07|link=https://cybersport.com/post/fly-ti7-interview|title=Fly at TI7: \"I wouldn’t call myself as ruling with an iron fist\" |by=Corey \"\\'\\'Cart\\'\\'\" Hospes}}\\n*{{ExternalMediaLink|date=2017-08-08|link=https://cybersport.com/post/capitalist-ti7-interview|title=Capitalist at TI7: \"PPD is the best possible analyst that Dota has\"|by=Corey \"\\'\\'Cart\\'\\'\" Hospes}}\\n*{{ExternalMediaLink|date=2017-08-08|link=https://cybersport.com/post/gh-at-ti7-a-bad-day-is-no-reason-to-lose-confidence|title=GH at TI7: \"A bad day is no reason to lose confidence\"|by=Corey \"\\'\\'Cart\\'\\'\" Hospes}}\\n*{{ExternalMediaLink|date=2017-08-09|link=https://cybersport.com/post/kuroky-at-ti7-sometimes-you-hit-a-wall-and-have-to-work-through-it|title=Kuroky at TI7: \"Sometimes you hit a wall and have to work through it\"|by=Corey \"\\'\\'Cart\\'\\'\" Hospes}}\\n*{{ExternalMediaLink|date=2017-08-09|link=https://cybersport.com/post/s4-ti7-interview|title=s4 at TI7: \"I\\'ve always wanted to play these mid heroes, like Puck\"|by=Corey \"\\'\\'Cart\\'\\'\" Hospes}}\\n*{{ExternalMediaLink|date=2017-08-09|link=https://cybersport.com/post/resolut1on-objective-based-dota-is-the-most-important-thing-i-learned-in-na|title=Resolut1on: \"Objective-based Dota is the most important thing I learned in NA\"|by=Corey \"\\'\\'Cart\\'\\'\" Hospes}}\\n*{{ExternalMediaLink|date=2017-08-10|link=https://cybersport.com/post/artstyle-at-ti7-it-was-chronosphere-that-killed-us|title=ArtStyle at TI7: \"It was Chronosphere that killed us\"|by=Corey \"\\'\\'Cart\\'\\'\" Hospes}}\\n*{{ExternalMediaLink|date=2017-08-10|link=https://cybersport.com/post/kimo-at-ti7-i-ve-been-waiting-to-play-on-the-big-stage-for-the-whole-year|title=Kimo at TI7: \"I\\'ve been waiting to play on the big stage for the whole year\"|by=Corey \"\\'\\'Cart\\'\\'\" Hospes}}\\n*{{ExternalMediaLink|date=2017-08-11|link=https://cybersport.com/post/lil-at-ti7-there-are-only-two-teams-we-really-want-to-beat|title=Lil at TI7: \"There are only two teams we really want to beat\"|by=Corey \"\\'\\'Cart\\'\\'\" Hospes}}\\n*{{ExternalMediaLink|date=2017-08-11|link=https://cybersport.com/post/cn-analyst-jophy-at-ti7-lfy-are-the-best-cn-team-remaining-newbee-can-t-win|title=CN analyst Jophy at TI7: \"LFY are the best CN team remaining, Newbee can\\'t win\"|by=Corey \"\\'\\'Cart\\'\\'\" Hospes}}\\n*{{ExternalMediaLink|date=2017-08-11|link=https://cybersport.com/post/stanking-at-ti7-i-want-the-coach-to-be-the-kind-of-person-who-has-very-strong-ideas-but-isn-t-very-aggressive-about-them|title=StanKing at TI7: \"I want the coach to be the kind of person who has very strong ideas but isn\\'t very aggressive about them\"|by=Corey \"\\'\\'Cart\\'\\'\" Hospes}}\\n*{{ExternalMediaLink|date=2017-08-11|link=https://cybersport.com/post/mind_control-at-ti7|title=MinD_ContRoL at TI7: \"If we get our game up, we can win the tournament\"|by=Corey \"\\'\\'Cart\\'\\'\" Hospes}}\\n\\n====GosuGamers.net====\\n*{{ExternalMediaLink|date=2017-08-07|link=http://www.gosugamers.net/dota2/features/45102-team-liquid-gh-interview-teammates-made-my-transition-into-a-professional-player-really-easy |title=Team Liquid - GH Interview: \"Teammates made my transition into a professional player really easy” |by=Siddharth \"\\'\\'Gopya\\'\\'\" Gopujkar}}\\n*{{ExternalMediaLink|date=2017-08-07|link=http://www.gosugamers.net/dota2/features/45103-ti-7-interview-with-og-s-n0tail-we-are-aiming-for-a-lower-bracket-run-to-the-aegis |title=TI 7 Interview with OG’s N0taiL: \"We are aiming for a lower bracket run to the Aegis\" |by=Siddharth \"\\'\\'Gopya\\'\\'\" Gopujkar}}\\n*{{ExternalMediaLink|date=2017-08-07|link=http://www.gosugamers.net/dota2/features/45105-forev-interview-from-ti-7-i-think-lfy-will-win-this |title=Forev Interview from TI 7: “I think LFY will win this“ |by=Andreea \"\\'\\'divushka\\'\\'\" Esanu}}\\n*{{ExternalMediaLink|date=2017-08-07|link=http://www.gosugamers.net/dota2/features/45113-interview-with-tnc-coach-kipspul-playing-against-lfy-will-be-a-worthy-challenge |title=Interview with TNC coach Kipspul: \"Playing against LFY will be a worthy challenge\" |by=Siddharth \"\\'\\'Gopya\\'\\'\" Gopujkar}}\\n*{{ExternalMediaLink|date=2017-08-08|link=http://www.gosugamers.net/dota2/features/45114-ti7-interview-with-eg-s-cr1t-we-are-happy-to-make-it-to-the-upper-bracket |title=TI7 Interview with EG\\'s Cr1t: \"We are happy to make it to the upper bracket.\" |by=Viktor \"\\'\\'vviki\\'\\'\" Ahilov }}\\n*{{ExternalMediaLink|date=2017-08-08|link=http://www.gosugamers.net/dota2/features/45119-ti-7-interview-with-virtus-pro-s-9pasha-we-are-not-in-our-best-form |title=TI 7 Interview with Virtus.Pro’s 9pasha: “We are not in our best form” |by=Andreea \"\\'\\'divushka\\'\\'\" Esanu}}\\n*{{ExternalMediaLink|date=2017-08-09|link=http://www.gosugamers.net/dota2/features/45125-interview-with-tortedelini-all-the-work-i-ve-done-is-purely-based-on-my-passion-for-dota-2 |title=Interview with TorteDeLini: \"All the work I\\'ve done is purely based on my passion for Dota 2\" |by=Siddharth \"\\'\\'Gopya\\'\\'\" Gopujkar}}\\n\\n====LiquidDota====\\n*{{ExternalMediaLink|date=2017-08-07|link=http://www.liquiddota.com/forum/ti7/525482-ti7-interview-matumbaman|title=Matumbaman: \"I\\'m more mature this time around.\"|by=Jesper \"\\'\\'Julmust\\'\\'\" Bergeskans}}\\n*{{ExternalMediaLink|date=2017-08-08|link=http://www.liquiddota.com/forum/ti7/525554-ti7-interview-tncraven|title=Raven: \"we don\\'t have a \"natural\" captain in our team.\"|by=Jesper \"\\'\\'Julmust\\'\\'\" Bergeskans}}\\n*{{ExternalMediaLink|date=2017-08-08|link=http://www.liquiddota.com/forum/ti7/525564-ti7-interview-egcr1t|title=Cr1t: \" if I want to rely on somebody, I\\'d rather just rely on myself\"|by=Jesper \"\\'\\'Julmust\\'\\'\" Bergeskans}}\\n*{{ExternalMediaLink|date=2017-08-08|link=http://www.liquiddota.com/forum/ti7/525557-ti7-interview-vplil|title=Lil: \"Right now there is a big gap between teams in Dota.\"|by=Jesper \"\\'\\'Julmust\\'\\'\" Bergeskans}}\\n\\n====Valve====\\n*{{ExternalMediaLink|date=2017-08-07|link=https://www.youtube.com/watch?v=_L235T3Nsjk|title=TI7 Team Secret Interview |by=Kaci Aitchison}}\\n*{{ExternalMediaLink|date=2017-08-07|link=https://www.youtube.com/watch?v=_kyKPZsytCs|title=TI7 Execration Team Interview |by=Kaci Aitchison}}\\n*{{ExternalMediaLink|date=2017-08-07|link=https://www.youtube.com/watch?v=QKVR1GqeeK0|title=TI7 Cloud9 Team Interview |by=Kaci Aitchison}}\\n*{{ExternalMediaLink|date=2017-08-07|link=https://www.youtube.com/watch?v=_Q4cG9iZgS8|title=TI7 Team Empire Interview |by=Kaci Aitchison}}\\n*{{ExternalMediaLink|date=2017-08-07|link=https://www.youtube.com/watch?v=2hQWWzPUiEo|title=TI7 Infamous Team Interview |by=Kaci Aitchison}}\\n*{{ExternalMediaLink|date=2017-08-07|link=https://www.youtube.com/watch?v=69BsZ5kXhWs|title=TI7 OG Team Interview |by=Kaci Aitchison}}\\n*{{ExternalMediaLink|date=2017-08-07|link=https://www.youtube.com/watch?v=jI8UpJwKYuI|title=TI7 IG Vitality Team Interview |by=Kaci Aitchison}}\\n*{{ExternalMediaLink|date=2017-08-07|link=https://www.youtube.com/watch?v=g-mv63wuzko|title=TI7 Digital Chaos Team Interview |by=Kaci Aitchison}}\\n*{{ExternalMediaLink|date=2017-08-07|link=https://www.youtube.com/watch?v=eTEzfkJ0apI|title=TI7 Fnatic Team Interview |by=Kaci Aitchison}}\\n*{{ExternalMediaLink|date=2017-08-07|link=https://www.youtube.com/watch?v=jDLaxUVLnkk|title=TI7 Hellraisers Team Interview |by=Kaci Aitchison}}\\n*{{ExternalMediaLink|date=2017-08-08|link=https://www.youtube.com/watch?v=PqHOnpZKBM4|title=TI7 TNC Pro Gaming Team Interview |by=Kaci Aitchison}}\\n*{{ExternalMediaLink|date=2017-08-08|link=https://www.youtube.com/watch?v=WR_se9AKHLY|title=TI7 LFY Team Interview |by=Kaci Aitchison}}\\n*{{ExternalMediaLink|date=2017-08-08|link=https://www.youtube.com/watch?v=0tXMALMdTPM|title=TI7 Evil Geniuses Team Interview |by=Kaci Aitchison}}\\n*{{ExternalMediaLink|date=2017-08-09|link=https://www.youtube.com/watch?v=aGJWNQ7Qb0c|title=TI7 LGD Team Interview |by=Kaci Aitchison}}\\n*{{ExternalMediaLink|date=2017-08-09|link=https://www.youtube.com/watch?v=_23t4OczcxM|title=TI7 Newbee Team Interview |by=Kaci Aitchison}}\\n*{{ExternalMediaLink|date=2017-08-09|link=https://www.youtube.com/watch?v=NmTEHRUuCJQ|title=TI7 Invictus Gaming Team Interview |by=Kaci Aitchison}}\\n*{{ExternalMediaLink|date=2017-08-09|link=https://www.youtube.com/watch?v=UsF3wh-_MaE|title=TI7 Virtus.Pro Team Interview |by=Kaci Aitchison}}\\n*{{ExternalMediaLink|date=2017-08-10|link=https://www.youtube.com/watch?v=lXTRl61_enY|title=TI7 Team Liquid Interview |by=Kaci Aitchison}}\\n{{ColumnEnd}}\\n\\n===Miscellaneous===\\n{{ColumnStart|width=38em|padding=2em}}\\n*{{ExternalMediaLink|date=2017-08-07|link=https://www.youtube.com/watch?v=dl8t68ozAgk|title=The International 2017 - Show Open|by=Valve}}\\n*{{ExternalMediaLink|date=2017-08-07|link=https://www.youtube.com/watch?v=f-Ad0JrdrzY|title=TI7 Day9 Interrogation|by=Valve}}\\n*{{ExternalMediaLink|date=2017-08-07|link=https://www.youtube.com/watch?v=b61FCGMQUFA|title=Wings: TI6 Champions|by=Valve}}\\n*{{ExternalMediaLink|date=2017-08-07|link=https://www.youtube.com/watch?v=ddrr2dblO-s|title=TI7 PPD Future|by=Valve}}\\n*{{ExternalMediaLink|date=2017-08-08|link=https://www.youtube.com/watch?v=cPNSSL_AMhI|title=TI7 Hometown Tour with Kaci and Slacks|by=Valve}}\\n*{{ExternalMediaLink|date=2017-08-08|link=https://www.youtube.com/watch?v=Z-Bh7VfTcig|title=The International 2017 - Show Open (Outtakes)|by=Valve}}\\n*{{ExternalMediaLink|date=2017-08-08|link=https://www.youtube.com/watch?v=Os8aLt6j_Ks|title=TI7 A Journey Through TI With UNiVeRsE|by=Valve}}\\n*{{ExternalMediaLink|date=2017-08-08|link=https://www.youtube.com/watch?v=WdqQzq1KShw|title=TI7 Slacks and Sheever Zoo Visit|by=Valve}}\\n*{{ExternalMediaLink|date=2017-08-09|link=https://www.youtube.com/watch?v=Ra_Twtysps8|title=TI7 Opening Reel|by=Valve}}\\n*{{ExternalMediaLink|date=2017-08-09|link=https://www.youtube.com/watch?v=KHaXzPVI1As|title=TI7 Kaci Plays Dota|by=Valve}}\\n*{{ExternalMediaLink|date=2017-08-10|link=https://www.youtube.com/watch?v=aUWLTJ36fZI|title=TI7 Player Artwork|by=Valve}}\\n*{{ExternalMediaLink|date=2017-08-10|link=https://www.youtube.com/watch?v=aZ9vJ1Xm-U8|title=TI7 At the Event - Kaci\\'s Wheel of Dota |by=Valve}}\\n*{{ExternalMediaLink|date=2017-08-11|link=https://www.youtube.com/watch?v=RcK7L9MQIfE|title=TI7 Hidden Camera|by=Valve}}\\n*{{ExternalMediaLink|date=2017-08-11|link=https://www.youtube.com/watch?v=xuqvIfse5h4|title=TI7 Cosplay Review|by=Valve}}\\n*{{ExternalMediaLink|date=2017-08-11|link=https://www.youtube.com/watch?v=XgGZtVfrhhQ|title=TI7 Reinventing the Wheel |by=Valve}}\\n*{{ExternalMediaLink|date=2017-08-11|link=https://www.youtube.com/watch?v=UijbnwRkS7s|title=TI7 At the Event - Slacks Finds a Dog |by=Valve}}\\n*{{ExternalMediaLink|date=2017-08-12|link=https://www.youtube.com/watch?v=mDD0ZOFhqaU|title=TI7 At the Event - Slacks Hears Voices |by=Valve}}\\n*{{ExternalMediaLink|date=2017-08-12|link=https://www.youtube.com/watch?v=Q2tQBClRj-Y|title=TI7 Kaci Rapid Questions |by=Valve}}\\n*{{ExternalMediaLink|date=2017-08-12|link=https://www.youtube.com/watch?v=1sKRGVZxggs|title=TI7 OpenAI Bot VS Pros |by=Valve}}\\n*{{ExternalMediaLink|date=2017-09-26|link=https://www.youtube.com/watch?v=oWBDZo3axYg|title=True Sight : The International 2017 Finals |by=Valve}}\\n\\n\\'\\'\\'Recaps\\'\\'\\'\\n*{{ExternalMediaLink|date=2017-08-06|link=https://www.dotabuff.com/blog/2017-08-06-ti7-group-stage-recap-china-vs-the-world|title=TI7 Group Stage Recap: China vs. the World |by=KawaiiSocks & eggs |of=DOTABUFF.com}}\\n*{{ExternalMediaLink|date=2017-08-07|link=https://www.youtube.com/watch?v=mVthl7u3W5c|title=TI7 Group Stage Recap|by=Valve}}\\n*{{ExternalMediaLink|date=2017-08-08|link=https://www.dotabuff.com/blog/2017-08-08-ti7-main-event-day-1-recap|title=TI7 Main Event Day 1 Recap |by=Skim |of=DOTABUFF.com}}\\n*{{ExternalMediaLink|date=2017-08-08|link=https://www.youtube.com/watch?v=M1HN6XZkI6E|title=TI7 Day 1 Recap|by=Valve}}\\n*{{ExternalMediaLink|date=2017-08-09|link=https://www.dotabuff.com/blog/2017-08-09-ti7-main-event-day-2-recap--new-game-announced|title=Ti7 Main Event Day 2 Recap - New Game Announced! |by=Skim |of=DOTABUFF.com}}\\n*{{ExternalMediaLink|date=2017-08-09|link=https://www.youtube.com/watch?v=M8i37lr_MVU|title=TI7 Day 2 Recap|by=Valve}}\\n*{{ExternalMediaLink|date=2017-08-10|link=https://www.dotabuff.com/blog/2017-08-10-ti7-main-event-day-3-recap-back-to-the-roots|title=Ti7 Main Event Day 3 Recap: Back to the Roots |by=KawaiiSocks |of=DOTABUFF.com}}\\n*{{ExternalMediaLink|date=2017-08-10|link=https://www.youtube.com/watch?v=Fe6uL8XlV9g|title=TI7 Day 3 Recap|by=Valve}}\\n*{{ExternalMediaLink|date=2017-08-11|link=https://www.dotabuff.com/blog/2017-08-11-ti7-main-event-day-4-recap-last-hope-of-the-western-dota|title=TI7 Main Event Day 4 Recap: Last Hope of the Western Dota |by=KawaiiSocks |of=DOTABUFF.com}}\\n*{{ExternalMediaLink|date=2017-08-11|link=https://www.youtube.com/watch?v=LUaDXRPgiog|title=TI7 Day 4 Recap|by=Valve}}\\n*{{ExternalMediaLink|date=2017-08-12|link=https://www.dotabuff.com/blog/2017-08-12-ti7-main-event-day-5-recap-the-final-three-teams-and-two-new-heroes|title=TI7 Main Event Day 5 Recap: The Final Three Teams and Two New Heroes |by=eggs |of=DOTABUFF.com}}\\n*{{ExternalMediaLink|date=2017-08-12|link=https://www.youtube.com/watch?v=qUJIDfYbqcE|title=TI7 Day 5 Recap|by=Valve}}\\n*{{ExternalMediaLink|date=2017-08-14|link=https://www.youtube.com/watch?v=gRqOqDBx5FE|title=TI7 Day 6 Recap|by=Valve}}\\n\\n\\'\\'\\'The International Archives\\'\\'\\'\\n*{{ExternalMediaLink|date=2017-08-07|link=https://www.youtube.com/watch?v=T37HdAYefqs|title=International Archives - Dark Horse|by=Valve}}\\n*{{ExternalMediaLink|date=2017-08-11|link=https://www.youtube.com/watch?v=bKC9Ph5zdXg|title=International Archive - The Voice|by=Valve}}\\n*{{ExternalMediaLink|date=2017-08-12|link=https://www.youtube.com/watch?v=E3qVonlZ7Ms|title=International Archives - Dota Evolution|by=Valve}}\\n\\n\\'\\'\\'Not Playing Dota\\'\\'\\'\\n*{{ExternalMediaLink|date=2017-08-08|link=https://www.youtube.com/watch?v=4hrW0ODRlWo|title=TI7 Not Playing Dota With Virtus.Pro |by=Valve}}\\n*{{ExternalMediaLink|date=2017-08-09|link=https://www.youtube.com/watch?v=ip9upwsws9U|title=TI7 Not Playing Dota With UNiVeRsE and zai |by=Valve}}\\n*{{ExternalMediaLink|date=2017-08-09|link=https://www.youtube.com/watch?v=MAqShLvR8L8|title=TI7 Not Playing Dota With Ana |by=Valve}}\\n{{ColumnEnd}}\\n\\n===Player Profiles===\\n*{{teamIcon/tl}}{{ExternalMediaLink\\n|link=https://www.youtube.com/watch?v=3nQ8hoPmN6Q\\n|title=TI7 Player Profile - Miracle- Team Liquid\\n|by=Valve\\n|date=2017-08-08\\n}}\\n*{{teamIcon/og}}{{ExternalMediaLink\\n|link=https://www.youtube.com/watch?v=h93757dO6DE\\n|title=TI7 Player Profile - Ana - OG\\n|by=Valve\\n|date=2017-08-09\\n}}\\n*{{teamIcon/ig}}{{ExternalMediaLink\\n|link=https://www.youtube.com/watch?v=P3XLcxCdf2c\\n|title=TI7 Player Profile - BurNIng - IG\\n|by=Valve\\n|date=2017-08-09\\n}}\\n*{{teamIcon/vp}}{{ExternalMediaLink\\n|link=https://www.youtube.com/watch?v=sGhJR6b6XMM&t=69s\\n|title=TI7 Team Profile - Virtus.Pro\\n|by=Valve\\n|date=2017-08-09\\n}}\\n\\n==Trivia==\\n* This is the first International without the defending champion present at the event. The only previous year\\'s finalist attending is [[Resolut1on]], standing in for [[Team Empire]]\\'s [[Chappie]].\\n* [[Puppey]], [[KuroKy]] and [[DDC]] are the only players left who have competed at every single TI event as an active player. [[UNiVeRsE]] has also attended every International, but was only a sub during [[The International 2011]].\\n* [[Infamous]] is the first Peruvian and first South American organization to attend The International.\\n* During their group stage match against [[OG]], [[Newbee]] randomed their last pick [[Alchemist]] as they ran out of time.<ref>{{cite web|url=https://twitter.com/KBBQDotA/status/893183722970730496|title=From confirming source the alch was a random @Foggeddota .|date=3 August 2017|accessdate=4 August 2017|author=[[KBBQ]]|publisher=Twitter.com}}</ref>\\n* [[Team Liquid]] became the first team to win an International with a roster consisting of five different nationalities (six including their coach).<ref>{{cite web|url=https://twitter.com/LiquidNazgul/status/896601175708925954|title=Random fact that means a lot to me|date=13 August 2017|accessdate=13 August 2017|author=Victor Goossens|publisher=Twitter.com}}</ref>\\n* [[Team Liquid]] became the first team to win The International Grand Finals in a 3-0 clean sweep.\\n\\n==External links==\\n*[http://dota2.prizetrac.kr/international2017 Dota 2 Prize Pool Tracker - The International 2017]\\n*[http://www.dota2.com/international2017/announcement The International 7 Announcement Page]\\n\\n==References==\\n{{Reflist}}\\n{{The International Navbox}}\\n{{Majors Navbox |noshow=true}}\\n[[Category:Premium Leagues]]'"
      ]
     },
     "execution_count": 29,
     "metadata": {},
     "output_type": "execute_result"
    }
   ],
   "source": [
    "wiki"
   ]
  },
  {
   "cell_type": "code",
   "execution_count": 13,
   "metadata": {},
   "outputs": [],
   "source": [
    "wiki = json.get('parse').get('wikitext').get('*')"
   ]
  },
  {
   "cell_type": "code",
   "execution_count": 30,
   "metadata": {},
   "outputs": [],
   "source": [
    "team = re.findall(r'team=(\\w+\\s\\w+)\\n|p1=(.+?)\\n|p2=(.+?)\\n|p3=(.+?)\\n|p4=(.+?)\\n|p5=(.+?)\\n', wiki)"
   ]
  },
  {
   "cell_type": "code",
   "execution_count": 31,
   "metadata": {},
   "outputs": [
    {
     "data": {
      "text/plain": [
       "[('', 'n0tail', '', '', '', ''),\n",
       " ('', '', 'ana', '', '', ''),\n",
       " ('', '', '', 's4', '', ''),\n",
       " ('', '', '', '', 'JerAx', ''),\n",
       " ('', '', '', '', '', 'Fly'),\n",
       " ('', 'RAMZES666', '', '', '', ''),\n",
       " ('', '', 'No[o]ne |p2link=Noone', '', '', ''),\n",
       " ('', '', '', '9pasha', '', ''),\n",
       " ('', '', '', '', 'Lil', ''),\n",
       " ('', '', '', '', '', 'Solo'),\n",
       " ('Evil Geniuses', '', '', '', '', ''),\n",
       " ('', 'Arteezy', '', '', '', ''),\n",
       " ('', '', 'SumaiL', '', '', ''),\n",
       " ('', '', '', 'UNiVeRsE', '', ''),\n",
       " ('', '', '', '', 'zai', ''),\n",
       " ('', '', '', '', '', 'Cr1t-'),\n",
       " ('Team Liquid', '', '', '', '', ''),\n",
       " ('', 'MATUMBAMAN', '', '', '', ''),\n",
       " ('', '', 'Miracle-', '', '', ''),\n",
       " ('', '', '', 'MinD_ContRoL', '', ''),\n",
       " ('', '', '', '', 'GH', ''),\n",
       " ('', '', '', '', '', 'KuroKy'),\n",
       " ('Invictus Gaming', '', '', '', '', ''),\n",
       " ('', 'BurNIng', '', '', '', ''),\n",
       " ('', '', 'Op', '', '', ''),\n",
       " ('', '', '', 'Xxs', '', ''),\n",
       " ('', '', '', '', 'BoBoKa', ''),\n",
       " ('', '', '', '', '', 'Q'),\n",
       " ('', 'Moogy', '', '', '', ''),\n",
       " ('', '', 'Sccc', '', '', ''),\n",
       " ('', '', '', 'kpii', '', ''),\n",
       " ('', '', '', '', 'Kaka', ''),\n",
       " ('', '', '', '', '', 'Faith'),\n",
       " ('Team Secret', '', '', '', '', ''),\n",
       " ('', 'MP', '', '', '', ''),\n",
       " ('', '', 'MidOne', '', '', ''),\n",
       " ('', '', '', 'KheZu', '', ''),\n",
       " ('', '', '', '', 'YapzOr', ''),\n",
       " ('', '', '', '', '', 'Puppey'),\n",
       " ('', 'Swiftending', '', '', '', ''),\n",
       " ('', '', 'Keyser', '', '', ''),\n",
       " ('', '', '', '33', '', ''),\n",
       " ('', '', '', '', 'MiLAN', ''),\n",
       " ('', '', '', '', '', 'j4'),\n",
       " ('', 'Resolut1on', '', '', '', ''),\n",
       " ('', '', 'fn', '', '', ''),\n",
       " ('', '', '', 'Ghostik', '', ''),\n",
       " ('', '', '', '', 'RodjER', ''),\n",
       " ('', '', '', '', '', 'Miposhka'),\n",
       " ('iG Vitality', '', '', '', '', ''),\n",
       " ('', 'Paparazi灬', '', '', '', ''),\n",
       " ('', '', 'Sakata', '', '', ''),\n",
       " ('', '', '', 'InJuly', '', ''),\n",
       " ('', '', '', '', 'super |p4link=super (Su Peng)', ''),\n",
       " ('', '', '', '', '', 'dogf1ghts'),\n",
       " ('', 'Monet', '', '', '', ''),\n",
       " ('', '', 'Super', '', '', ''),\n",
       " ('', '', '', 'Inflame', '', ''),\n",
       " ('', '', '', '', 'Ahfu', ''),\n",
       " ('', '', '', '', '', 'ddc'),\n",
       " ('LGD Gaming', '', '', '', '', ''),\n",
       " ('', 'Ame', '', '', '', ''),\n",
       " ('', '', 'Somnus丶M', '', '', ''),\n",
       " ('', '', '', 'eLeVeN', '', ''),\n",
       " ('', '', '', '', 'Yao', ''),\n",
       " ('', '', '', '', '', 'Victoria'),\n",
       " ('', 'Raven', '', '', '', ''),\n",
       " ('', '', 'Kuku', '', '', ''),\n",
       " ('', '', '', 'Sam_H', '', ''),\n",
       " ('', '', '', '', 'Tims', ''),\n",
       " ('', '', '', '', '', '1437'),\n",
       " ('', 'Ahjit', '', '', '', ''),\n",
       " ('', '', 'QO', '', '', ''),\n",
       " ('', '', '', 'Ohaiyo', '', ''),\n",
       " ('', '', '', '', 'Febby', ''),\n",
       " ('', '', '', '', '', 'DJ'),\n",
       " ('', 'Nando', '', '', '', ''),\n",
       " ('', '', 'CartMaN', '', '', ''),\n",
       " ('', '', '', 'Bimbo', '', ''),\n",
       " ('', '', '', '', 'RR', ''),\n",
       " ('', '', '', '', '', 'Kim0'),\n",
       " ('', 'EternaLEnVy', '', '', '', ''),\n",
       " ('', '', 'FATA-', '', '', ''),\n",
       " ('', '', '', 'MSS', '', ''),\n",
       " ('', '', '', '', 'Aui_2000', ''),\n",
       " ('', '', '', '', '', 'pieliedie'),\n",
       " ('Digital Chaos', '', '', '', '', ''),\n",
       " ('', 'mason', '', '', '', ''),\n",
       " ('', '', 'Abed', '', '', ''),\n",
       " ('', '', '', 'Forev', '', ''),\n",
       " ('', '', '', '', 'BuLba', ''),\n",
       " ('', '', '', '', '', 'DuBu'),\n",
       " ('', 'Benjaz', '', '', '', ''),\n",
       " ('', '', 'Timado', '', '', ''),\n",
       " ('', '', '', 'Kingteka', '', ''),\n",
       " ('', '', '', '', 'Matthew', ''),\n",
       " ('', '', '', '', '', 'Accel')]"
      ]
     },
     "execution_count": 31,
     "metadata": {},
     "output_type": "execute_result"
    }
   ],
   "source": [
    "team"
   ]
  },
  {
   "cell_type": "code",
   "execution_count": 4,
   "metadata": {
    "collapsed": true
   },
   "outputs": [],
   "source": [
    "for lname, ldata in json.get('query').get('results').items():\n",
    "    po = ldata.get('printouts')\n",
    "    tnlow = re.sub(r'\\W+', '', ldata.get('fulltext')).lower()\n",
    "    tn = ldata.get('fulltext')\n",
    "    tl = ldata.get('fullurl')\n",
    "    try:\n",
    "        rg = po.get('Has region')[0]\n",
    "    except IndexError:\n",
    "        rg = 'Nan' \n",
    "    try:\n",
    "        loc = po.get('Has location')[0]\n",
    "    except IndexError:\n",
    "        loc = 'Nan'        \n",
    "    df = df.append({'link': tl, 'region': rg, 'location': loc, 'teamlow': tnlow, 'team': tn}, ignore_index=True)\n",
    "    lq.append(tnlow)"
   ]
  },
  {
   "cell_type": "code",
   "execution_count": 5,
   "metadata": {
    "collapsed": true
   },
   "outputs": [],
   "source": [
    "urldat = 'http://datdota.com/api/teams/performances?tier=1&tier=2&valve-event=does-not-matter&threshold=5&patch=7.09&patch=7.08&patch=7.07&patch=7.06&patch=7.05&patch=7.04&patch=7.03&patch=7.02&patch=7.01&patch=7.00&patch=6.88&patch=6.87&patch=6.86&patch=6.85&patch=6.84&patch=6.83&patch=6.82&patch=6.81&patch=6.80&patch=6.79&patch=6.78&patch=6.77&patch=6.76&patch=6.75&patch=6.74&winner=either&after=01%2F01%2F2011&before=20%2F02%2F2018&duration=0%3B200&duration-value-from=0&duration-value-to=200'\n",
    "htmldat = requests.get(urldat)\n",
    "htmldat.encoding = 'utf-8'\n",
    "il = yaml.load(htmldat.text)\n",
    "il = il['data']"
   ]
  },
  {
   "cell_type": "code",
   "execution_count": 6,
   "metadata": {
    "collapsed": true
   },
   "outputs": [],
   "source": [
    "da = pd.DataFrame(columns=['name'])\n",
    "dat = []"
   ]
  },
  {
   "cell_type": "code",
   "execution_count": 7,
   "metadata": {
    "collapsed": true
   },
   "outputs": [],
   "source": [
    "for l in il:\n",
    "    name = re.sub(r'\\W+', '', l['team']['name']).lower()\n",
    "    da = da.append({'name': name}, ignore_index=True)\n",
    "    dat.append(name)"
   ]
  },
  {
   "cell_type": "code",
   "execution_count": 8,
   "metadata": {
    "collapsed": true
   },
   "outputs": [],
   "source": [
    "eql = {}\n",
    "eqd = {}\n",
    "for l in lq:\n",
    "    for d in dat:\n",
    "        if d == l:\n",
    "            eql[l] = d\n",
    "            eqd[d] = l\n",
    "            l = ''\n",
    "            d = ''\n",
    "        if ((d in l) or (l in d)) and (abs(len(l) - len(d)) < 5) and ((d != '') and (l != '')):\n",
    "            eql[l] = d\n",
    "            eqd[d] = l"
   ]
  },
  {
   "cell_type": "code",
   "execution_count": 9,
   "metadata": {
    "collapsed": true
   },
   "outputs": [],
   "source": [
    "#load to check which team missing in compare dictionary\n",
    "df = pd.read_csv('data.csv', encoding = \"ISO-8859-1\")\n",
    "df = df.dropna()"
   ]
  },
  {
   "cell_type": "code",
   "execution_count": 10,
   "metadata": {
    "collapsed": true
   },
   "outputs": [],
   "source": [
    "df.team = df.team.str.replace(r'\\W+', '').str.lower()\n",
    "tdf = df.team.unique().tolist()\n",
    "tdf = sorted([re.sub(r'\\W+', '', x).lower() for x in tdf])"
   ]
  },
  {
   "cell_type": "code",
   "execution_count": 11,
   "metadata": {
    "collapsed": true
   },
   "outputs": [],
   "source": [
    "for il in set(tdf).intersection(lq):\n",
    "    tdf.remove(il)"
   ]
  },
  {
   "cell_type": "code",
   "execution_count": 12,
   "metadata": {},
   "outputs": [
    {
     "data": {
      "text/plain": [
       "['3dmax',\n",
       " 'cisgame',\n",
       " 'counterlogicgaming',\n",
       " 'denialesports',\n",
       " 'fnaticeu',\n",
       " 'forlove',\n",
       " 'ftdcluba',\n",
       " 'lvgaming',\n",
       " 'midasclubelite',\n",
       " 'moscowfive',\n",
       " 'quanticgaming',\n",
       " 'sigmaint',\n",
       " 'sneakynyxassassins',\n",
       " 'teamdk',\n",
       " 'teamunknown',\n",
       " 'teamvgj',\n",
       " 'teamzenith']"
      ]
     },
     "execution_count": 12,
     "metadata": {},
     "output_type": "execute_result"
    }
   ],
   "source": [
    "tdf"
   ]
  },
  {
   "cell_type": "code",
   "execution_count": 13,
   "metadata": {
    "collapsed": true
   },
   "outputs": [],
   "source": [
    "eql['3dmax'] = '3dmax'\n",
    "eql['cisgame'] = 'cisgame'\n",
    "eql['counterlogicgaming'] = 'counterlogicgaming'\n",
    "eql['denialesports'] = 'denialesports'\n",
    "eql['fnaticeu'] = 'fnatic'\n",
    "eql['forlove'] = 'forlove'\n",
    "eql['ftdcluba'] = 'ftdcluba'\n",
    "eql['lvgaming'] = 'lvgaming'\n",
    "eql['midasclubelite'] = 'midasclub'\n",
    "eql['moscowfive'] = 'moscowfive'\n",
    "eql['quanticgaming'] = 'quanticgaming'\n",
    "eql['sigmaint'] = 'sigmaint'\n",
    "eql['sneakynyxassassins'] = 'sneakynyxassassins'\n",
    "eql['teamdk'] = 'teamdk'\n",
    "eql['teamvgj'] = 'teamvgj'\n",
    "eql['teamzenith'] = 'zenith'\n",
    "del eql['fnaticeu']"
   ]
  },
  {
   "cell_type": "code",
   "execution_count": 23,
   "metadata": {
    "collapsed": true
   },
   "outputs": [],
   "source": [
    "def save_obj(obj, name ):\n",
    "    import pickle\n",
    "    with open('obj/'+ name + '.pkl', 'wb') as f:\n",
    "        pickle.dump(obj, f, pickle.HIGHEST_PROTOCOL)"
   ]
  },
  {
   "cell_type": "code",
   "execution_count": 26,
   "metadata": {
    "collapsed": true
   },
   "outputs": [],
   "source": [
    "save_obj(eql, 'lqtodat')"
   ]
  },
  {
   "cell_type": "code",
   "execution_count": 14,
   "metadata": {
    "collapsed": true,
    "scrolled": false
   },
   "outputs": [],
   "source": [
    "cp = pd.DataFrame.from_dict(list(eql.items()))"
   ]
  },
  {
   "cell_type": "code",
   "execution_count": 16,
   "metadata": {
    "scrolled": true
   },
   "outputs": [
    {
     "data": {
      "text/html": [
       "<div>\n",
       "<style>\n",
       "    .dataframe thead tr:only-child th {\n",
       "        text-align: right;\n",
       "    }\n",
       "\n",
       "    .dataframe thead th {\n",
       "        text-align: left;\n",
       "    }\n",
       "\n",
       "    .dataframe tbody tr th {\n",
       "        vertical-align: top;\n",
       "    }\n",
       "</style>\n",
       "<table border=\"1\" class=\"dataframe\">\n",
       "  <thead>\n",
       "    <tr style=\"text-align: right;\">\n",
       "      <th></th>\n",
       "      <th>lq</th>\n",
       "      <th>dat</th>\n",
       "    </tr>\n",
       "  </thead>\n",
       "  <tbody>\n",
       "    <tr>\n",
       "      <th>0</th>\n",
       "      <td>monkeybusiness</td>\n",
       "      <td>monkeybusiness</td>\n",
       "    </tr>\n",
       "    <tr>\n",
       "      <th>1</th>\n",
       "      <td></td>\n",
       "      <td></td>\n",
       "    </tr>\n",
       "    <tr>\n",
       "      <th>2</th>\n",
       "      <td>4friendschrillee</td>\n",
       "      <td>4friendschrillee</td>\n",
       "    </tr>\n",
       "    <tr>\n",
       "      <th>3</th>\n",
       "      <td>4protectfive</td>\n",
       "      <td>4protectfive</td>\n",
       "    </tr>\n",
       "    <tr>\n",
       "      <th>4</th>\n",
       "      <td>5jungz</td>\n",
       "      <td>5jungz</td>\n",
       "    </tr>\n",
       "  </tbody>\n",
       "</table>\n",
       "</div>"
      ],
      "text/plain": [
       "                 lq               dat\n",
       "0    monkeybusiness    monkeybusiness\n",
       "1                                    \n",
       "2  4friendschrillee  4friendschrillee\n",
       "3      4protectfive      4protectfive\n",
       "4            5jungz            5jungz"
      ]
     },
     "execution_count": 16,
     "metadata": {},
     "output_type": "execute_result"
    }
   ],
   "source": [
    "cp = cp.rename(columns={0:'lq', 1:'dat'})\n",
    "cp.head()"
   ]
  },
  {
   "cell_type": "code",
   "execution_count": 17,
   "metadata": {
    "collapsed": true
   },
   "outputs": [],
   "source": [
    "cp.to_csv('lqtodat.csv')"
   ]
  }
 ],
 "metadata": {
  "kernelspec": {
   "display_name": "Python 3",
   "language": "python",
   "name": "python3"
  },
  "language_info": {
   "codemirror_mode": {
    "name": "ipython",
    "version": 3
   },
   "file_extension": ".py",
   "mimetype": "text/x-python",
   "name": "python",
   "nbconvert_exporter": "python",
   "pygments_lexer": "ipython3",
   "version": "3.6.3"
  }
 },
 "nbformat": 4,
 "nbformat_minor": 2
}
